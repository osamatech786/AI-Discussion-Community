{
 "cells": [
  {
   "cell_type": "markdown",
   "metadata": {},
   "source": [
    "<!-- Original notebook link: https://www.kaggle.com/code/rajmehra03/a-complete-pandas-tutorial/notebook -->"
   ],
   "id": "55177edd71d785f0"
  },
  {
   "cell_type": "markdown",
   "id": "9c77857a",
   "metadata": {
    "papermill": {
     "duration": 0.027332,
     "end_time": "2022-08-23T14:02:33.373629",
     "exception": false,
     "start_time": "2022-08-23T14:02:33.346297",
     "status": "completed"
    },
    "tags": []
   },
   "source": [
    "# Complete Guide to Pandas.\n",
    "\n",
    "Hi All ✌️, writing an article on Kaggle after a very long time. \n",
    "\n",
    "In this one I try to cover all the basic **Pandas** operations. \n",
    "\n",
    "<!-- For this, I will use the Titanic dataset. I have added a few more data sources so that the kernel reaches the mass and also you can run it on those datasets without much change. -->\n",
    "\n",
    "Hope you find it useful, and if you do, make sure to drop a 👍."
   ]
  },
  {
   "cell_type": "code",
   "execution_count": null,
   "id": "92ee8cae",
   "metadata": {
    "papermill": {
     "duration": 0.024768,
     "end_time": "2022-08-23T14:02:33.423683",
     "exception": false,
     "start_time": "2022-08-23T14:02:33.398915",
     "status": "completed"
    },
    "tags": []
   },
   "outputs": [],
   "source": []
  },
  {
   "cell_type": "markdown",
   "id": "b1a36680",
   "metadata": {
    "papermill": {
     "duration": 0.02491,
     "end_time": "2022-08-23T14:02:33.473679",
     "exception": false,
     "start_time": "2022-08-23T14:02:33.448769",
     "status": "completed"
    },
    "tags": []
   },
   "source": [
    "## Table of Contents(ToC):\n",
    "\n",
    "#### 1. [The Basics](#content1)\n",
    "\n",
    "#### 2. [Creating DataFrame](#content2)\n",
    "\n",
    "#### 3. [Treating null values](#content3)\n",
    "\n",
    "#### 4. [Modify/Add new column(s).](#content4)\n",
    "\n",
    "#### 5. [Deleting columns](#content5)\n",
    "\n",
    "#### 6. [Renaming columns](#content6)\n",
    "\n",
    "#### 7.i. [Slicing DataFrame](#content7)\n",
    "\n",
    "#### 7.ii. [Slicing using iloc and loc](#content8)\n",
    "\n",
    "#### 8. [Adding a row](#content9)\n",
    "\n",
    "#### 9. [Dropping row(s)](#content10)\n",
    "\n",
    "#### 10. [Sorting](#content11)\n",
    "\n",
    "#### 11. [Joins](#content12)\n",
    "\n",
    "#### 12. [Groupby](#content13)"
   ]
  },
  {
   "cell_type": "code",
   "execution_count": null,
   "id": "71656f52",
   "metadata": {
    "papermill": {
     "duration": 0.025278,
     "end_time": "2022-08-23T14:02:33.524415",
     "exception": false,
     "start_time": "2022-08-23T14:02:33.499137",
     "status": "completed"
    },
    "tags": []
   },
   "outputs": [],
   "source": []
  },
  {
   "cell_type": "markdown",
   "id": "3d2a1e15",
   "metadata": {
    "papermill": {
     "duration": 0.025405,
     "end_time": "2022-08-23T14:02:33.576148",
     "exception": false,
     "start_time": "2022-08-23T14:02:33.550743",
     "status": "completed"
    },
    "tags": []
   },
   "source": [
    "#### Importing modules."
   ]
  },
  {
   "cell_type": "code",
   "execution_count": 1,
   "id": "8e1d629f",
   "metadata": {
    "_cell_guid": "b1076dfc-b9ad-4769-8c92-a6c4dae69d19",
    "_uuid": "8f2839f25d086af736a60e9eeb907d3b93b6e0e5",
    "execution": {
     "iopub.execute_input": "2022-08-23T14:02:33.632652Z",
     "iopub.status.busy": "2022-08-23T14:02:33.632198Z",
     "iopub.status.idle": "2022-08-23T14:02:33.643646Z",
     "shell.execute_reply": "2022-08-23T14:02:33.642834Z"
    },
    "papermill": {
     "duration": 0.040457,
     "end_time": "2022-08-23T14:02:33.645813",
     "exception": false,
     "start_time": "2022-08-23T14:02:33.605356",
     "status": "completed"
    },
    "tags": [],
    "ExecuteTime": {
     "end_time": "2023-11-08T21:39:30.154092600Z",
     "start_time": "2023-11-08T21:39:30.149078400Z"
    }
   },
   "outputs": [],
   "source": [
    "import numpy as np # linear algebra\n",
    "import pandas as pd # data processing, CSV file I/O (e.g. pd.read_csv)"
   ]
  },
  {
   "cell_type": "markdown",
   "id": "3adcc4ba",
   "metadata": {
    "papermill": {
     "duration": 0.026459,
     "end_time": "2022-08-23T14:02:33.755031",
     "exception": false,
     "start_time": "2022-08-23T14:02:33.728572",
     "status": "completed"
    },
    "tags": []
   },
   "source": [
    "#### Importing data.\n",
    "\n",
    "For this tutorial, we will use the standard Titanic Dataset."
   ]
  },
  {
   "cell_type": "code",
   "execution_count": 7,
   "id": "8cfe02d7",
   "metadata": {
    "execution": {
     "iopub.execute_input": "2022-08-23T14:02:33.811426Z",
     "iopub.status.busy": "2022-08-23T14:02:33.810597Z",
     "iopub.status.idle": "2022-08-23T14:02:33.832675Z",
     "shell.execute_reply": "2022-08-23T14:02:33.831493Z"
    },
    "papermill": {
     "duration": 0.054678,
     "end_time": "2022-08-23T14:02:33.835383",
     "exception": false,
     "start_time": "2022-08-23T14:02:33.780705",
     "status": "completed"
    },
    "tags": [],
    "ExecuteTime": {
     "end_time": "2023-11-08T21:42:52.128326Z",
     "start_time": "2023-11-08T21:42:52.057648500Z"
    }
   },
   "outputs": [],
   "source": [
    "dataset=pd.read_csv(r'e:/Proyectos/notebooks/ai-community/AI-Discussion-Community/2 Pandas_basics/titanic.csv')\n",
    "df=dataset.copy()   # make a copy of your dataset so then your original dataset will remain safe and you can quickly copy again"
   ]
  },
  {
   "cell_type": "markdown",
   "id": "c478f92e",
   "metadata": {
    "papermill": {
     "duration": 0.025149,
     "end_time": "2022-08-23T14:02:33.887099",
     "exception": false,
     "start_time": "2022-08-23T14:02:33.861950",
     "status": "completed"
    },
    "tags": []
   },
   "source": [
    "<a id=\"content1\"></a>\n",
    "## 1. The Basics"
   ]
  },
  {
   "cell_type": "code",
   "execution_count": 8,
   "id": "48656907",
   "metadata": {
    "execution": {
     "iopub.execute_input": "2022-08-23T14:02:33.943600Z",
     "iopub.status.busy": "2022-08-23T14:02:33.942471Z",
     "iopub.status.idle": "2022-08-23T14:02:33.972181Z",
     "shell.execute_reply": "2022-08-23T14:02:33.971011Z"
    },
    "papermill": {
     "duration": 0.062819,
     "end_time": "2022-08-23T14:02:33.975547",
     "exception": false,
     "start_time": "2022-08-23T14:02:33.912728",
     "status": "completed"
    },
    "tags": [],
    "ExecuteTime": {
     "end_time": "2023-11-08T21:42:56.935491900Z",
     "start_time": "2023-11-08T21:42:56.812788600Z"
    }
   },
   "outputs": [
    {
     "data": {
      "text/plain": "   PassengerId  Survived  Pclass  \\\n0            1         0       3   \n1            2         1       1   \n2            3         1       3   \n3            4         1       1   \n4            5         0       3   \n\n                                                Name     Sex   Age  SibSp  \\\n0                            Braund, Mr. Owen Harris    male  22.0      1   \n1  Cumings, Mrs. John Bradley (Florence Briggs Th...  female  38.0      1   \n2                             Heikkinen, Miss. Laina  female  26.0      0   \n3       Futrelle, Mrs. Jacques Heath (Lily May Peel)  female  35.0      1   \n4                           Allen, Mr. William Henry    male  35.0      0   \n\n   Parch            Ticket     Fare Cabin Embarked  \n0      0         A/5 21171   7.2500   NaN        S  \n1      0          PC 17599  71.2833   C85        C  \n2      0  STON/O2. 3101282   7.9250   NaN        S  \n3      0            113803  53.1000  C123        S  \n4      0            373450   8.0500   NaN        S  ",
      "text/html": "<div>\n<style scoped>\n    .dataframe tbody tr th:only-of-type {\n        vertical-align: middle;\n    }\n\n    .dataframe tbody tr th {\n        vertical-align: top;\n    }\n\n    .dataframe thead th {\n        text-align: right;\n    }\n</style>\n<table border=\"1\" class=\"dataframe\">\n  <thead>\n    <tr style=\"text-align: right;\">\n      <th></th>\n      <th>PassengerId</th>\n      <th>Survived</th>\n      <th>Pclass</th>\n      <th>Name</th>\n      <th>Sex</th>\n      <th>Age</th>\n      <th>SibSp</th>\n      <th>Parch</th>\n      <th>Ticket</th>\n      <th>Fare</th>\n      <th>Cabin</th>\n      <th>Embarked</th>\n    </tr>\n  </thead>\n  <tbody>\n    <tr>\n      <th>0</th>\n      <td>1</td>\n      <td>0</td>\n      <td>3</td>\n      <td>Braund, Mr. Owen Harris</td>\n      <td>male</td>\n      <td>22.0</td>\n      <td>1</td>\n      <td>0</td>\n      <td>A/5 21171</td>\n      <td>7.2500</td>\n      <td>NaN</td>\n      <td>S</td>\n    </tr>\n    <tr>\n      <th>1</th>\n      <td>2</td>\n      <td>1</td>\n      <td>1</td>\n      <td>Cumings, Mrs. John Bradley (Florence Briggs Th...</td>\n      <td>female</td>\n      <td>38.0</td>\n      <td>1</td>\n      <td>0</td>\n      <td>PC 17599</td>\n      <td>71.2833</td>\n      <td>C85</td>\n      <td>C</td>\n    </tr>\n    <tr>\n      <th>2</th>\n      <td>3</td>\n      <td>1</td>\n      <td>3</td>\n      <td>Heikkinen, Miss. Laina</td>\n      <td>female</td>\n      <td>26.0</td>\n      <td>0</td>\n      <td>0</td>\n      <td>STON/O2. 3101282</td>\n      <td>7.9250</td>\n      <td>NaN</td>\n      <td>S</td>\n    </tr>\n    <tr>\n      <th>3</th>\n      <td>4</td>\n      <td>1</td>\n      <td>1</td>\n      <td>Futrelle, Mrs. Jacques Heath (Lily May Peel)</td>\n      <td>female</td>\n      <td>35.0</td>\n      <td>1</td>\n      <td>0</td>\n      <td>113803</td>\n      <td>53.1000</td>\n      <td>C123</td>\n      <td>S</td>\n    </tr>\n    <tr>\n      <th>4</th>\n      <td>5</td>\n      <td>0</td>\n      <td>3</td>\n      <td>Allen, Mr. William Henry</td>\n      <td>male</td>\n      <td>35.0</td>\n      <td>0</td>\n      <td>0</td>\n      <td>373450</td>\n      <td>8.0500</td>\n      <td>NaN</td>\n      <td>S</td>\n    </tr>\n  </tbody>\n</table>\n</div>"
     },
     "execution_count": 8,
     "metadata": {},
     "output_type": "execute_result"
    }
   ],
   "source": [
    "# See the first 5 rows\n",
    "df.head()"
   ]
  },
  {
   "cell_type": "code",
   "execution_count": null,
   "id": "7c1257fb",
   "metadata": {
    "execution": {
     "iopub.execute_input": "2022-08-23T14:02:34.046083Z",
     "iopub.status.busy": "2022-08-23T14:02:34.045725Z",
     "iopub.status.idle": "2022-08-23T14:02:34.061687Z",
     "shell.execute_reply": "2022-08-23T14:02:34.060507Z"
    },
    "papermill": {
     "duration": 0.049417,
     "end_time": "2022-08-23T14:02:34.064199",
     "exception": false,
     "start_time": "2022-08-23T14:02:34.014782",
     "status": "completed"
    },
    "tags": []
   },
   "outputs": [],
   "source": [
    "# last 5 rows.\n",
    "df.tail()"
   ]
  },
  {
   "cell_type": "code",
   "execution_count": null,
   "id": "17f2e328",
   "metadata": {
    "execution": {
     "iopub.execute_input": "2022-08-23T14:02:34.118708Z",
     "iopub.status.busy": "2022-08-23T14:02:34.117437Z",
     "iopub.status.idle": "2022-08-23T14:02:34.124705Z",
     "shell.execute_reply": "2022-08-23T14:02:34.123760Z"
    },
    "papermill": {
     "duration": 0.03692,
     "end_time": "2022-08-23T14:02:34.126917",
     "exception": false,
     "start_time": "2022-08-23T14:02:34.089997",
     "status": "completed"
    },
    "tags": []
   },
   "outputs": [],
   "source": [
    "# n_samples x n_features (features/columns/TASK 1: add more here if you know and push to githoub by creating Pull Request!)\n",
    "df.shape"
   ]
  },
  {
   "cell_type": "code",
   "execution_count": null,
   "id": "0c89021f",
   "metadata": {
    "execution": {
     "iopub.execute_input": "2022-08-23T14:02:34.181006Z",
     "iopub.status.busy": "2022-08-23T14:02:34.179917Z",
     "iopub.status.idle": "2022-08-23T14:02:34.186030Z",
     "shell.execute_reply": "2022-08-23T14:02:34.185302Z"
    },
    "papermill": {
     "duration": 0.035245,
     "end_time": "2022-08-23T14:02:34.188024",
     "exception": false,
     "start_time": "2022-08-23T14:02:34.152779",
     "status": "completed"
    },
    "tags": []
   },
   "outputs": [],
   "source": [
    "#List of all the columns\n",
    "df.columns"
   ]
  },
  {
   "cell_type": "code",
   "execution_count": null,
   "id": "c194e330",
   "metadata": {
    "execution": {
     "iopub.execute_input": "2022-08-23T14:02:34.242477Z",
     "iopub.status.busy": "2022-08-23T14:02:34.241760Z",
     "iopub.status.idle": "2022-08-23T14:02:34.247557Z",
     "shell.execute_reply": "2022-08-23T14:02:34.246756Z"
    },
    "papermill": {
     "duration": 0.035231,
     "end_time": "2022-08-23T14:02:34.249518",
     "exception": false,
     "start_time": "2022-08-23T14:02:34.214287",
     "status": "completed"
    },
    "tags": []
   },
   "outputs": [],
   "source": [
    "# Rows index\n",
    "df.index"
   ]
  },
  {
   "cell_type": "code",
   "execution_count": 9,
   "id": "aca41fa3",
   "metadata": {
    "execution": {
     "iopub.execute_input": "2022-08-23T14:02:34.303797Z",
     "iopub.status.busy": "2022-08-23T14:02:34.303117Z",
     "iopub.status.idle": "2022-08-23T14:02:34.315601Z",
     "shell.execute_reply": "2022-08-23T14:02:34.314493Z"
    },
    "papermill": {
     "duration": 0.042498,
     "end_time": "2022-08-23T14:02:34.318019",
     "exception": false,
     "start_time": "2022-08-23T14:02:34.275521",
     "status": "completed"
    },
    "tags": [],
    "ExecuteTime": {
     "end_time": "2023-11-08T21:43:45.559693800Z",
     "start_time": "2023-11-08T21:43:45.486804300Z"
    }
   },
   "outputs": [
    {
     "data": {
      "text/plain": "3    491\n1    216\n2    184\nName: Pclass, dtype: int64"
     },
     "execution_count": 9,
     "metadata": {},
     "output_type": "execute_result"
    }
   ],
   "source": [
    "# Values with their counts in a particular column\n",
    "df['Pclass'].value_counts()"
   ]
  },
  {
   "cell_type": "code",
   "execution_count": 10,
   "id": "7ef75770",
   "metadata": {
    "execution": {
     "iopub.execute_input": "2022-08-23T14:02:34.373662Z",
     "iopub.status.busy": "2022-08-23T14:02:34.373000Z",
     "iopub.status.idle": "2022-08-23T14:02:34.409785Z",
     "shell.execute_reply": "2022-08-23T14:02:34.408738Z"
    },
    "papermill": {
     "duration": 0.067161,
     "end_time": "2022-08-23T14:02:34.412201",
     "exception": false,
     "start_time": "2022-08-23T14:02:34.345040",
     "status": "completed"
    },
    "tags": [],
    "ExecuteTime": {
     "end_time": "2023-11-08T21:43:48.059310100Z",
     "start_time": "2023-11-08T21:43:47.926610800Z"
    }
   },
   "outputs": [
    {
     "data": {
      "text/plain": "       PassengerId    Survived      Pclass         Age       SibSp  \\\ncount   891.000000  891.000000  891.000000  714.000000  891.000000   \nmean    446.000000    0.383838    2.308642   29.699118    0.523008   \nstd     257.353842    0.486592    0.836071   14.526497    1.102743   \nmin       1.000000    0.000000    1.000000    0.420000    0.000000   \n25%     223.500000    0.000000    2.000000   20.125000    0.000000   \n50%     446.000000    0.000000    3.000000   28.000000    0.000000   \n75%     668.500000    1.000000    3.000000   38.000000    1.000000   \nmax     891.000000    1.000000    3.000000   80.000000    8.000000   \n\n            Parch        Fare  \ncount  891.000000  891.000000  \nmean     0.381594   32.204208  \nstd      0.806057   49.693429  \nmin      0.000000    0.000000  \n25%      0.000000    7.910400  \n50%      0.000000   14.454200  \n75%      0.000000   31.000000  \nmax      6.000000  512.329200  ",
      "text/html": "<div>\n<style scoped>\n    .dataframe tbody tr th:only-of-type {\n        vertical-align: middle;\n    }\n\n    .dataframe tbody tr th {\n        vertical-align: top;\n    }\n\n    .dataframe thead th {\n        text-align: right;\n    }\n</style>\n<table border=\"1\" class=\"dataframe\">\n  <thead>\n    <tr style=\"text-align: right;\">\n      <th></th>\n      <th>PassengerId</th>\n      <th>Survived</th>\n      <th>Pclass</th>\n      <th>Age</th>\n      <th>SibSp</th>\n      <th>Parch</th>\n      <th>Fare</th>\n    </tr>\n  </thead>\n  <tbody>\n    <tr>\n      <th>count</th>\n      <td>891.000000</td>\n      <td>891.000000</td>\n      <td>891.000000</td>\n      <td>714.000000</td>\n      <td>891.000000</td>\n      <td>891.000000</td>\n      <td>891.000000</td>\n    </tr>\n    <tr>\n      <th>mean</th>\n      <td>446.000000</td>\n      <td>0.383838</td>\n      <td>2.308642</td>\n      <td>29.699118</td>\n      <td>0.523008</td>\n      <td>0.381594</td>\n      <td>32.204208</td>\n    </tr>\n    <tr>\n      <th>std</th>\n      <td>257.353842</td>\n      <td>0.486592</td>\n      <td>0.836071</td>\n      <td>14.526497</td>\n      <td>1.102743</td>\n      <td>0.806057</td>\n      <td>49.693429</td>\n    </tr>\n    <tr>\n      <th>min</th>\n      <td>1.000000</td>\n      <td>0.000000</td>\n      <td>1.000000</td>\n      <td>0.420000</td>\n      <td>0.000000</td>\n      <td>0.000000</td>\n      <td>0.000000</td>\n    </tr>\n    <tr>\n      <th>25%</th>\n      <td>223.500000</td>\n      <td>0.000000</td>\n      <td>2.000000</td>\n      <td>20.125000</td>\n      <td>0.000000</td>\n      <td>0.000000</td>\n      <td>7.910400</td>\n    </tr>\n    <tr>\n      <th>50%</th>\n      <td>446.000000</td>\n      <td>0.000000</td>\n      <td>3.000000</td>\n      <td>28.000000</td>\n      <td>0.000000</td>\n      <td>0.000000</td>\n      <td>14.454200</td>\n    </tr>\n    <tr>\n      <th>75%</th>\n      <td>668.500000</td>\n      <td>1.000000</td>\n      <td>3.000000</td>\n      <td>38.000000</td>\n      <td>1.000000</td>\n      <td>0.000000</td>\n      <td>31.000000</td>\n    </tr>\n    <tr>\n      <th>max</th>\n      <td>891.000000</td>\n      <td>1.000000</td>\n      <td>3.000000</td>\n      <td>80.000000</td>\n      <td>8.000000</td>\n      <td>6.000000</td>\n      <td>512.329200</td>\n    </tr>\n  </tbody>\n</table>\n</div>"
     },
     "execution_count": 10,
     "metadata": {},
     "output_type": "execute_result"
    }
   ],
   "source": [
    "# General description of dataset.\n",
    "df.describe()"
   ]
  },
  {
   "cell_type": "code",
   "execution_count": 10,
   "id": "5d0d56e2",
   "metadata": {
    "papermill": {
     "duration": 0.026043,
     "end_time": "2022-08-23T14:02:34.464907",
     "exception": false,
     "start_time": "2022-08-23T14:02:34.438864",
     "status": "completed"
    },
    "tags": [],
    "ExecuteTime": {
     "end_time": "2023-11-08T21:43:53.244707Z",
     "start_time": "2023-11-08T21:43:53.083183300Z"
    }
   },
   "outputs": [],
   "source": []
  },
  {
   "cell_type": "markdown",
   "id": "7b40fc8a",
   "metadata": {
    "papermill": {
     "duration": 0.026839,
     "end_time": "2022-08-23T14:02:34.518509",
     "exception": false,
     "start_time": "2022-08-23T14:02:34.491670",
     "status": "completed"
    },
    "tags": []
   },
   "source": [
    "<a id=\"content2\"></a>\n",
    "## 2. Creating DataFrame"
   ]
  },
  {
   "cell_type": "code",
   "execution_count": 11,
   "id": "64b74cb0",
   "metadata": {
    "execution": {
     "iopub.execute_input": "2022-08-23T14:02:34.574788Z",
     "iopub.status.busy": "2022-08-23T14:02:34.573983Z",
     "iopub.status.idle": "2022-08-23T14:02:34.583012Z",
     "shell.execute_reply": "2022-08-23T14:02:34.582122Z"
    },
    "papermill": {
     "duration": 0.039445,
     "end_time": "2022-08-23T14:02:34.585212",
     "exception": false,
     "start_time": "2022-08-23T14:02:34.545767",
     "status": "completed"
    },
    "tags": [],
    "ExecuteTime": {
     "end_time": "2023-11-08T21:43:55.825850200Z",
     "start_time": "2023-11-08T21:43:55.728759400Z"
    }
   },
   "outputs": [
    {
     "data": {
      "text/plain": "Empty DataFrame\nColumns: []\nIndex: []",
      "text/html": "<div>\n<style scoped>\n    .dataframe tbody tr th:only-of-type {\n        vertical-align: middle;\n    }\n\n    .dataframe tbody tr th {\n        vertical-align: top;\n    }\n\n    .dataframe thead th {\n        text-align: right;\n    }\n</style>\n<table border=\"1\" class=\"dataframe\">\n  <thead>\n    <tr style=\"text-align: right;\">\n      <th></th>\n    </tr>\n  </thead>\n  <tbody>\n  </tbody>\n</table>\n</div>"
     },
     "execution_count": 11,
     "metadata": {},
     "output_type": "execute_result"
    }
   ],
   "source": [
    "# empty data frame\n",
    "df_empty=pd.DataFrame()\n",
    "df_empty.head()  # ;)"
   ]
  },
  {
   "cell_type": "code",
   "execution_count": 12,
   "id": "4fb0b9d5",
   "metadata": {
    "execution": {
     "iopub.execute_input": "2022-08-23T14:02:34.641358Z",
     "iopub.status.busy": "2022-08-23T14:02:34.640562Z",
     "iopub.status.idle": "2022-08-23T14:02:34.653353Z",
     "shell.execute_reply": "2022-08-23T14:02:34.652303Z"
    },
    "papermill": {
     "duration": 0.043672,
     "end_time": "2022-08-23T14:02:34.655645",
     "exception": false,
     "start_time": "2022-08-23T14:02:34.611973",
     "status": "completed"
    },
    "tags": [],
    "ExecuteTime": {
     "end_time": "2023-11-08T21:44:05.976353500Z",
     "start_time": "2023-11-08T21:44:05.889031100Z"
    }
   },
   "outputs": [
    {
     "data": {
      "text/plain": "  Name  Age  Roll\n0    A   24     1\n1    B   18     2\n2    C   17     3",
      "text/html": "<div>\n<style scoped>\n    .dataframe tbody tr th:only-of-type {\n        vertical-align: middle;\n    }\n\n    .dataframe tbody tr th {\n        vertical-align: top;\n    }\n\n    .dataframe thead th {\n        text-align: right;\n    }\n</style>\n<table border=\"1\" class=\"dataframe\">\n  <thead>\n    <tr style=\"text-align: right;\">\n      <th></th>\n      <th>Name</th>\n      <th>Age</th>\n      <th>Roll</th>\n    </tr>\n  </thead>\n  <tbody>\n    <tr>\n      <th>0</th>\n      <td>A</td>\n      <td>24</td>\n      <td>1</td>\n    </tr>\n    <tr>\n      <th>1</th>\n      <td>B</td>\n      <td>18</td>\n      <td>2</td>\n    </tr>\n    <tr>\n      <th>2</th>\n      <td>C</td>\n      <td>17</td>\n      <td>3</td>\n    </tr>\n  </tbody>\n</table>\n</div>"
     },
     "execution_count": 12,
     "metadata": {},
     "output_type": "execute_result"
    }
   ],
   "source": [
    "# From dict (create df from a dictionary)\n",
    "student_dict={'Name':['A','B','C'],'Age':[24,18,17],'Roll':[1,2,3]}\n",
    "df_student=pd.DataFrame(student_dict).reset_index(drop=True) # without this adds an additional index column in df\n",
    "df_student.head()"
   ]
  },
  {
   "cell_type": "code",
   "execution_count": 12,
   "id": "9b6c80da",
   "metadata": {
    "papermill": {
     "duration": 0.027486,
     "end_time": "2022-08-23T14:02:34.711066",
     "exception": false,
     "start_time": "2022-08-23T14:02:34.683580",
     "status": "completed"
    },
    "tags": [],
    "ExecuteTime": {
     "end_time": "2023-11-08T21:44:08.479128700Z",
     "start_time": "2023-11-08T21:44:08.358873100Z"
    }
   },
   "outputs": [],
   "source": []
  },
  {
   "cell_type": "markdown",
   "id": "91452483",
   "metadata": {
    "papermill": {
     "duration": 0.026961,
     "end_time": "2022-08-23T14:02:34.765755",
     "exception": false,
     "start_time": "2022-08-23T14:02:34.738794",
     "status": "completed"
    },
    "tags": []
   },
   "source": [
    "<a id=\"content3\"></a>\n",
    "## 3. Treating null values"
   ]
  },
  {
   "cell_type": "code",
   "execution_count": 13,
   "id": "075d59de",
   "metadata": {
    "execution": {
     "iopub.execute_input": "2022-08-23T14:02:34.822246Z",
     "iopub.status.busy": "2022-08-23T14:02:34.821834Z",
     "iopub.status.idle": "2022-08-23T14:02:34.838099Z",
     "shell.execute_reply": "2022-08-23T14:02:34.837027Z"
    },
    "papermill": {
     "duration": 0.047388,
     "end_time": "2022-08-23T14:02:34.840552",
     "exception": false,
     "start_time": "2022-08-23T14:02:34.793164",
     "status": "completed"
    },
    "tags": [],
    "ExecuteTime": {
     "end_time": "2023-11-08T21:44:12.166709400Z",
     "start_time": "2023-11-08T21:44:12.059270Z"
    }
   },
   "outputs": [
    {
     "data": {
      "text/plain": "   PassengerId  Survived  Pclass  \\\n0            1         0       3   \n1            2         1       1   \n2            3         1       3   \n3            4         1       1   \n4            5         0       3   \n\n                                                Name     Sex   Age  SibSp  \\\n0                            Braund, Mr. Owen Harris    male  22.0      1   \n1  Cumings, Mrs. John Bradley (Florence Briggs Th...  female  38.0      1   \n2                             Heikkinen, Miss. Laina  female  26.0      0   \n3       Futrelle, Mrs. Jacques Heath (Lily May Peel)  female  35.0      1   \n4                           Allen, Mr. William Henry    male  35.0      0   \n\n   Parch            Ticket     Fare Cabin Embarked  \n0      0         A/5 21171   7.2500   NaN        S  \n1      0          PC 17599  71.2833   C85        C  \n2      0  STON/O2. 3101282   7.9250   NaN        S  \n3      0            113803  53.1000  C123        S  \n4      0            373450   8.0500   NaN        S  ",
      "text/html": "<div>\n<style scoped>\n    .dataframe tbody tr th:only-of-type {\n        vertical-align: middle;\n    }\n\n    .dataframe tbody tr th {\n        vertical-align: top;\n    }\n\n    .dataframe thead th {\n        text-align: right;\n    }\n</style>\n<table border=\"1\" class=\"dataframe\">\n  <thead>\n    <tr style=\"text-align: right;\">\n      <th></th>\n      <th>PassengerId</th>\n      <th>Survived</th>\n      <th>Pclass</th>\n      <th>Name</th>\n      <th>Sex</th>\n      <th>Age</th>\n      <th>SibSp</th>\n      <th>Parch</th>\n      <th>Ticket</th>\n      <th>Fare</th>\n      <th>Cabin</th>\n      <th>Embarked</th>\n    </tr>\n  </thead>\n  <tbody>\n    <tr>\n      <th>0</th>\n      <td>1</td>\n      <td>0</td>\n      <td>3</td>\n      <td>Braund, Mr. Owen Harris</td>\n      <td>male</td>\n      <td>22.0</td>\n      <td>1</td>\n      <td>0</td>\n      <td>A/5 21171</td>\n      <td>7.2500</td>\n      <td>NaN</td>\n      <td>S</td>\n    </tr>\n    <tr>\n      <th>1</th>\n      <td>2</td>\n      <td>1</td>\n      <td>1</td>\n      <td>Cumings, Mrs. John Bradley (Florence Briggs Th...</td>\n      <td>female</td>\n      <td>38.0</td>\n      <td>1</td>\n      <td>0</td>\n      <td>PC 17599</td>\n      <td>71.2833</td>\n      <td>C85</td>\n      <td>C</td>\n    </tr>\n    <tr>\n      <th>2</th>\n      <td>3</td>\n      <td>1</td>\n      <td>3</td>\n      <td>Heikkinen, Miss. Laina</td>\n      <td>female</td>\n      <td>26.0</td>\n      <td>0</td>\n      <td>0</td>\n      <td>STON/O2. 3101282</td>\n      <td>7.9250</td>\n      <td>NaN</td>\n      <td>S</td>\n    </tr>\n    <tr>\n      <th>3</th>\n      <td>4</td>\n      <td>1</td>\n      <td>1</td>\n      <td>Futrelle, Mrs. Jacques Heath (Lily May Peel)</td>\n      <td>female</td>\n      <td>35.0</td>\n      <td>1</td>\n      <td>0</td>\n      <td>113803</td>\n      <td>53.1000</td>\n      <td>C123</td>\n      <td>S</td>\n    </tr>\n    <tr>\n      <th>4</th>\n      <td>5</td>\n      <td>0</td>\n      <td>3</td>\n      <td>Allen, Mr. William Henry</td>\n      <td>male</td>\n      <td>35.0</td>\n      <td>0</td>\n      <td>0</td>\n      <td>373450</td>\n      <td>8.0500</td>\n      <td>NaN</td>\n      <td>S</td>\n    </tr>\n  </tbody>\n</table>\n</div>"
     },
     "execution_count": 13,
     "metadata": {},
     "output_type": "execute_result"
    }
   ],
   "source": [
    "df.head()"
   ]
  },
  {
   "cell_type": "code",
   "execution_count": 14,
   "id": "ce598eb0",
   "metadata": {
    "execution": {
     "iopub.execute_input": "2022-08-23T14:02:34.897773Z",
     "iopub.status.busy": "2022-08-23T14:02:34.897051Z",
     "iopub.status.idle": "2022-08-23T14:02:34.905529Z",
     "shell.execute_reply": "2022-08-23T14:02:34.904734Z"
    },
    "papermill": {
     "duration": 0.038961,
     "end_time": "2022-08-23T14:02:34.907516",
     "exception": false,
     "start_time": "2022-08-23T14:02:34.868555",
     "status": "completed"
    },
    "tags": [],
    "ExecuteTime": {
     "end_time": "2023-11-08T21:44:12.950870Z",
     "start_time": "2023-11-08T21:44:12.843225900Z"
    }
   },
   "outputs": [
    {
     "data": {
      "text/plain": "PassengerId      0\nSurvived         0\nPclass           0\nName             0\nSex              0\nAge            177\nSibSp            0\nParch            0\nTicket           0\nFare             0\nCabin          687\nEmbarked         2\ndtype: int64"
     },
     "execution_count": 14,
     "metadata": {},
     "output_type": "execute_result"
    }
   ],
   "source": [
    "# check number of null values on whole df.\n",
    "df.isnull().sum()"
   ]
  },
  {
   "cell_type": "code",
   "execution_count": 15,
   "id": "fb416185",
   "metadata": {
    "execution": {
     "iopub.execute_input": "2022-08-23T14:02:34.964014Z",
     "iopub.status.busy": "2022-08-23T14:02:34.963290Z",
     "iopub.status.idle": "2022-08-23T14:02:34.969840Z",
     "shell.execute_reply": "2022-08-23T14:02:34.969083Z"
    },
    "papermill": {
     "duration": 0.037425,
     "end_time": "2022-08-23T14:02:34.971813",
     "exception": false,
     "start_time": "2022-08-23T14:02:34.934388",
     "status": "completed"
    },
    "tags": [],
    "ExecuteTime": {
     "end_time": "2023-11-08T21:44:15.317716800Z",
     "start_time": "2023-11-08T21:44:15.136506700Z"
    }
   },
   "outputs": [
    {
     "data": {
      "text/plain": "177"
     },
     "execution_count": 15,
     "metadata": {},
     "output_type": "execute_result"
    }
   ],
   "source": [
    "# check nulls on a particular column\n",
    "df['Age'].isnull().sum()"
   ]
  },
  {
   "cell_type": "markdown",
   "id": "e7f38014",
   "metadata": {
    "papermill": {
     "duration": 0.026652,
     "end_time": "2022-08-23T14:02:35.025598",
     "exception": false,
     "start_time": "2022-08-23T14:02:34.998946",
     "status": "completed"
    },
    "tags": []
   },
   "source": [
    "#### Impute null values"
   ]
  },
  {
   "cell_type": "markdown",
   "metadata": {},
   "source": [
    "IF YOU WON'T put 'inplace=True' then your dataset won't get affected with te newwst change."
   ],
   "id": "19c8aed84ae4d264"
  },
  {
   "cell_type": "code",
   "execution_count": 16,
   "id": "e4b8cf5e",
   "metadata": {
    "execution": {
     "iopub.execute_input": "2022-08-23T14:02:35.081522Z",
     "iopub.status.busy": "2022-08-23T14:02:35.080806Z",
     "iopub.status.idle": "2022-08-23T14:02:35.088602Z",
     "shell.execute_reply": "2022-08-23T14:02:35.087695Z"
    },
    "papermill": {
     "duration": 0.038201,
     "end_time": "2022-08-23T14:02:35.090626",
     "exception": false,
     "start_time": "2022-08-23T14:02:35.052425",
     "status": "completed"
    },
    "tags": [],
    "ExecuteTime": {
     "end_time": "2023-11-08T21:44:21.037278Z",
     "start_time": "2023-11-08T21:44:20.917480100Z"
    }
   },
   "outputs": [
    {
     "data": {
      "text/plain": "0"
     },
     "execution_count": 16,
     "metadata": {},
     "output_type": "execute_result"
    }
   ],
   "source": [
    "df['Age'].fillna(df['Age'].mean(),inplace=True) # in this line we are imputing mean value to null values\n",
    "df['Age'].isnull().sum()"
   ]
  },
  {
   "cell_type": "code",
   "execution_count": 17,
   "id": "69028df1",
   "metadata": {
    "execution": {
     "iopub.execute_input": "2022-08-23T14:02:35.146935Z",
     "iopub.status.busy": "2022-08-23T14:02:35.146245Z",
     "iopub.status.idle": "2022-08-23T14:02:35.154267Z",
     "shell.execute_reply": "2022-08-23T14:02:35.153487Z"
    },
    "papermill": {
     "duration": 0.038354,
     "end_time": "2022-08-23T14:02:35.156218",
     "exception": false,
     "start_time": "2022-08-23T14:02:35.117864",
     "status": "completed"
    },
    "tags": [],
    "ExecuteTime": {
     "end_time": "2023-11-08T21:44:22.258785400Z",
     "start_time": "2023-11-08T21:44:22.192777600Z"
    }
   },
   "outputs": [
    {
     "data": {
      "text/plain": "0"
     },
     "execution_count": 17,
     "metadata": {},
     "output_type": "execute_result"
    }
   ],
   "source": [
    "df['Sex'].fillna(df['Sex'].mode(),inplace=True)\n",
    "df['Sex'].isnull().sum()"
   ]
  },
  {
   "cell_type": "code",
   "execution_count": 17,
   "id": "40da6109",
   "metadata": {
    "papermill": {
     "duration": 0.026718,
     "end_time": "2022-08-23T14:02:35.209899",
     "exception": false,
     "start_time": "2022-08-23T14:02:35.183181",
     "status": "completed"
    },
    "tags": [],
    "ExecuteTime": {
     "end_time": "2023-11-08T21:44:23.559516500Z",
     "start_time": "2023-11-08T21:44:23.436062500Z"
    }
   },
   "outputs": [],
   "source": []
  },
  {
   "cell_type": "markdown",
   "id": "587249ed",
   "metadata": {
    "papermill": {
     "duration": 0.02684,
     "end_time": "2022-08-23T14:02:35.263915",
     "exception": false,
     "start_time": "2022-08-23T14:02:35.237075",
     "status": "completed"
    },
    "tags": []
   },
   "source": [
    "<a id=\"content4\"></a>\n",
    "## 4. Modify/Add new column(s).\n",
    "Adding another column or modify a column."
   ]
  },
  {
   "cell_type": "code",
   "execution_count": 18,
   "id": "3b9d2b1f",
   "metadata": {
    "execution": {
     "iopub.execute_input": "2022-08-23T14:02:35.320303Z",
     "iopub.status.busy": "2022-08-23T14:02:35.319899Z",
     "iopub.status.idle": "2022-08-23T14:02:35.335285Z",
     "shell.execute_reply": "2022-08-23T14:02:35.334506Z"
    },
    "papermill": {
     "duration": 0.046357,
     "end_time": "2022-08-23T14:02:35.337476",
     "exception": false,
     "start_time": "2022-08-23T14:02:35.291119",
     "status": "completed"
    },
    "tags": [],
    "ExecuteTime": {
     "end_time": "2023-11-08T21:44:24.942184600Z",
     "start_time": "2023-11-08T21:44:24.845412200Z"
    }
   },
   "outputs": [
    {
     "data": {
      "text/plain": "   PassengerId  Survived  Pclass  \\\n0            1         0       3   \n1            2         1       1   \n2            3         1       3   \n3            4         1       1   \n4            5         0       3   \n\n                                                Name     Sex   Age  SibSp  \\\n0                            Braund, Mr. Owen Harris    male  22.0      1   \n1  Cumings, Mrs. John Bradley (Florence Briggs Th...  female  38.0      1   \n2                             Heikkinen, Miss. Laina  female  26.0      0   \n3       Futrelle, Mrs. Jacques Heath (Lily May Peel)  female  35.0      1   \n4                           Allen, Mr. William Henry    male  35.0      0   \n\n   Parch            Ticket     Fare Cabin Embarked  \n0      0         A/5 21171   7.2500   NaN        S  \n1      0          PC 17599  71.2833   C85        C  \n2      0  STON/O2. 3101282   7.9250   NaN        S  \n3      0            113803  53.1000  C123        S  \n4      0            373450   8.0500   NaN        S  ",
      "text/html": "<div>\n<style scoped>\n    .dataframe tbody tr th:only-of-type {\n        vertical-align: middle;\n    }\n\n    .dataframe tbody tr th {\n        vertical-align: top;\n    }\n\n    .dataframe thead th {\n        text-align: right;\n    }\n</style>\n<table border=\"1\" class=\"dataframe\">\n  <thead>\n    <tr style=\"text-align: right;\">\n      <th></th>\n      <th>PassengerId</th>\n      <th>Survived</th>\n      <th>Pclass</th>\n      <th>Name</th>\n      <th>Sex</th>\n      <th>Age</th>\n      <th>SibSp</th>\n      <th>Parch</th>\n      <th>Ticket</th>\n      <th>Fare</th>\n      <th>Cabin</th>\n      <th>Embarked</th>\n    </tr>\n  </thead>\n  <tbody>\n    <tr>\n      <th>0</th>\n      <td>1</td>\n      <td>0</td>\n      <td>3</td>\n      <td>Braund, Mr. Owen Harris</td>\n      <td>male</td>\n      <td>22.0</td>\n      <td>1</td>\n      <td>0</td>\n      <td>A/5 21171</td>\n      <td>7.2500</td>\n      <td>NaN</td>\n      <td>S</td>\n    </tr>\n    <tr>\n      <th>1</th>\n      <td>2</td>\n      <td>1</td>\n      <td>1</td>\n      <td>Cumings, Mrs. John Bradley (Florence Briggs Th...</td>\n      <td>female</td>\n      <td>38.0</td>\n      <td>1</td>\n      <td>0</td>\n      <td>PC 17599</td>\n      <td>71.2833</td>\n      <td>C85</td>\n      <td>C</td>\n    </tr>\n    <tr>\n      <th>2</th>\n      <td>3</td>\n      <td>1</td>\n      <td>3</td>\n      <td>Heikkinen, Miss. Laina</td>\n      <td>female</td>\n      <td>26.0</td>\n      <td>0</td>\n      <td>0</td>\n      <td>STON/O2. 3101282</td>\n      <td>7.9250</td>\n      <td>NaN</td>\n      <td>S</td>\n    </tr>\n    <tr>\n      <th>3</th>\n      <td>4</td>\n      <td>1</td>\n      <td>1</td>\n      <td>Futrelle, Mrs. Jacques Heath (Lily May Peel)</td>\n      <td>female</td>\n      <td>35.0</td>\n      <td>1</td>\n      <td>0</td>\n      <td>113803</td>\n      <td>53.1000</td>\n      <td>C123</td>\n      <td>S</td>\n    </tr>\n    <tr>\n      <th>4</th>\n      <td>5</td>\n      <td>0</td>\n      <td>3</td>\n      <td>Allen, Mr. William Henry</td>\n      <td>male</td>\n      <td>35.0</td>\n      <td>0</td>\n      <td>0</td>\n      <td>373450</td>\n      <td>8.0500</td>\n      <td>NaN</td>\n      <td>S</td>\n    </tr>\n  </tbody>\n</table>\n</div>"
     },
     "execution_count": 18,
     "metadata": {},
     "output_type": "execute_result"
    }
   ],
   "source": [
    "df.head()"
   ]
  },
  {
   "cell_type": "code",
   "execution_count": 19,
   "id": "f01c4967",
   "metadata": {
    "execution": {
     "iopub.execute_input": "2022-08-23T14:02:35.394403Z",
     "iopub.status.busy": "2022-08-23T14:02:35.393706Z",
     "iopub.status.idle": "2022-08-23T14:02:35.409974Z",
     "shell.execute_reply": "2022-08-23T14:02:35.409233Z"
    },
    "papermill": {
     "duration": 0.046763,
     "end_time": "2022-08-23T14:02:35.411960",
     "exception": false,
     "start_time": "2022-08-23T14:02:35.365197",
     "status": "completed"
    },
    "tags": [],
    "ExecuteTime": {
     "end_time": "2023-11-08T21:44:27.895270600Z",
     "start_time": "2023-11-08T21:44:27.741779300Z"
    }
   },
   "outputs": [
    {
     "data": {
      "text/plain": "   PassengerId  Survived  Pclass  \\\n0            1         0       3   \n1            2         1       1   \n2            3         1       3   \n3            4         1       1   \n4            5         0       3   \n\n                                                Name Sex   Age  SibSp  Parch  \\\n0                            Braund, Mr. Owen Harris   0  22.0      1      0   \n1  Cumings, Mrs. John Bradley (Florence Briggs Th...   1  38.0      1      0   \n2                             Heikkinen, Miss. Laina   1  26.0      0      0   \n3       Futrelle, Mrs. Jacques Heath (Lily May Peel)   1  35.0      1      0   \n4                           Allen, Mr. William Henry   0  35.0      0      0   \n\n             Ticket     Fare Cabin Embarked  \n0         A/5 21171   7.2500   NaN        S  \n1          PC 17599  71.2833   C85        C  \n2  STON/O2. 3101282   7.9250   NaN        S  \n3            113803  53.1000  C123        S  \n4            373450   8.0500   NaN        S  ",
      "text/html": "<div>\n<style scoped>\n    .dataframe tbody tr th:only-of-type {\n        vertical-align: middle;\n    }\n\n    .dataframe tbody tr th {\n        vertical-align: top;\n    }\n\n    .dataframe thead th {\n        text-align: right;\n    }\n</style>\n<table border=\"1\" class=\"dataframe\">\n  <thead>\n    <tr style=\"text-align: right;\">\n      <th></th>\n      <th>PassengerId</th>\n      <th>Survived</th>\n      <th>Pclass</th>\n      <th>Name</th>\n      <th>Sex</th>\n      <th>Age</th>\n      <th>SibSp</th>\n      <th>Parch</th>\n      <th>Ticket</th>\n      <th>Fare</th>\n      <th>Cabin</th>\n      <th>Embarked</th>\n    </tr>\n  </thead>\n  <tbody>\n    <tr>\n      <th>0</th>\n      <td>1</td>\n      <td>0</td>\n      <td>3</td>\n      <td>Braund, Mr. Owen Harris</td>\n      <td>0</td>\n      <td>22.0</td>\n      <td>1</td>\n      <td>0</td>\n      <td>A/5 21171</td>\n      <td>7.2500</td>\n      <td>NaN</td>\n      <td>S</td>\n    </tr>\n    <tr>\n      <th>1</th>\n      <td>2</td>\n      <td>1</td>\n      <td>1</td>\n      <td>Cumings, Mrs. John Bradley (Florence Briggs Th...</td>\n      <td>1</td>\n      <td>38.0</td>\n      <td>1</td>\n      <td>0</td>\n      <td>PC 17599</td>\n      <td>71.2833</td>\n      <td>C85</td>\n      <td>C</td>\n    </tr>\n    <tr>\n      <th>2</th>\n      <td>3</td>\n      <td>1</td>\n      <td>3</td>\n      <td>Heikkinen, Miss. Laina</td>\n      <td>1</td>\n      <td>26.0</td>\n      <td>0</td>\n      <td>0</td>\n      <td>STON/O2. 3101282</td>\n      <td>7.9250</td>\n      <td>NaN</td>\n      <td>S</td>\n    </tr>\n    <tr>\n      <th>3</th>\n      <td>4</td>\n      <td>1</td>\n      <td>1</td>\n      <td>Futrelle, Mrs. Jacques Heath (Lily May Peel)</td>\n      <td>1</td>\n      <td>35.0</td>\n      <td>1</td>\n      <td>0</td>\n      <td>113803</td>\n      <td>53.1000</td>\n      <td>C123</td>\n      <td>S</td>\n    </tr>\n    <tr>\n      <th>4</th>\n      <td>5</td>\n      <td>0</td>\n      <td>3</td>\n      <td>Allen, Mr. William Henry</td>\n      <td>0</td>\n      <td>35.0</td>\n      <td>0</td>\n      <td>0</td>\n      <td>373450</td>\n      <td>8.0500</td>\n      <td>NaN</td>\n      <td>S</td>\n    </tr>\n  </tbody>\n</table>\n</div>"
     },
     "execution_count": 19,
     "metadata": {},
     "output_type": "execute_result"
    }
   ],
   "source": [
    "# Modifying a column\n",
    "df['Sex']=df['Sex'].map({\"male\":'0',\"female\":\"1\"})\n",
    "df.head()"
   ]
  },
  {
   "cell_type": "code",
   "execution_count": 20,
   "metadata": {
    "ExecuteTime": {
     "end_time": "2023-11-08T21:44:29.981791Z",
     "start_time": "2023-11-08T21:44:29.883839800Z"
    }
   },
   "outputs": [
    {
     "name": "stdout",
     "output_type": "stream",
     "text": [
      "answer of add(3,6): 9\n",
      "answer of F(7): 25\n"
     ]
    }
   ],
   "source": [
    "# you can study more about lambda functions here: \n",
    "# https://realpython.com/lessons/what-is-lambda-function/\n",
    "\n",
    "\n",
    "'''\n",
    "It is just an anonymous function without a name\n",
    "\n",
    "defination of normal function:\n",
    "\n",
    "def function_name(parameter_list)\n",
    "    return expression\n",
    "\n",
    "examples of lambda function:\n",
    "'''\n",
    "\n",
    "add = lambda a, b : a + b   # Function Defination\n",
    "print('answer of add(3,6):', add(3,6)) ## 9               # Function Call\n",
    "\n",
    "# another example\n",
    "F = lambda i: 5**i          # 5 power i\n",
    "print('answer of F(7):', F(2)) \n"
   ],
   "id": "be9ac0c551bf65b8"
  },
  {
   "cell_type": "code",
   "execution_count": 21,
   "id": "f987e799",
   "metadata": {
    "execution": {
     "iopub.execute_input": "2022-08-23T14:02:35.469354Z",
     "iopub.status.busy": "2022-08-23T14:02:35.468674Z",
     "iopub.status.idle": "2022-08-23T14:02:35.476512Z",
     "shell.execute_reply": "2022-08-23T14:02:35.475701Z"
    },
    "papermill": {
     "duration": 0.038583,
     "end_time": "2022-08-23T14:02:35.478525",
     "exception": false,
     "start_time": "2022-08-23T14:02:35.439942",
     "status": "completed"
    },
    "tags": [],
    "ExecuteTime": {
     "end_time": "2023-11-08T21:44:32.363121900Z",
     "start_time": "2023-11-08T21:44:32.290826400Z"
    }
   },
   "outputs": [],
   "source": [
    "# Finding last name and first name from Name column.\n",
    "df['last_name']=df['Name'].apply(lambda x: x.split(',')[0]) \n",
    "df['first_name']=df['Name'].apply(lambda x: ' '.join(x.split(',')[1:]))\n"
   ]
  },
  {
   "cell_type": "code",
   "execution_count": 22,
   "id": "a21f899f",
   "metadata": {
    "execution": {
     "iopub.execute_input": "2022-08-23T14:02:35.539582Z",
     "iopub.status.busy": "2022-08-23T14:02:35.538650Z",
     "iopub.status.idle": "2022-08-23T14:02:35.558612Z",
     "shell.execute_reply": "2022-08-23T14:02:35.557380Z"
    },
    "papermill": {
     "duration": 0.055173,
     "end_time": "2022-08-23T14:02:35.561330",
     "exception": false,
     "start_time": "2022-08-23T14:02:35.506157",
     "status": "completed"
    },
    "tags": [],
    "ExecuteTime": {
     "end_time": "2023-11-08T21:44:34.358788500Z",
     "start_time": "2023-11-08T21:44:34.216922200Z"
    }
   },
   "outputs": [
    {
     "data": {
      "text/plain": "   PassengerId  Survived  Pclass  \\\n0            1         0       3   \n1            2         1       1   \n2            3         1       3   \n3            4         1       1   \n4            5         0       3   \n\n                                                Name Sex   Age  SibSp  Parch  \\\n0                            Braund, Mr. Owen Harris   0  22.0      1      0   \n1  Cumings, Mrs. John Bradley (Florence Briggs Th...   1  38.0      1      0   \n2                             Heikkinen, Miss. Laina   1  26.0      0      0   \n3       Futrelle, Mrs. Jacques Heath (Lily May Peel)   1  35.0      1      0   \n4                           Allen, Mr. William Henry   0  35.0      0      0   \n\n             Ticket     Fare Cabin Embarked  last_name  \\\n0         A/5 21171   7.2500   NaN        S     Braund   \n1          PC 17599  71.2833   C85        C    Cumings   \n2  STON/O2. 3101282   7.9250   NaN        S  Heikkinen   \n3            113803  53.1000  C123        S   Futrelle   \n4            373450   8.0500   NaN        S      Allen   \n\n                                    first_name  \n0                              Mr. Owen Harris  \n1   Mrs. John Bradley (Florence Briggs Thayer)  \n2                                  Miss. Laina  \n3           Mrs. Jacques Heath (Lily May Peel)  \n4                            Mr. William Henry  ",
      "text/html": "<div>\n<style scoped>\n    .dataframe tbody tr th:only-of-type {\n        vertical-align: middle;\n    }\n\n    .dataframe tbody tr th {\n        vertical-align: top;\n    }\n\n    .dataframe thead th {\n        text-align: right;\n    }\n</style>\n<table border=\"1\" class=\"dataframe\">\n  <thead>\n    <tr style=\"text-align: right;\">\n      <th></th>\n      <th>PassengerId</th>\n      <th>Survived</th>\n      <th>Pclass</th>\n      <th>Name</th>\n      <th>Sex</th>\n      <th>Age</th>\n      <th>SibSp</th>\n      <th>Parch</th>\n      <th>Ticket</th>\n      <th>Fare</th>\n      <th>Cabin</th>\n      <th>Embarked</th>\n      <th>last_name</th>\n      <th>first_name</th>\n    </tr>\n  </thead>\n  <tbody>\n    <tr>\n      <th>0</th>\n      <td>1</td>\n      <td>0</td>\n      <td>3</td>\n      <td>Braund, Mr. Owen Harris</td>\n      <td>0</td>\n      <td>22.0</td>\n      <td>1</td>\n      <td>0</td>\n      <td>A/5 21171</td>\n      <td>7.2500</td>\n      <td>NaN</td>\n      <td>S</td>\n      <td>Braund</td>\n      <td>Mr. Owen Harris</td>\n    </tr>\n    <tr>\n      <th>1</th>\n      <td>2</td>\n      <td>1</td>\n      <td>1</td>\n      <td>Cumings, Mrs. John Bradley (Florence Briggs Th...</td>\n      <td>1</td>\n      <td>38.0</td>\n      <td>1</td>\n      <td>0</td>\n      <td>PC 17599</td>\n      <td>71.2833</td>\n      <td>C85</td>\n      <td>C</td>\n      <td>Cumings</td>\n      <td>Mrs. John Bradley (Florence Briggs Thayer)</td>\n    </tr>\n    <tr>\n      <th>2</th>\n      <td>3</td>\n      <td>1</td>\n      <td>3</td>\n      <td>Heikkinen, Miss. Laina</td>\n      <td>1</td>\n      <td>26.0</td>\n      <td>0</td>\n      <td>0</td>\n      <td>STON/O2. 3101282</td>\n      <td>7.9250</td>\n      <td>NaN</td>\n      <td>S</td>\n      <td>Heikkinen</td>\n      <td>Miss. Laina</td>\n    </tr>\n    <tr>\n      <th>3</th>\n      <td>4</td>\n      <td>1</td>\n      <td>1</td>\n      <td>Futrelle, Mrs. Jacques Heath (Lily May Peel)</td>\n      <td>1</td>\n      <td>35.0</td>\n      <td>1</td>\n      <td>0</td>\n      <td>113803</td>\n      <td>53.1000</td>\n      <td>C123</td>\n      <td>S</td>\n      <td>Futrelle</td>\n      <td>Mrs. Jacques Heath (Lily May Peel)</td>\n    </tr>\n    <tr>\n      <th>4</th>\n      <td>5</td>\n      <td>0</td>\n      <td>3</td>\n      <td>Allen, Mr. William Henry</td>\n      <td>0</td>\n      <td>35.0</td>\n      <td>0</td>\n      <td>0</td>\n      <td>373450</td>\n      <td>8.0500</td>\n      <td>NaN</td>\n      <td>S</td>\n      <td>Allen</td>\n      <td>Mr. William Henry</td>\n    </tr>\n  </tbody>\n</table>\n</div>"
     },
     "execution_count": 22,
     "metadata": {},
     "output_type": "execute_result"
    }
   ],
   "source": [
    "df.head()"
   ]
  },
  {
   "cell_type": "code",
   "execution_count": 23,
   "id": "ea29d057",
   "metadata": {
    "execution": {
     "iopub.execute_input": "2022-08-23T14:02:35.631781Z",
     "iopub.status.busy": "2022-08-23T14:02:35.631072Z",
     "iopub.status.idle": "2022-08-23T14:02:35.664400Z",
     "shell.execute_reply": "2022-08-23T14:02:35.663041Z"
    },
    "papermill": {
     "duration": 0.070979,
     "end_time": "2022-08-23T14:02:35.666991",
     "exception": false,
     "start_time": "2022-08-23T14:02:35.596012",
     "status": "completed"
    },
    "tags": [],
    "ExecuteTime": {
     "end_time": "2023-11-08T21:44:36.162217800Z",
     "start_time": "2023-11-08T21:44:35.975569Z"
    }
   },
   "outputs": [
    {
     "data": {
      "text/plain": "   PassengerId  Survived  Pclass  \\\n0            1         0       3   \n1            2         1       1   \n2            3         1       3   \n3            4         1       1   \n4            5         0       3   \n\n                                                Name Sex   Age  SibSp  Parch  \\\n0                            Braund, Mr. Owen Harris   0  22.0      1      0   \n1  Cumings, Mrs. John Bradley (Florence Briggs Th...   1  38.0      1      0   \n2                             Heikkinen, Miss. Laina   1  26.0      0      0   \n3       Futrelle, Mrs. Jacques Heath (Lily May Peel)   1  35.0      1      0   \n4                           Allen, Mr. William Henry   0  35.0      0      0   \n\n             Ticket     Fare Cabin Embarked  last_name  \\\n0         A/5 21171   7.2500   NaN        S     Braund   \n1          PC 17599  71.2833   C85        C    Cumings   \n2  STON/O2. 3101282   7.9250   NaN        S  Heikkinen   \n3            113803  53.1000  C123        S   Futrelle   \n4            373450   8.0500   NaN        S      Allen   \n\n                                    first_name  Thrid&Men  \n0                              Mr. Owen Harris          1  \n1   Mrs. John Bradley (Florence Briggs Thayer)          0  \n2                                  Miss. Laina          0  \n3           Mrs. Jacques Heath (Lily May Peel)          0  \n4                            Mr. William Henry          1  ",
      "text/html": "<div>\n<style scoped>\n    .dataframe tbody tr th:only-of-type {\n        vertical-align: middle;\n    }\n\n    .dataframe tbody tr th {\n        vertical-align: top;\n    }\n\n    .dataframe thead th {\n        text-align: right;\n    }\n</style>\n<table border=\"1\" class=\"dataframe\">\n  <thead>\n    <tr style=\"text-align: right;\">\n      <th></th>\n      <th>PassengerId</th>\n      <th>Survived</th>\n      <th>Pclass</th>\n      <th>Name</th>\n      <th>Sex</th>\n      <th>Age</th>\n      <th>SibSp</th>\n      <th>Parch</th>\n      <th>Ticket</th>\n      <th>Fare</th>\n      <th>Cabin</th>\n      <th>Embarked</th>\n      <th>last_name</th>\n      <th>first_name</th>\n      <th>Thrid&amp;Men</th>\n    </tr>\n  </thead>\n  <tbody>\n    <tr>\n      <th>0</th>\n      <td>1</td>\n      <td>0</td>\n      <td>3</td>\n      <td>Braund, Mr. Owen Harris</td>\n      <td>0</td>\n      <td>22.0</td>\n      <td>1</td>\n      <td>0</td>\n      <td>A/5 21171</td>\n      <td>7.2500</td>\n      <td>NaN</td>\n      <td>S</td>\n      <td>Braund</td>\n      <td>Mr. Owen Harris</td>\n      <td>1</td>\n    </tr>\n    <tr>\n      <th>1</th>\n      <td>2</td>\n      <td>1</td>\n      <td>1</td>\n      <td>Cumings, Mrs. John Bradley (Florence Briggs Th...</td>\n      <td>1</td>\n      <td>38.0</td>\n      <td>1</td>\n      <td>0</td>\n      <td>PC 17599</td>\n      <td>71.2833</td>\n      <td>C85</td>\n      <td>C</td>\n      <td>Cumings</td>\n      <td>Mrs. John Bradley (Florence Briggs Thayer)</td>\n      <td>0</td>\n    </tr>\n    <tr>\n      <th>2</th>\n      <td>3</td>\n      <td>1</td>\n      <td>3</td>\n      <td>Heikkinen, Miss. Laina</td>\n      <td>1</td>\n      <td>26.0</td>\n      <td>0</td>\n      <td>0</td>\n      <td>STON/O2. 3101282</td>\n      <td>7.9250</td>\n      <td>NaN</td>\n      <td>S</td>\n      <td>Heikkinen</td>\n      <td>Miss. Laina</td>\n      <td>0</td>\n    </tr>\n    <tr>\n      <th>3</th>\n      <td>4</td>\n      <td>1</td>\n      <td>1</td>\n      <td>Futrelle, Mrs. Jacques Heath (Lily May Peel)</td>\n      <td>1</td>\n      <td>35.0</td>\n      <td>1</td>\n      <td>0</td>\n      <td>113803</td>\n      <td>53.1000</td>\n      <td>C123</td>\n      <td>S</td>\n      <td>Futrelle</td>\n      <td>Mrs. Jacques Heath (Lily May Peel)</td>\n      <td>0</td>\n    </tr>\n    <tr>\n      <th>4</th>\n      <td>5</td>\n      <td>0</td>\n      <td>3</td>\n      <td>Allen, Mr. William Henry</td>\n      <td>0</td>\n      <td>35.0</td>\n      <td>0</td>\n      <td>0</td>\n      <td>373450</td>\n      <td>8.0500</td>\n      <td>NaN</td>\n      <td>S</td>\n      <td>Allen</td>\n      <td>Mr. William Henry</td>\n      <td>1</td>\n    </tr>\n  </tbody>\n</table>\n</div>"
     },
     "execution_count": 23,
     "metadata": {},
     "output_type": "execute_result"
    }
   ],
   "source": [
    "# Sets to 1 for men in 3rd class.\n",
    "\n",
    "# !!!! TASK 2: IMPLEMENT BELOW LAMBDA FUNCTION USING NORMAL FUNCTION\n",
    "df['Thrid&Men']=df.apply(lambda row: int(row['Pclass']==3 and row['Sex']==\"0\"),axis=1)\n",
    "df.head()"
   ]
  },
  {
   "cell_type": "markdown",
   "id": "6c943c54",
   "metadata": {
    "papermill": {
     "duration": 0.027994,
     "end_time": "2022-08-23T14:02:35.723296",
     "exception": false,
     "start_time": "2022-08-23T14:02:35.695302",
     "status": "completed"
    },
    "tags": []
   },
   "source": [
    "##### Calling some custom function."
   ]
  },
  {
   "cell_type": "code",
   "execution_count": 24,
   "id": "77a190e1",
   "metadata": {
    "execution": {
     "iopub.execute_input": "2022-08-23T14:02:35.782033Z",
     "iopub.status.busy": "2022-08-23T14:02:35.781349Z",
     "iopub.status.idle": "2022-08-23T14:02:35.788677Z",
     "shell.execute_reply": "2022-08-23T14:02:35.787697Z"
    },
    "papermill": {
     "duration": 0.039125,
     "end_time": "2022-08-23T14:02:35.790736",
     "exception": false,
     "start_time": "2022-08-23T14:02:35.751611",
     "status": "completed"
    },
    "tags": [],
    "ExecuteTime": {
     "end_time": "2023-11-08T21:44:43.509167400Z",
     "start_time": "2023-11-08T21:44:43.410032300Z"
    }
   },
   "outputs": [],
   "source": [
    "def findAgeGroup(age):\n",
    "    if age<18:\n",
    "        return 1\n",
    "    elif age>=18 and age<40:\n",
    "        return 2\n",
    "    elif age>=40 and age<60:\n",
    "        return 3\n",
    "    else:\n",
    "        return 4\n",
    "df['Age_group']=df['Age'].apply(lambda x: findAgeGroup(x))\n",
    "# Calling a custom function."
   ]
  },
  {
   "cell_type": "code",
   "execution_count": 25,
   "id": "d87ed0eb",
   "metadata": {
    "execution": {
     "iopub.execute_input": "2022-08-23T14:02:35.849182Z",
     "iopub.status.busy": "2022-08-23T14:02:35.848464Z",
     "iopub.status.idle": "2022-08-23T14:02:35.866977Z",
     "shell.execute_reply": "2022-08-23T14:02:35.866110Z"
    },
    "papermill": {
     "duration": 0.050611,
     "end_time": "2022-08-23T14:02:35.869635",
     "exception": false,
     "start_time": "2022-08-23T14:02:35.819024",
     "status": "completed"
    },
    "tags": [],
    "ExecuteTime": {
     "end_time": "2023-11-08T21:44:44.399631900Z",
     "start_time": "2023-11-08T21:44:44.328986900Z"
    }
   },
   "outputs": [
    {
     "data": {
      "text/plain": "   PassengerId  Survived  Pclass  \\\n0            1         0       3   \n1            2         1       1   \n2            3         1       3   \n3            4         1       1   \n4            5         0       3   \n\n                                                Name Sex   Age  SibSp  Parch  \\\n0                            Braund, Mr. Owen Harris   0  22.0      1      0   \n1  Cumings, Mrs. John Bradley (Florence Briggs Th...   1  38.0      1      0   \n2                             Heikkinen, Miss. Laina   1  26.0      0      0   \n3       Futrelle, Mrs. Jacques Heath (Lily May Peel)   1  35.0      1      0   \n4                           Allen, Mr. William Henry   0  35.0      0      0   \n\n             Ticket     Fare Cabin Embarked  last_name  \\\n0         A/5 21171   7.2500   NaN        S     Braund   \n1          PC 17599  71.2833   C85        C    Cumings   \n2  STON/O2. 3101282   7.9250   NaN        S  Heikkinen   \n3            113803  53.1000  C123        S   Futrelle   \n4            373450   8.0500   NaN        S      Allen   \n\n                                    first_name  Thrid&Men  Age_group  \n0                              Mr. Owen Harris          1          2  \n1   Mrs. John Bradley (Florence Briggs Thayer)          0          2  \n2                                  Miss. Laina          0          2  \n3           Mrs. Jacques Heath (Lily May Peel)          0          2  \n4                            Mr. William Henry          1          2  ",
      "text/html": "<div>\n<style scoped>\n    .dataframe tbody tr th:only-of-type {\n        vertical-align: middle;\n    }\n\n    .dataframe tbody tr th {\n        vertical-align: top;\n    }\n\n    .dataframe thead th {\n        text-align: right;\n    }\n</style>\n<table border=\"1\" class=\"dataframe\">\n  <thead>\n    <tr style=\"text-align: right;\">\n      <th></th>\n      <th>PassengerId</th>\n      <th>Survived</th>\n      <th>Pclass</th>\n      <th>Name</th>\n      <th>Sex</th>\n      <th>Age</th>\n      <th>SibSp</th>\n      <th>Parch</th>\n      <th>Ticket</th>\n      <th>Fare</th>\n      <th>Cabin</th>\n      <th>Embarked</th>\n      <th>last_name</th>\n      <th>first_name</th>\n      <th>Thrid&amp;Men</th>\n      <th>Age_group</th>\n    </tr>\n  </thead>\n  <tbody>\n    <tr>\n      <th>0</th>\n      <td>1</td>\n      <td>0</td>\n      <td>3</td>\n      <td>Braund, Mr. Owen Harris</td>\n      <td>0</td>\n      <td>22.0</td>\n      <td>1</td>\n      <td>0</td>\n      <td>A/5 21171</td>\n      <td>7.2500</td>\n      <td>NaN</td>\n      <td>S</td>\n      <td>Braund</td>\n      <td>Mr. Owen Harris</td>\n      <td>1</td>\n      <td>2</td>\n    </tr>\n    <tr>\n      <th>1</th>\n      <td>2</td>\n      <td>1</td>\n      <td>1</td>\n      <td>Cumings, Mrs. John Bradley (Florence Briggs Th...</td>\n      <td>1</td>\n      <td>38.0</td>\n      <td>1</td>\n      <td>0</td>\n      <td>PC 17599</td>\n      <td>71.2833</td>\n      <td>C85</td>\n      <td>C</td>\n      <td>Cumings</td>\n      <td>Mrs. John Bradley (Florence Briggs Thayer)</td>\n      <td>0</td>\n      <td>2</td>\n    </tr>\n    <tr>\n      <th>2</th>\n      <td>3</td>\n      <td>1</td>\n      <td>3</td>\n      <td>Heikkinen, Miss. Laina</td>\n      <td>1</td>\n      <td>26.0</td>\n      <td>0</td>\n      <td>0</td>\n      <td>STON/O2. 3101282</td>\n      <td>7.9250</td>\n      <td>NaN</td>\n      <td>S</td>\n      <td>Heikkinen</td>\n      <td>Miss. Laina</td>\n      <td>0</td>\n      <td>2</td>\n    </tr>\n    <tr>\n      <th>3</th>\n      <td>4</td>\n      <td>1</td>\n      <td>1</td>\n      <td>Futrelle, Mrs. Jacques Heath (Lily May Peel)</td>\n      <td>1</td>\n      <td>35.0</td>\n      <td>1</td>\n      <td>0</td>\n      <td>113803</td>\n      <td>53.1000</td>\n      <td>C123</td>\n      <td>S</td>\n      <td>Futrelle</td>\n      <td>Mrs. Jacques Heath (Lily May Peel)</td>\n      <td>0</td>\n      <td>2</td>\n    </tr>\n    <tr>\n      <th>4</th>\n      <td>5</td>\n      <td>0</td>\n      <td>3</td>\n      <td>Allen, Mr. William Henry</td>\n      <td>0</td>\n      <td>35.0</td>\n      <td>0</td>\n      <td>0</td>\n      <td>373450</td>\n      <td>8.0500</td>\n      <td>NaN</td>\n      <td>S</td>\n      <td>Allen</td>\n      <td>Mr. William Henry</td>\n      <td>1</td>\n      <td>2</td>\n    </tr>\n  </tbody>\n</table>\n</div>"
     },
     "execution_count": 25,
     "metadata": {},
     "output_type": "execute_result"
    }
   ],
   "source": [
    "df.head()"
   ]
  },
  {
   "cell_type": "code",
   "execution_count": 25,
   "id": "20fd9620",
   "metadata": {
    "papermill": {
     "duration": 0.028802,
     "end_time": "2022-08-23T14:02:35.927346",
     "exception": false,
     "start_time": "2022-08-23T14:02:35.898544",
     "status": "completed"
    },
    "tags": [],
    "ExecuteTime": {
     "end_time": "2023-11-08T21:44:46.200751700Z",
     "start_time": "2023-11-08T21:44:46.046888400Z"
    }
   },
   "outputs": [],
   "source": []
  },
  {
   "cell_type": "markdown",
   "id": "ae741011",
   "metadata": {
    "papermill": {
     "duration": 0.028699,
     "end_time": "2022-08-23T14:02:35.985002",
     "exception": false,
     "start_time": "2022-08-23T14:02:35.956303",
     "status": "completed"
    },
    "tags": []
   },
   "source": [
    "<a id=\"content5\"></a>\n",
    "## 5. Deleting columns"
   ]
  },
  {
   "cell_type": "code",
   "execution_count": 26,
   "id": "9a36c8b3",
   "metadata": {
    "execution": {
     "iopub.execute_input": "2022-08-23T14:02:36.045492Z",
     "iopub.status.busy": "2022-08-23T14:02:36.045059Z",
     "iopub.status.idle": "2022-08-23T14:02:36.063311Z",
     "shell.execute_reply": "2022-08-23T14:02:36.062438Z"
    },
    "papermill": {
     "duration": 0.050976,
     "end_time": "2022-08-23T14:02:36.065513",
     "exception": false,
     "start_time": "2022-08-23T14:02:36.014537",
     "status": "completed"
    },
    "tags": [],
    "ExecuteTime": {
     "end_time": "2023-11-08T21:44:47.972796900Z",
     "start_time": "2023-11-08T21:44:47.842711900Z"
    }
   },
   "outputs": [
    {
     "data": {
      "text/plain": "   PassengerId  Survived  Pclass  \\\n0            1         0       3   \n1            2         1       1   \n2            3         1       3   \n3            4         1       1   \n4            5         0       3   \n\n                                                Name Sex   Age  SibSp  Parch  \\\n0                            Braund, Mr. Owen Harris   0  22.0      1      0   \n1  Cumings, Mrs. John Bradley (Florence Briggs Th...   1  38.0      1      0   \n2                             Heikkinen, Miss. Laina   1  26.0      0      0   \n3       Futrelle, Mrs. Jacques Heath (Lily May Peel)   1  35.0      1      0   \n4                           Allen, Mr. William Henry   0  35.0      0      0   \n\n             Ticket     Fare Cabin Embarked  last_name  \\\n0         A/5 21171   7.2500   NaN        S     Braund   \n1          PC 17599  71.2833   C85        C    Cumings   \n2  STON/O2. 3101282   7.9250   NaN        S  Heikkinen   \n3            113803  53.1000  C123        S   Futrelle   \n4            373450   8.0500   NaN        S      Allen   \n\n                                    first_name  Thrid&Men  Age_group  \n0                              Mr. Owen Harris          1          2  \n1   Mrs. John Bradley (Florence Briggs Thayer)          0          2  \n2                                  Miss. Laina          0          2  \n3           Mrs. Jacques Heath (Lily May Peel)          0          2  \n4                            Mr. William Henry          1          2  ",
      "text/html": "<div>\n<style scoped>\n    .dataframe tbody tr th:only-of-type {\n        vertical-align: middle;\n    }\n\n    .dataframe tbody tr th {\n        vertical-align: top;\n    }\n\n    .dataframe thead th {\n        text-align: right;\n    }\n</style>\n<table border=\"1\" class=\"dataframe\">\n  <thead>\n    <tr style=\"text-align: right;\">\n      <th></th>\n      <th>PassengerId</th>\n      <th>Survived</th>\n      <th>Pclass</th>\n      <th>Name</th>\n      <th>Sex</th>\n      <th>Age</th>\n      <th>SibSp</th>\n      <th>Parch</th>\n      <th>Ticket</th>\n      <th>Fare</th>\n      <th>Cabin</th>\n      <th>Embarked</th>\n      <th>last_name</th>\n      <th>first_name</th>\n      <th>Thrid&amp;Men</th>\n      <th>Age_group</th>\n    </tr>\n  </thead>\n  <tbody>\n    <tr>\n      <th>0</th>\n      <td>1</td>\n      <td>0</td>\n      <td>3</td>\n      <td>Braund, Mr. Owen Harris</td>\n      <td>0</td>\n      <td>22.0</td>\n      <td>1</td>\n      <td>0</td>\n      <td>A/5 21171</td>\n      <td>7.2500</td>\n      <td>NaN</td>\n      <td>S</td>\n      <td>Braund</td>\n      <td>Mr. Owen Harris</td>\n      <td>1</td>\n      <td>2</td>\n    </tr>\n    <tr>\n      <th>1</th>\n      <td>2</td>\n      <td>1</td>\n      <td>1</td>\n      <td>Cumings, Mrs. John Bradley (Florence Briggs Th...</td>\n      <td>1</td>\n      <td>38.0</td>\n      <td>1</td>\n      <td>0</td>\n      <td>PC 17599</td>\n      <td>71.2833</td>\n      <td>C85</td>\n      <td>C</td>\n      <td>Cumings</td>\n      <td>Mrs. John Bradley (Florence Briggs Thayer)</td>\n      <td>0</td>\n      <td>2</td>\n    </tr>\n    <tr>\n      <th>2</th>\n      <td>3</td>\n      <td>1</td>\n      <td>3</td>\n      <td>Heikkinen, Miss. Laina</td>\n      <td>1</td>\n      <td>26.0</td>\n      <td>0</td>\n      <td>0</td>\n      <td>STON/O2. 3101282</td>\n      <td>7.9250</td>\n      <td>NaN</td>\n      <td>S</td>\n      <td>Heikkinen</td>\n      <td>Miss. Laina</td>\n      <td>0</td>\n      <td>2</td>\n    </tr>\n    <tr>\n      <th>3</th>\n      <td>4</td>\n      <td>1</td>\n      <td>1</td>\n      <td>Futrelle, Mrs. Jacques Heath (Lily May Peel)</td>\n      <td>1</td>\n      <td>35.0</td>\n      <td>1</td>\n      <td>0</td>\n      <td>113803</td>\n      <td>53.1000</td>\n      <td>C123</td>\n      <td>S</td>\n      <td>Futrelle</td>\n      <td>Mrs. Jacques Heath (Lily May Peel)</td>\n      <td>0</td>\n      <td>2</td>\n    </tr>\n    <tr>\n      <th>4</th>\n      <td>5</td>\n      <td>0</td>\n      <td>3</td>\n      <td>Allen, Mr. William Henry</td>\n      <td>0</td>\n      <td>35.0</td>\n      <td>0</td>\n      <td>0</td>\n      <td>373450</td>\n      <td>8.0500</td>\n      <td>NaN</td>\n      <td>S</td>\n      <td>Allen</td>\n      <td>Mr. William Henry</td>\n      <td>1</td>\n      <td>2</td>\n    </tr>\n  </tbody>\n</table>\n</div>"
     },
     "execution_count": 26,
     "metadata": {},
     "output_type": "execute_result"
    }
   ],
   "source": [
    "df.head()"
   ]
  },
  {
   "cell_type": "code",
   "execution_count": 27,
   "id": "96ed0c38",
   "metadata": {
    "execution": {
     "iopub.execute_input": "2022-08-23T14:02:36.126153Z",
     "iopub.status.busy": "2022-08-23T14:02:36.125438Z",
     "iopub.status.idle": "2022-08-23T14:02:36.144160Z",
     "shell.execute_reply": "2022-08-23T14:02:36.143325Z"
    },
    "papermill": {
     "duration": 0.051286,
     "end_time": "2022-08-23T14:02:36.146244",
     "exception": false,
     "start_time": "2022-08-23T14:02:36.094958",
     "status": "completed"
    },
    "tags": [],
    "ExecuteTime": {
     "end_time": "2023-11-08T21:44:48.782725500Z",
     "start_time": "2023-11-08T21:44:48.548181500Z"
    }
   },
   "outputs": [
    {
     "data": {
      "text/plain": "   Survived  Pclass                                               Name Sex  \\\n0         0       3                            Braund, Mr. Owen Harris   0   \n1         1       1  Cumings, Mrs. John Bradley (Florence Briggs Th...   1   \n2         1       3                             Heikkinen, Miss. Laina   1   \n3         1       1       Futrelle, Mrs. Jacques Heath (Lily May Peel)   1   \n4         0       3                           Allen, Mr. William Henry   0   \n\n    Age  SibSp  Parch            Ticket     Fare Cabin Embarked  last_name  \\\n0  22.0      1      0         A/5 21171   7.2500   NaN        S     Braund   \n1  38.0      1      0          PC 17599  71.2833   C85        C    Cumings   \n2  26.0      0      0  STON/O2. 3101282   7.9250   NaN        S  Heikkinen   \n3  35.0      1      0            113803  53.1000  C123        S   Futrelle   \n4  35.0      0      0            373450   8.0500   NaN        S      Allen   \n\n                                    first_name  Thrid&Men  Age_group  \n0                              Mr. Owen Harris          1          2  \n1   Mrs. John Bradley (Florence Briggs Thayer)          0          2  \n2                                  Miss. Laina          0          2  \n3           Mrs. Jacques Heath (Lily May Peel)          0          2  \n4                            Mr. William Henry          1          2  ",
      "text/html": "<div>\n<style scoped>\n    .dataframe tbody tr th:only-of-type {\n        vertical-align: middle;\n    }\n\n    .dataframe tbody tr th {\n        vertical-align: top;\n    }\n\n    .dataframe thead th {\n        text-align: right;\n    }\n</style>\n<table border=\"1\" class=\"dataframe\">\n  <thead>\n    <tr style=\"text-align: right;\">\n      <th></th>\n      <th>Survived</th>\n      <th>Pclass</th>\n      <th>Name</th>\n      <th>Sex</th>\n      <th>Age</th>\n      <th>SibSp</th>\n      <th>Parch</th>\n      <th>Ticket</th>\n      <th>Fare</th>\n      <th>Cabin</th>\n      <th>Embarked</th>\n      <th>last_name</th>\n      <th>first_name</th>\n      <th>Thrid&amp;Men</th>\n      <th>Age_group</th>\n    </tr>\n  </thead>\n  <tbody>\n    <tr>\n      <th>0</th>\n      <td>0</td>\n      <td>3</td>\n      <td>Braund, Mr. Owen Harris</td>\n      <td>0</td>\n      <td>22.0</td>\n      <td>1</td>\n      <td>0</td>\n      <td>A/5 21171</td>\n      <td>7.2500</td>\n      <td>NaN</td>\n      <td>S</td>\n      <td>Braund</td>\n      <td>Mr. Owen Harris</td>\n      <td>1</td>\n      <td>2</td>\n    </tr>\n    <tr>\n      <th>1</th>\n      <td>1</td>\n      <td>1</td>\n      <td>Cumings, Mrs. John Bradley (Florence Briggs Th...</td>\n      <td>1</td>\n      <td>38.0</td>\n      <td>1</td>\n      <td>0</td>\n      <td>PC 17599</td>\n      <td>71.2833</td>\n      <td>C85</td>\n      <td>C</td>\n      <td>Cumings</td>\n      <td>Mrs. John Bradley (Florence Briggs Thayer)</td>\n      <td>0</td>\n      <td>2</td>\n    </tr>\n    <tr>\n      <th>2</th>\n      <td>1</td>\n      <td>3</td>\n      <td>Heikkinen, Miss. Laina</td>\n      <td>1</td>\n      <td>26.0</td>\n      <td>0</td>\n      <td>0</td>\n      <td>STON/O2. 3101282</td>\n      <td>7.9250</td>\n      <td>NaN</td>\n      <td>S</td>\n      <td>Heikkinen</td>\n      <td>Miss. Laina</td>\n      <td>0</td>\n      <td>2</td>\n    </tr>\n    <tr>\n      <th>3</th>\n      <td>1</td>\n      <td>1</td>\n      <td>Futrelle, Mrs. Jacques Heath (Lily May Peel)</td>\n      <td>1</td>\n      <td>35.0</td>\n      <td>1</td>\n      <td>0</td>\n      <td>113803</td>\n      <td>53.1000</td>\n      <td>C123</td>\n      <td>S</td>\n      <td>Futrelle</td>\n      <td>Mrs. Jacques Heath (Lily May Peel)</td>\n      <td>0</td>\n      <td>2</td>\n    </tr>\n    <tr>\n      <th>4</th>\n      <td>0</td>\n      <td>3</td>\n      <td>Allen, Mr. William Henry</td>\n      <td>0</td>\n      <td>35.0</td>\n      <td>0</td>\n      <td>0</td>\n      <td>373450</td>\n      <td>8.0500</td>\n      <td>NaN</td>\n      <td>S</td>\n      <td>Allen</td>\n      <td>Mr. William Henry</td>\n      <td>1</td>\n      <td>2</td>\n    </tr>\n  </tbody>\n</table>\n</div>"
     },
     "execution_count": 27,
     "metadata": {},
     "output_type": "execute_result"
    }
   ],
   "source": [
    "df=df.drop(['PassengerId'],axis=1)\n",
    "#df=df.drop(['PassengerId'],axis=1,inplace=True)\n",
    "df.head()"
   ]
  },
  {
   "cell_type": "code",
   "execution_count": 27,
   "id": "0fcbb16a",
   "metadata": {
    "papermill": {
     "duration": 0.028917,
     "end_time": "2022-08-23T14:02:36.204413",
     "exception": false,
     "start_time": "2022-08-23T14:02:36.175496",
     "status": "completed"
    },
    "tags": [],
    "ExecuteTime": {
     "end_time": "2023-11-08T21:44:55.514919100Z",
     "start_time": "2023-11-08T21:44:55.368610Z"
    }
   },
   "outputs": [],
   "source": []
  },
  {
   "cell_type": "markdown",
   "id": "115fdb9e",
   "metadata": {
    "papermill": {
     "duration": 0.029423,
     "end_time": "2022-08-23T14:02:36.263357",
     "exception": false,
     "start_time": "2022-08-23T14:02:36.233934",
     "status": "completed"
    },
    "tags": []
   },
   "source": [
    "<a id=\"content6\"></a>\n",
    "## 6. Renaming columns"
   ]
  },
  {
   "cell_type": "code",
   "execution_count": 28,
   "id": "3eef83d9",
   "metadata": {
    "execution": {
     "iopub.execute_input": "2022-08-23T14:02:36.331887Z",
     "iopub.status.busy": "2022-08-23T14:02:36.331191Z",
     "iopub.status.idle": "2022-08-23T14:02:36.349611Z",
     "shell.execute_reply": "2022-08-23T14:02:36.348579Z"
    },
    "papermill": {
     "duration": 0.052072,
     "end_time": "2022-08-23T14:02:36.351818",
     "exception": false,
     "start_time": "2022-08-23T14:02:36.299746",
     "status": "completed"
    },
    "tags": [],
    "ExecuteTime": {
     "end_time": "2023-11-08T21:44:56.975344100Z",
     "start_time": "2023-11-08T21:44:56.767041300Z"
    }
   },
   "outputs": [
    {
     "data": {
      "text/plain": "   Survived  Pclass                                          Full Name Gender  \\\n0         0       3                            Braund, Mr. Owen Harris      0   \n1         1       1  Cumings, Mrs. John Bradley (Florence Briggs Th...      1   \n2         1       3                             Heikkinen, Miss. Laina      1   \n3         1       1       Futrelle, Mrs. Jacques Heath (Lily May Peel)      1   \n4         0       3                           Allen, Mr. William Henry      0   \n\n    Age  SibSp  Parch            Ticket     Fare Cabin Embarked    Surname  \\\n0  22.0      1      0         A/5 21171   7.2500   NaN        S     Braund   \n1  38.0      1      0          PC 17599  71.2833   C85        C    Cumings   \n2  26.0      0      0  STON/O2. 3101282   7.9250   NaN        S  Heikkinen   \n3  35.0      1      0            113803  53.1000  C123        S   Futrelle   \n4  35.0      0      0            373450   8.0500   NaN        S      Allen   \n\n                                          Name  Thrid&Men  Age_group  \n0                              Mr. Owen Harris          1          2  \n1   Mrs. John Bradley (Florence Briggs Thayer)          0          2  \n2                                  Miss. Laina          0          2  \n3           Mrs. Jacques Heath (Lily May Peel)          0          2  \n4                            Mr. William Henry          1          2  ",
      "text/html": "<div>\n<style scoped>\n    .dataframe tbody tr th:only-of-type {\n        vertical-align: middle;\n    }\n\n    .dataframe tbody tr th {\n        vertical-align: top;\n    }\n\n    .dataframe thead th {\n        text-align: right;\n    }\n</style>\n<table border=\"1\" class=\"dataframe\">\n  <thead>\n    <tr style=\"text-align: right;\">\n      <th></th>\n      <th>Survived</th>\n      <th>Pclass</th>\n      <th>Full Name</th>\n      <th>Gender</th>\n      <th>Age</th>\n      <th>SibSp</th>\n      <th>Parch</th>\n      <th>Ticket</th>\n      <th>Fare</th>\n      <th>Cabin</th>\n      <th>Embarked</th>\n      <th>Surname</th>\n      <th>Name</th>\n      <th>Thrid&amp;Men</th>\n      <th>Age_group</th>\n    </tr>\n  </thead>\n  <tbody>\n    <tr>\n      <th>0</th>\n      <td>0</td>\n      <td>3</td>\n      <td>Braund, Mr. Owen Harris</td>\n      <td>0</td>\n      <td>22.0</td>\n      <td>1</td>\n      <td>0</td>\n      <td>A/5 21171</td>\n      <td>7.2500</td>\n      <td>NaN</td>\n      <td>S</td>\n      <td>Braund</td>\n      <td>Mr. Owen Harris</td>\n      <td>1</td>\n      <td>2</td>\n    </tr>\n    <tr>\n      <th>1</th>\n      <td>1</td>\n      <td>1</td>\n      <td>Cumings, Mrs. John Bradley (Florence Briggs Th...</td>\n      <td>1</td>\n      <td>38.0</td>\n      <td>1</td>\n      <td>0</td>\n      <td>PC 17599</td>\n      <td>71.2833</td>\n      <td>C85</td>\n      <td>C</td>\n      <td>Cumings</td>\n      <td>Mrs. John Bradley (Florence Briggs Thayer)</td>\n      <td>0</td>\n      <td>2</td>\n    </tr>\n    <tr>\n      <th>2</th>\n      <td>1</td>\n      <td>3</td>\n      <td>Heikkinen, Miss. Laina</td>\n      <td>1</td>\n      <td>26.0</td>\n      <td>0</td>\n      <td>0</td>\n      <td>STON/O2. 3101282</td>\n      <td>7.9250</td>\n      <td>NaN</td>\n      <td>S</td>\n      <td>Heikkinen</td>\n      <td>Miss. Laina</td>\n      <td>0</td>\n      <td>2</td>\n    </tr>\n    <tr>\n      <th>3</th>\n      <td>1</td>\n      <td>1</td>\n      <td>Futrelle, Mrs. Jacques Heath (Lily May Peel)</td>\n      <td>1</td>\n      <td>35.0</td>\n      <td>1</td>\n      <td>0</td>\n      <td>113803</td>\n      <td>53.1000</td>\n      <td>C123</td>\n      <td>S</td>\n      <td>Futrelle</td>\n      <td>Mrs. Jacques Heath (Lily May Peel)</td>\n      <td>0</td>\n      <td>2</td>\n    </tr>\n    <tr>\n      <th>4</th>\n      <td>0</td>\n      <td>3</td>\n      <td>Allen, Mr. William Henry</td>\n      <td>0</td>\n      <td>35.0</td>\n      <td>0</td>\n      <td>0</td>\n      <td>373450</td>\n      <td>8.0500</td>\n      <td>NaN</td>\n      <td>S</td>\n      <td>Allen</td>\n      <td>Mr. William Henry</td>\n      <td>1</td>\n      <td>2</td>\n    </tr>\n  </tbody>\n</table>\n</div>"
     },
     "execution_count": 28,
     "metadata": {},
     "output_type": "execute_result"
    }
   ],
   "source": [
    "# Lets try to rename some columns. \n",
    "df=df.rename(columns={'Sex':'Gender','Name':'Full Name','last_name':'Surname','first_name':'Name'})\n",
    "df.head()"
   ]
  },
  {
   "cell_type": "markdown",
   "id": "311f28dd",
   "metadata": {
    "papermill": {
     "duration": 0.029609,
     "end_time": "2022-08-23T14:02:36.411276",
     "exception": false,
     "start_time": "2022-08-23T14:02:36.381667",
     "status": "completed"
    },
    "tags": []
   },
   "source": [
    "Similarly, we can do for whichever column we want."
   ]
  },
  {
   "cell_type": "code",
   "execution_count": 28,
   "id": "c16faf3e",
   "metadata": {
    "papermill": {
     "duration": 0.029123,
     "end_time": "2022-08-23T14:02:36.470237",
     "exception": false,
     "start_time": "2022-08-23T14:02:36.441114",
     "status": "completed"
    },
    "tags": [],
    "ExecuteTime": {
     "end_time": "2023-11-08T21:45:00.133704900Z",
     "start_time": "2023-11-08T21:45:00.009018800Z"
    }
   },
   "outputs": [],
   "source": []
  },
  {
   "cell_type": "markdown",
   "id": "77983fcc",
   "metadata": {
    "papermill": {
     "duration": 0.029695,
     "end_time": "2022-08-23T14:02:36.529722",
     "exception": false,
     "start_time": "2022-08-23T14:02:36.500027",
     "status": "completed"
    },
    "tags": []
   },
   "source": [
    "<a id=\"content7\"></a>\n",
    "## 7.i Slicing DataFrame"
   ]
  },
  {
   "cell_type": "code",
   "execution_count": 29,
   "id": "9ed481a8",
   "metadata": {
    "execution": {
     "iopub.execute_input": "2022-08-23T14:02:36.591866Z",
     "iopub.status.busy": "2022-08-23T14:02:36.591433Z",
     "iopub.status.idle": "2022-08-23T14:02:36.611432Z",
     "shell.execute_reply": "2022-08-23T14:02:36.610309Z"
    },
    "papermill": {
     "duration": 0.054175,
     "end_time": "2022-08-23T14:02:36.613958",
     "exception": false,
     "start_time": "2022-08-23T14:02:36.559783",
     "status": "completed"
    },
    "tags": [],
    "ExecuteTime": {
     "end_time": "2023-11-08T21:45:04.679596400Z",
     "start_time": "2023-11-08T21:45:04.554010900Z"
    }
   },
   "outputs": [
    {
     "data": {
      "text/plain": "   Survived  Pclass                                          Full Name Gender  \\\n0         0       3                            Braund, Mr. Owen Harris      0   \n1         1       1  Cumings, Mrs. John Bradley (Florence Briggs Th...      1   \n2         1       3                             Heikkinen, Miss. Laina      1   \n3         1       1       Futrelle, Mrs. Jacques Heath (Lily May Peel)      1   \n4         0       3                           Allen, Mr. William Henry      0   \n\n    Age  SibSp  Parch            Ticket     Fare Cabin Embarked    Surname  \\\n0  22.0      1      0         A/5 21171   7.2500   NaN        S     Braund   \n1  38.0      1      0          PC 17599  71.2833   C85        C    Cumings   \n2  26.0      0      0  STON/O2. 3101282   7.9250   NaN        S  Heikkinen   \n3  35.0      1      0            113803  53.1000  C123        S   Futrelle   \n4  35.0      0      0            373450   8.0500   NaN        S      Allen   \n\n                                          Name  Thrid&Men  Age_group  \n0                              Mr. Owen Harris          1          2  \n1   Mrs. John Bradley (Florence Briggs Thayer)          0          2  \n2                                  Miss. Laina          0          2  \n3           Mrs. Jacques Heath (Lily May Peel)          0          2  \n4                            Mr. William Henry          1          2  ",
      "text/html": "<div>\n<style scoped>\n    .dataframe tbody tr th:only-of-type {\n        vertical-align: middle;\n    }\n\n    .dataframe tbody tr th {\n        vertical-align: top;\n    }\n\n    .dataframe thead th {\n        text-align: right;\n    }\n</style>\n<table border=\"1\" class=\"dataframe\">\n  <thead>\n    <tr style=\"text-align: right;\">\n      <th></th>\n      <th>Survived</th>\n      <th>Pclass</th>\n      <th>Full Name</th>\n      <th>Gender</th>\n      <th>Age</th>\n      <th>SibSp</th>\n      <th>Parch</th>\n      <th>Ticket</th>\n      <th>Fare</th>\n      <th>Cabin</th>\n      <th>Embarked</th>\n      <th>Surname</th>\n      <th>Name</th>\n      <th>Thrid&amp;Men</th>\n      <th>Age_group</th>\n    </tr>\n  </thead>\n  <tbody>\n    <tr>\n      <th>0</th>\n      <td>0</td>\n      <td>3</td>\n      <td>Braund, Mr. Owen Harris</td>\n      <td>0</td>\n      <td>22.0</td>\n      <td>1</td>\n      <td>0</td>\n      <td>A/5 21171</td>\n      <td>7.2500</td>\n      <td>NaN</td>\n      <td>S</td>\n      <td>Braund</td>\n      <td>Mr. Owen Harris</td>\n      <td>1</td>\n      <td>2</td>\n    </tr>\n    <tr>\n      <th>1</th>\n      <td>1</td>\n      <td>1</td>\n      <td>Cumings, Mrs. John Bradley (Florence Briggs Th...</td>\n      <td>1</td>\n      <td>38.0</td>\n      <td>1</td>\n      <td>0</td>\n      <td>PC 17599</td>\n      <td>71.2833</td>\n      <td>C85</td>\n      <td>C</td>\n      <td>Cumings</td>\n      <td>Mrs. John Bradley (Florence Briggs Thayer)</td>\n      <td>0</td>\n      <td>2</td>\n    </tr>\n    <tr>\n      <th>2</th>\n      <td>1</td>\n      <td>3</td>\n      <td>Heikkinen, Miss. Laina</td>\n      <td>1</td>\n      <td>26.0</td>\n      <td>0</td>\n      <td>0</td>\n      <td>STON/O2. 3101282</td>\n      <td>7.9250</td>\n      <td>NaN</td>\n      <td>S</td>\n      <td>Heikkinen</td>\n      <td>Miss. Laina</td>\n      <td>0</td>\n      <td>2</td>\n    </tr>\n    <tr>\n      <th>3</th>\n      <td>1</td>\n      <td>1</td>\n      <td>Futrelle, Mrs. Jacques Heath (Lily May Peel)</td>\n      <td>1</td>\n      <td>35.0</td>\n      <td>1</td>\n      <td>0</td>\n      <td>113803</td>\n      <td>53.1000</td>\n      <td>C123</td>\n      <td>S</td>\n      <td>Futrelle</td>\n      <td>Mrs. Jacques Heath (Lily May Peel)</td>\n      <td>0</td>\n      <td>2</td>\n    </tr>\n    <tr>\n      <th>4</th>\n      <td>0</td>\n      <td>3</td>\n      <td>Allen, Mr. William Henry</td>\n      <td>0</td>\n      <td>35.0</td>\n      <td>0</td>\n      <td>0</td>\n      <td>373450</td>\n      <td>8.0500</td>\n      <td>NaN</td>\n      <td>S</td>\n      <td>Allen</td>\n      <td>Mr. William Henry</td>\n      <td>1</td>\n      <td>2</td>\n    </tr>\n  </tbody>\n</table>\n</div>"
     },
     "execution_count": 29,
     "metadata": {},
     "output_type": "execute_result"
    }
   ],
   "source": [
    "df.head()"
   ]
  },
  {
   "cell_type": "code",
   "execution_count": 30,
   "id": "b7b24878",
   "metadata": {
    "execution": {
     "iopub.execute_input": "2022-08-23T14:02:36.677582Z",
     "iopub.status.busy": "2022-08-23T14:02:36.676603Z",
     "iopub.status.idle": "2022-08-23T14:02:36.696550Z",
     "shell.execute_reply": "2022-08-23T14:02:36.695473Z"
    },
    "papermill": {
     "duration": 0.053816,
     "end_time": "2022-08-23T14:02:36.698854",
     "exception": false,
     "start_time": "2022-08-23T14:02:36.645038",
     "status": "completed"
    },
    "tags": [],
    "ExecuteTime": {
     "end_time": "2023-11-08T21:45:06.182095700Z",
     "start_time": "2023-11-08T21:45:06.091114200Z"
    }
   },
   "outputs": [
    {
     "data": {
      "text/plain": "   Survived  Pclass                       Full Name Gender        Age  SibSp  \\\n0         0       3         Braund, Mr. Owen Harris      0  22.000000      1   \n1         1       3          Heikkinen, Miss. Laina      1  26.000000      0   \n2         0       3        Allen, Mr. William Henry      0  35.000000      0   \n3         0       3                Moran, Mr. James      0  29.699118      0   \n4         0       3  Palsson, Master. Gosta Leonard      0   2.000000      3   \n\n   Parch            Ticket     Fare Cabin Embarked    Surname  \\\n0      0         A/5 21171   7.2500   NaN        S     Braund   \n1      0  STON/O2. 3101282   7.9250   NaN        S  Heikkinen   \n2      0            373450   8.0500   NaN        S      Allen   \n3      0            330877   8.4583   NaN        Q      Moran   \n4      1            349909  21.0750   NaN        S    Palsson   \n\n                     Name  Thrid&Men  Age_group  \n0         Mr. Owen Harris          1          2  \n1             Miss. Laina          0          2  \n2       Mr. William Henry          1          2  \n3               Mr. James          1          2  \n4   Master. Gosta Leonard          1          1  ",
      "text/html": "<div>\n<style scoped>\n    .dataframe tbody tr th:only-of-type {\n        vertical-align: middle;\n    }\n\n    .dataframe tbody tr th {\n        vertical-align: top;\n    }\n\n    .dataframe thead th {\n        text-align: right;\n    }\n</style>\n<table border=\"1\" class=\"dataframe\">\n  <thead>\n    <tr style=\"text-align: right;\">\n      <th></th>\n      <th>Survived</th>\n      <th>Pclass</th>\n      <th>Full Name</th>\n      <th>Gender</th>\n      <th>Age</th>\n      <th>SibSp</th>\n      <th>Parch</th>\n      <th>Ticket</th>\n      <th>Fare</th>\n      <th>Cabin</th>\n      <th>Embarked</th>\n      <th>Surname</th>\n      <th>Name</th>\n      <th>Thrid&amp;Men</th>\n      <th>Age_group</th>\n    </tr>\n  </thead>\n  <tbody>\n    <tr>\n      <th>0</th>\n      <td>0</td>\n      <td>3</td>\n      <td>Braund, Mr. Owen Harris</td>\n      <td>0</td>\n      <td>22.000000</td>\n      <td>1</td>\n      <td>0</td>\n      <td>A/5 21171</td>\n      <td>7.2500</td>\n      <td>NaN</td>\n      <td>S</td>\n      <td>Braund</td>\n      <td>Mr. Owen Harris</td>\n      <td>1</td>\n      <td>2</td>\n    </tr>\n    <tr>\n      <th>1</th>\n      <td>1</td>\n      <td>3</td>\n      <td>Heikkinen, Miss. Laina</td>\n      <td>1</td>\n      <td>26.000000</td>\n      <td>0</td>\n      <td>0</td>\n      <td>STON/O2. 3101282</td>\n      <td>7.9250</td>\n      <td>NaN</td>\n      <td>S</td>\n      <td>Heikkinen</td>\n      <td>Miss. Laina</td>\n      <td>0</td>\n      <td>2</td>\n    </tr>\n    <tr>\n      <th>2</th>\n      <td>0</td>\n      <td>3</td>\n      <td>Allen, Mr. William Henry</td>\n      <td>0</td>\n      <td>35.000000</td>\n      <td>0</td>\n      <td>0</td>\n      <td>373450</td>\n      <td>8.0500</td>\n      <td>NaN</td>\n      <td>S</td>\n      <td>Allen</td>\n      <td>Mr. William Henry</td>\n      <td>1</td>\n      <td>2</td>\n    </tr>\n    <tr>\n      <th>3</th>\n      <td>0</td>\n      <td>3</td>\n      <td>Moran, Mr. James</td>\n      <td>0</td>\n      <td>29.699118</td>\n      <td>0</td>\n      <td>0</td>\n      <td>330877</td>\n      <td>8.4583</td>\n      <td>NaN</td>\n      <td>Q</td>\n      <td>Moran</td>\n      <td>Mr. James</td>\n      <td>1</td>\n      <td>2</td>\n    </tr>\n    <tr>\n      <th>4</th>\n      <td>0</td>\n      <td>3</td>\n      <td>Palsson, Master. Gosta Leonard</td>\n      <td>0</td>\n      <td>2.000000</td>\n      <td>3</td>\n      <td>1</td>\n      <td>349909</td>\n      <td>21.0750</td>\n      <td>NaN</td>\n      <td>S</td>\n      <td>Palsson</td>\n      <td>Master. Gosta Leonard</td>\n      <td>1</td>\n      <td>1</td>\n    </tr>\n  </tbody>\n</table>\n</div>"
     },
     "execution_count": 30,
     "metadata": {},
     "output_type": "execute_result"
    }
   ],
   "source": [
    "# All rows with pclass==3\n",
    "df_third_class=df[df['Pclass']==3].reset_index(drop=True) # w/0 drop=True it actually adds a index column rather.\n",
    "df_third_class.head()"
   ]
  },
  {
   "cell_type": "code",
   "execution_count": 31,
   "id": "5d165102",
   "metadata": {
    "execution": {
     "iopub.execute_input": "2022-08-23T14:02:36.762020Z",
     "iopub.status.busy": "2022-08-23T14:02:36.761597Z",
     "iopub.status.idle": "2022-08-23T14:02:36.786834Z",
     "shell.execute_reply": "2022-08-23T14:02:36.785808Z"
    },
    "papermill": {
     "duration": 0.059416,
     "end_time": "2022-08-23T14:02:36.788993",
     "exception": false,
     "start_time": "2022-08-23T14:02:36.729577",
     "status": "completed"
    },
    "tags": [],
    "ExecuteTime": {
     "end_time": "2023-11-08T21:45:07.887897400Z",
     "start_time": "2023-11-08T21:45:07.658137300Z"
    }
   },
   "outputs": [
    {
     "data": {
      "text/plain": "     Survived  Pclass                                  Full Name Gender   Age  \\\n275         1       1          Andrews, Miss. Kornelia Theodosia      1  63.0   \n483         1       3                     Turkula, Mrs. (Hedwig)      1  63.0   \n829         1       1  Stone, Mrs. George Nelson (Martha Evelyn)      1  62.0   \n\n     SibSp  Parch  Ticket     Fare Cabin Embarked  Surname  \\\n275      1      0   13502  77.9583    D7        S  Andrews   \n483      0      0    4134   9.5875   NaN        S  Turkula   \n829      0      0  113572  80.0000   B28      NaN    Stone   \n\n                                    Name  Thrid&Men  Age_group  \n275             Miss. Kornelia Theodosia          0          4  \n483                        Mrs. (Hedwig)          0          4  \n829   Mrs. George Nelson (Martha Evelyn)          0          4  ",
      "text/html": "<div>\n<style scoped>\n    .dataframe tbody tr th:only-of-type {\n        vertical-align: middle;\n    }\n\n    .dataframe tbody tr th {\n        vertical-align: top;\n    }\n\n    .dataframe thead th {\n        text-align: right;\n    }\n</style>\n<table border=\"1\" class=\"dataframe\">\n  <thead>\n    <tr style=\"text-align: right;\">\n      <th></th>\n      <th>Survived</th>\n      <th>Pclass</th>\n      <th>Full Name</th>\n      <th>Gender</th>\n      <th>Age</th>\n      <th>SibSp</th>\n      <th>Parch</th>\n      <th>Ticket</th>\n      <th>Fare</th>\n      <th>Cabin</th>\n      <th>Embarked</th>\n      <th>Surname</th>\n      <th>Name</th>\n      <th>Thrid&amp;Men</th>\n      <th>Age_group</th>\n    </tr>\n  </thead>\n  <tbody>\n    <tr>\n      <th>275</th>\n      <td>1</td>\n      <td>1</td>\n      <td>Andrews, Miss. Kornelia Theodosia</td>\n      <td>1</td>\n      <td>63.0</td>\n      <td>1</td>\n      <td>0</td>\n      <td>13502</td>\n      <td>77.9583</td>\n      <td>D7</td>\n      <td>S</td>\n      <td>Andrews</td>\n      <td>Miss. Kornelia Theodosia</td>\n      <td>0</td>\n      <td>4</td>\n    </tr>\n    <tr>\n      <th>483</th>\n      <td>1</td>\n      <td>3</td>\n      <td>Turkula, Mrs. (Hedwig)</td>\n      <td>1</td>\n      <td>63.0</td>\n      <td>0</td>\n      <td>0</td>\n      <td>4134</td>\n      <td>9.5875</td>\n      <td>NaN</td>\n      <td>S</td>\n      <td>Turkula</td>\n      <td>Mrs. (Hedwig)</td>\n      <td>0</td>\n      <td>4</td>\n    </tr>\n    <tr>\n      <th>829</th>\n      <td>1</td>\n      <td>1</td>\n      <td>Stone, Mrs. George Nelson (Martha Evelyn)</td>\n      <td>1</td>\n      <td>62.0</td>\n      <td>0</td>\n      <td>0</td>\n      <td>113572</td>\n      <td>80.0000</td>\n      <td>B28</td>\n      <td>NaN</td>\n      <td>Stone</td>\n      <td>Mrs. George Nelson (Martha Evelyn)</td>\n      <td>0</td>\n      <td>4</td>\n    </tr>\n  </tbody>\n</table>\n</div>"
     },
     "execution_count": 31,
     "metadata": {},
     "output_type": "execute_result"
    }
   ],
   "source": [
    "# Females with age > 60\n",
    "df_aged=df[(df['Age']>60) & (df['Gender']==\"1\")]\n",
    "df_aged.head()"
   ]
  },
  {
   "cell_type": "markdown",
   "id": "b06be405",
   "metadata": {
    "papermill": {
     "duration": 0.030452,
     "end_time": "2022-08-23T14:02:36.850345",
     "exception": false,
     "start_time": "2022-08-23T14:02:36.819893",
     "status": "completed"
    },
    "tags": []
   },
   "source": [
    "**Note that all these three ladies were saved as they were senior citizen and women so they may have been given priority.**"
   ]
  },
  {
   "cell_type": "code",
   "execution_count": 32,
   "id": "a0a21497",
   "metadata": {
    "execution": {
     "iopub.execute_input": "2022-08-23T14:02:36.914453Z",
     "iopub.status.busy": "2022-08-23T14:02:36.913751Z",
     "iopub.status.idle": "2022-08-23T14:02:36.925571Z",
     "shell.execute_reply": "2022-08-23T14:02:36.924499Z"
    },
    "papermill": {
     "duration": 0.046393,
     "end_time": "2022-08-23T14:02:36.928046",
     "exception": false,
     "start_time": "2022-08-23T14:02:36.881653",
     "status": "completed"
    },
    "tags": [],
    "ExecuteTime": {
     "end_time": "2023-11-08T21:45:13.745665800Z",
     "start_time": "2023-11-08T21:45:13.615875100Z"
    }
   },
   "outputs": [
    {
     "data": {
      "text/plain": "    Age  Pclass Gender\n0  22.0       3      0\n1  38.0       1      1\n2  26.0       3      1\n3  35.0       1      1\n4  35.0       3      0",
      "text/html": "<div>\n<style scoped>\n    .dataframe tbody tr th:only-of-type {\n        vertical-align: middle;\n    }\n\n    .dataframe tbody tr th {\n        vertical-align: top;\n    }\n\n    .dataframe thead th {\n        text-align: right;\n    }\n</style>\n<table border=\"1\" class=\"dataframe\">\n  <thead>\n    <tr style=\"text-align: right;\">\n      <th></th>\n      <th>Age</th>\n      <th>Pclass</th>\n      <th>Gender</th>\n    </tr>\n  </thead>\n  <tbody>\n    <tr>\n      <th>0</th>\n      <td>22.0</td>\n      <td>3</td>\n      <td>0</td>\n    </tr>\n    <tr>\n      <th>1</th>\n      <td>38.0</td>\n      <td>1</td>\n      <td>1</td>\n    </tr>\n    <tr>\n      <th>2</th>\n      <td>26.0</td>\n      <td>3</td>\n      <td>1</td>\n    </tr>\n    <tr>\n      <th>3</th>\n      <td>35.0</td>\n      <td>1</td>\n      <td>1</td>\n    </tr>\n    <tr>\n      <th>4</th>\n      <td>35.0</td>\n      <td>3</td>\n      <td>0</td>\n    </tr>\n  </tbody>\n</table>\n</div>"
     },
     "execution_count": 32,
     "metadata": {},
     "output_type": "execute_result"
    }
   ],
   "source": [
    "# Selecting some columns.\n",
    "df1=df[['Age','Pclass','Gender']]\n",
    "df1.head()"
   ]
  },
  {
   "cell_type": "code",
   "execution_count": 33,
   "id": "7fef31e4",
   "metadata": {
    "execution": {
     "iopub.execute_input": "2022-08-23T14:02:36.993284Z",
     "iopub.status.busy": "2022-08-23T14:02:36.992516Z",
     "iopub.status.idle": "2022-08-23T14:02:37.008288Z",
     "shell.execute_reply": "2022-08-23T14:02:37.007301Z"
    },
    "papermill": {
     "duration": 0.050989,
     "end_time": "2022-08-23T14:02:37.010659",
     "exception": false,
     "start_time": "2022-08-23T14:02:36.959670",
     "status": "completed"
    },
    "tags": [],
    "ExecuteTime": {
     "end_time": "2023-11-08T21:45:14.920933100Z",
     "start_time": "2023-11-08T21:45:14.858197900Z"
    }
   },
   "outputs": [
    {
     "data": {
      "text/plain": "   Survived  Pclass   Age  SibSp  Parch     Fare  Thrid&Men  Age_group\n0         0       3  22.0      1      0   7.2500          1          2\n1         1       1  38.0      1      0  71.2833          0          2\n2         1       3  26.0      0      0   7.9250          0          2\n3         1       1  35.0      1      0  53.1000          0          2\n4         0       3  35.0      0      0   8.0500          1          2",
      "text/html": "<div>\n<style scoped>\n    .dataframe tbody tr th:only-of-type {\n        vertical-align: middle;\n    }\n\n    .dataframe tbody tr th {\n        vertical-align: top;\n    }\n\n    .dataframe thead th {\n        text-align: right;\n    }\n</style>\n<table border=\"1\" class=\"dataframe\">\n  <thead>\n    <tr style=\"text-align: right;\">\n      <th></th>\n      <th>Survived</th>\n      <th>Pclass</th>\n      <th>Age</th>\n      <th>SibSp</th>\n      <th>Parch</th>\n      <th>Fare</th>\n      <th>Thrid&amp;Men</th>\n      <th>Age_group</th>\n    </tr>\n  </thead>\n  <tbody>\n    <tr>\n      <th>0</th>\n      <td>0</td>\n      <td>3</td>\n      <td>22.0</td>\n      <td>1</td>\n      <td>0</td>\n      <td>7.2500</td>\n      <td>1</td>\n      <td>2</td>\n    </tr>\n    <tr>\n      <th>1</th>\n      <td>1</td>\n      <td>1</td>\n      <td>38.0</td>\n      <td>1</td>\n      <td>0</td>\n      <td>71.2833</td>\n      <td>0</td>\n      <td>2</td>\n    </tr>\n    <tr>\n      <th>2</th>\n      <td>1</td>\n      <td>3</td>\n      <td>26.0</td>\n      <td>0</td>\n      <td>0</td>\n      <td>7.9250</td>\n      <td>0</td>\n      <td>2</td>\n    </tr>\n    <tr>\n      <th>3</th>\n      <td>1</td>\n      <td>1</td>\n      <td>35.0</td>\n      <td>1</td>\n      <td>0</td>\n      <td>53.1000</td>\n      <td>0</td>\n      <td>2</td>\n    </tr>\n    <tr>\n      <th>4</th>\n      <td>0</td>\n      <td>3</td>\n      <td>35.0</td>\n      <td>0</td>\n      <td>0</td>\n      <td>8.0500</td>\n      <td>1</td>\n      <td>2</td>\n    </tr>\n  </tbody>\n</table>\n</div>"
     },
     "execution_count": 33,
     "metadata": {},
     "output_type": "execute_result"
    }
   ],
   "source": [
    "# Select numerical columns only\n",
    "numerics = ['int16', 'int32', 'int64', 'float16', 'float32', 'float64']\n",
    "\n",
    "df_num = df.select_dtypes(include=numerics)\n",
    "df_num.head()"
   ]
  },
  {
   "cell_type": "code",
   "execution_count": 34,
   "id": "527b5871",
   "metadata": {
    "execution": {
     "iopub.execute_input": "2022-08-23T14:02:37.076444Z",
     "iopub.status.busy": "2022-08-23T14:02:37.076039Z",
     "iopub.status.idle": "2022-08-23T14:02:37.093473Z",
     "shell.execute_reply": "2022-08-23T14:02:37.092289Z"
    },
    "papermill": {
     "duration": 0.052865,
     "end_time": "2022-08-23T14:02:37.095728",
     "exception": false,
     "start_time": "2022-08-23T14:02:37.042863",
     "status": "completed"
    },
    "tags": [],
    "ExecuteTime": {
     "end_time": "2023-11-08T21:45:16.474000300Z",
     "start_time": "2023-11-08T21:45:16.270121100Z"
    }
   },
   "outputs": [
    {
     "data": {
      "text/plain": "                                           Full Name Gender            Ticket  \\\n0                            Braund, Mr. Owen Harris      0         A/5 21171   \n1  Cumings, Mrs. John Bradley (Florence Briggs Th...      1          PC 17599   \n2                             Heikkinen, Miss. Laina      1  STON/O2. 3101282   \n3       Futrelle, Mrs. Jacques Heath (Lily May Peel)      1            113803   \n4                           Allen, Mr. William Henry      0            373450   \n\n  Cabin Embarked    Surname                                         Name  \n0   NaN        S     Braund                              Mr. Owen Harris  \n1   C85        C    Cumings   Mrs. John Bradley (Florence Briggs Thayer)  \n2   NaN        S  Heikkinen                                  Miss. Laina  \n3  C123        S   Futrelle           Mrs. Jacques Heath (Lily May Peel)  \n4   NaN        S      Allen                            Mr. William Henry  ",
      "text/html": "<div>\n<style scoped>\n    .dataframe tbody tr th:only-of-type {\n        vertical-align: middle;\n    }\n\n    .dataframe tbody tr th {\n        vertical-align: top;\n    }\n\n    .dataframe thead th {\n        text-align: right;\n    }\n</style>\n<table border=\"1\" class=\"dataframe\">\n  <thead>\n    <tr style=\"text-align: right;\">\n      <th></th>\n      <th>Full Name</th>\n      <th>Gender</th>\n      <th>Ticket</th>\n      <th>Cabin</th>\n      <th>Embarked</th>\n      <th>Surname</th>\n      <th>Name</th>\n    </tr>\n  </thead>\n  <tbody>\n    <tr>\n      <th>0</th>\n      <td>Braund, Mr. Owen Harris</td>\n      <td>0</td>\n      <td>A/5 21171</td>\n      <td>NaN</td>\n      <td>S</td>\n      <td>Braund</td>\n      <td>Mr. Owen Harris</td>\n    </tr>\n    <tr>\n      <th>1</th>\n      <td>Cumings, Mrs. John Bradley (Florence Briggs Th...</td>\n      <td>1</td>\n      <td>PC 17599</td>\n      <td>C85</td>\n      <td>C</td>\n      <td>Cumings</td>\n      <td>Mrs. John Bradley (Florence Briggs Thayer)</td>\n    </tr>\n    <tr>\n      <th>2</th>\n      <td>Heikkinen, Miss. Laina</td>\n      <td>1</td>\n      <td>STON/O2. 3101282</td>\n      <td>NaN</td>\n      <td>S</td>\n      <td>Heikkinen</td>\n      <td>Miss. Laina</td>\n    </tr>\n    <tr>\n      <th>3</th>\n      <td>Futrelle, Mrs. Jacques Heath (Lily May Peel)</td>\n      <td>1</td>\n      <td>113803</td>\n      <td>C123</td>\n      <td>S</td>\n      <td>Futrelle</td>\n      <td>Mrs. Jacques Heath (Lily May Peel)</td>\n    </tr>\n    <tr>\n      <th>4</th>\n      <td>Allen, Mr. William Henry</td>\n      <td>0</td>\n      <td>373450</td>\n      <td>NaN</td>\n      <td>S</td>\n      <td>Allen</td>\n      <td>Mr. William Henry</td>\n    </tr>\n  </tbody>\n</table>\n</div>"
     },
     "execution_count": 34,
     "metadata": {},
     "output_type": "execute_result"
    }
   ],
   "source": [
    "# categorical columns\n",
    "df_cat=df.select_dtypes(include=['object'])\n",
    "df_cat.head()"
   ]
  },
  {
   "cell_type": "code",
   "execution_count": 34,
   "id": "952c8038",
   "metadata": {
    "papermill": {
     "duration": 0.031012,
     "end_time": "2022-08-23T14:02:37.158416",
     "exception": false,
     "start_time": "2022-08-23T14:02:37.127404",
     "status": "completed"
    },
    "tags": [],
    "ExecuteTime": {
     "end_time": "2023-11-08T21:45:16.657955600Z",
     "start_time": "2023-11-08T21:45:16.386414900Z"
    }
   },
   "outputs": [],
   "source": []
  },
  {
   "cell_type": "markdown",
   "id": "a968ec24",
   "metadata": {
    "papermill": {
     "duration": 0.030629,
     "end_time": "2022-08-23T14:02:37.220234",
     "exception": false,
     "start_time": "2022-08-23T14:02:37.189605",
     "status": "completed"
    },
    "tags": []
   },
   "source": [
    "<a id=\"content8\"></a>\n",
    "## 7.ii Slicing using iloc and loc"
   ]
  },
  {
   "cell_type": "markdown",
   "id": "b23f5365",
   "metadata": {
    "papermill": {
     "duration": 0.03098,
     "end_time": "2022-08-23T14:02:37.282376",
     "exception": false,
     "start_time": "2022-08-23T14:02:37.251396",
     "status": "completed"
    },
    "tags": []
   },
   "source": [
    "#### iloc"
   ]
  },
  {
   "cell_type": "code",
   "execution_count": 35,
   "id": "e4f9d4a4",
   "metadata": {
    "execution": {
     "iopub.execute_input": "2022-08-23T14:02:37.346528Z",
     "iopub.status.busy": "2022-08-23T14:02:37.346128Z",
     "iopub.status.idle": "2022-08-23T14:02:37.364413Z",
     "shell.execute_reply": "2022-08-23T14:02:37.363407Z"
    },
    "papermill": {
     "duration": 0.052962,
     "end_time": "2022-08-23T14:02:37.366606",
     "exception": false,
     "start_time": "2022-08-23T14:02:37.313644",
     "status": "completed"
    },
    "tags": [],
    "ExecuteTime": {
     "end_time": "2023-11-08T21:45:24.919130300Z",
     "start_time": "2023-11-08T21:45:24.773577600Z"
    }
   },
   "outputs": [
    {
     "data": {
      "text/plain": "   Survived  Pclass                                          Full Name Gender  \\\n0         0       3                            Braund, Mr. Owen Harris      0   \n1         1       1  Cumings, Mrs. John Bradley (Florence Briggs Th...      1   \n2         1       3                             Heikkinen, Miss. Laina      1   \n3         1       1       Futrelle, Mrs. Jacques Heath (Lily May Peel)      1   \n4         0       3                           Allen, Mr. William Henry      0   \n\n    Age  SibSp  Parch            Ticket     Fare Cabin Embarked    Surname  \\\n0  22.0      1      0         A/5 21171   7.2500   NaN        S     Braund   \n1  38.0      1      0          PC 17599  71.2833   C85        C    Cumings   \n2  26.0      0      0  STON/O2. 3101282   7.9250   NaN        S  Heikkinen   \n3  35.0      1      0            113803  53.1000  C123        S   Futrelle   \n4  35.0      0      0            373450   8.0500   NaN        S      Allen   \n\n                                          Name  Thrid&Men  Age_group  \n0                              Mr. Owen Harris          1          2  \n1   Mrs. John Bradley (Florence Briggs Thayer)          0          2  \n2                                  Miss. Laina          0          2  \n3           Mrs. Jacques Heath (Lily May Peel)          0          2  \n4                            Mr. William Henry          1          2  ",
      "text/html": "<div>\n<style scoped>\n    .dataframe tbody tr th:only-of-type {\n        vertical-align: middle;\n    }\n\n    .dataframe tbody tr th {\n        vertical-align: top;\n    }\n\n    .dataframe thead th {\n        text-align: right;\n    }\n</style>\n<table border=\"1\" class=\"dataframe\">\n  <thead>\n    <tr style=\"text-align: right;\">\n      <th></th>\n      <th>Survived</th>\n      <th>Pclass</th>\n      <th>Full Name</th>\n      <th>Gender</th>\n      <th>Age</th>\n      <th>SibSp</th>\n      <th>Parch</th>\n      <th>Ticket</th>\n      <th>Fare</th>\n      <th>Cabin</th>\n      <th>Embarked</th>\n      <th>Surname</th>\n      <th>Name</th>\n      <th>Thrid&amp;Men</th>\n      <th>Age_group</th>\n    </tr>\n  </thead>\n  <tbody>\n    <tr>\n      <th>0</th>\n      <td>0</td>\n      <td>3</td>\n      <td>Braund, Mr. Owen Harris</td>\n      <td>0</td>\n      <td>22.0</td>\n      <td>1</td>\n      <td>0</td>\n      <td>A/5 21171</td>\n      <td>7.2500</td>\n      <td>NaN</td>\n      <td>S</td>\n      <td>Braund</td>\n      <td>Mr. Owen Harris</td>\n      <td>1</td>\n      <td>2</td>\n    </tr>\n    <tr>\n      <th>1</th>\n      <td>1</td>\n      <td>1</td>\n      <td>Cumings, Mrs. John Bradley (Florence Briggs Th...</td>\n      <td>1</td>\n      <td>38.0</td>\n      <td>1</td>\n      <td>0</td>\n      <td>PC 17599</td>\n      <td>71.2833</td>\n      <td>C85</td>\n      <td>C</td>\n      <td>Cumings</td>\n      <td>Mrs. John Bradley (Florence Briggs Thayer)</td>\n      <td>0</td>\n      <td>2</td>\n    </tr>\n    <tr>\n      <th>2</th>\n      <td>1</td>\n      <td>3</td>\n      <td>Heikkinen, Miss. Laina</td>\n      <td>1</td>\n      <td>26.0</td>\n      <td>0</td>\n      <td>0</td>\n      <td>STON/O2. 3101282</td>\n      <td>7.9250</td>\n      <td>NaN</td>\n      <td>S</td>\n      <td>Heikkinen</td>\n      <td>Miss. Laina</td>\n      <td>0</td>\n      <td>2</td>\n    </tr>\n    <tr>\n      <th>3</th>\n      <td>1</td>\n      <td>1</td>\n      <td>Futrelle, Mrs. Jacques Heath (Lily May Peel)</td>\n      <td>1</td>\n      <td>35.0</td>\n      <td>1</td>\n      <td>0</td>\n      <td>113803</td>\n      <td>53.1000</td>\n      <td>C123</td>\n      <td>S</td>\n      <td>Futrelle</td>\n      <td>Mrs. Jacques Heath (Lily May Peel)</td>\n      <td>0</td>\n      <td>2</td>\n    </tr>\n    <tr>\n      <th>4</th>\n      <td>0</td>\n      <td>3</td>\n      <td>Allen, Mr. William Henry</td>\n      <td>0</td>\n      <td>35.0</td>\n      <td>0</td>\n      <td>0</td>\n      <td>373450</td>\n      <td>8.0500</td>\n      <td>NaN</td>\n      <td>S</td>\n      <td>Allen</td>\n      <td>Mr. William Henry</td>\n      <td>1</td>\n      <td>2</td>\n    </tr>\n  </tbody>\n</table>\n</div>"
     },
     "execution_count": 35,
     "metadata": {},
     "output_type": "execute_result"
    }
   ],
   "source": [
    "df.head()"
   ]
  },
  {
   "cell_type": "code",
   "execution_count": 36,
   "id": "b0006c95",
   "metadata": {
    "execution": {
     "iopub.execute_input": "2022-08-23T14:02:37.431330Z",
     "iopub.status.busy": "2022-08-23T14:02:37.430899Z",
     "iopub.status.idle": "2022-08-23T14:02:37.450233Z",
     "shell.execute_reply": "2022-08-23T14:02:37.449152Z"
    },
    "papermill": {
     "duration": 0.05424,
     "end_time": "2022-08-23T14:02:37.452520",
     "exception": false,
     "start_time": "2022-08-23T14:02:37.398280",
     "status": "completed"
    },
    "tags": [],
    "ExecuteTime": {
     "end_time": "2023-11-08T21:45:26.213433Z",
     "start_time": "2023-11-08T21:45:26.089700800Z"
    }
   },
   "outputs": [
    {
     "data": {
      "text/plain": "   Survived  Pclass                                          Full Name Gender  \\\n0         0       3                            Braund, Mr. Owen Harris      0   \n1         1       1  Cumings, Mrs. John Bradley (Florence Briggs Th...      1   \n2         1       3                             Heikkinen, Miss. Laina      1   \n3         1       1       Futrelle, Mrs. Jacques Heath (Lily May Peel)      1   \n4         0       3                           Allen, Mr. William Henry      0   \n\n    Age  SibSp  Parch            Ticket     Fare Cabin Embarked    Surname  \\\n0  22.0      1      0         A/5 21171   7.2500   NaN        S     Braund   \n1  38.0      1      0          PC 17599  71.2833   C85        C    Cumings   \n2  26.0      0      0  STON/O2. 3101282   7.9250   NaN        S  Heikkinen   \n3  35.0      1      0            113803  53.1000  C123        S   Futrelle   \n4  35.0      0      0            373450   8.0500   NaN        S      Allen   \n\n                                          Name  Thrid&Men  Age_group  \n0                              Mr. Owen Harris          1          2  \n1   Mrs. John Bradley (Florence Briggs Thayer)          0          2  \n2                                  Miss. Laina          0          2  \n3           Mrs. Jacques Heath (Lily May Peel)          0          2  \n4                            Mr. William Henry          1          2  ",
      "text/html": "<div>\n<style scoped>\n    .dataframe tbody tr th:only-of-type {\n        vertical-align: middle;\n    }\n\n    .dataframe tbody tr th {\n        vertical-align: top;\n    }\n\n    .dataframe thead th {\n        text-align: right;\n    }\n</style>\n<table border=\"1\" class=\"dataframe\">\n  <thead>\n    <tr style=\"text-align: right;\">\n      <th></th>\n      <th>Survived</th>\n      <th>Pclass</th>\n      <th>Full Name</th>\n      <th>Gender</th>\n      <th>Age</th>\n      <th>SibSp</th>\n      <th>Parch</th>\n      <th>Ticket</th>\n      <th>Fare</th>\n      <th>Cabin</th>\n      <th>Embarked</th>\n      <th>Surname</th>\n      <th>Name</th>\n      <th>Thrid&amp;Men</th>\n      <th>Age_group</th>\n    </tr>\n  </thead>\n  <tbody>\n    <tr>\n      <th>0</th>\n      <td>0</td>\n      <td>3</td>\n      <td>Braund, Mr. Owen Harris</td>\n      <td>0</td>\n      <td>22.0</td>\n      <td>1</td>\n      <td>0</td>\n      <td>A/5 21171</td>\n      <td>7.2500</td>\n      <td>NaN</td>\n      <td>S</td>\n      <td>Braund</td>\n      <td>Mr. Owen Harris</td>\n      <td>1</td>\n      <td>2</td>\n    </tr>\n    <tr>\n      <th>1</th>\n      <td>1</td>\n      <td>1</td>\n      <td>Cumings, Mrs. John Bradley (Florence Briggs Th...</td>\n      <td>1</td>\n      <td>38.0</td>\n      <td>1</td>\n      <td>0</td>\n      <td>PC 17599</td>\n      <td>71.2833</td>\n      <td>C85</td>\n      <td>C</td>\n      <td>Cumings</td>\n      <td>Mrs. John Bradley (Florence Briggs Thayer)</td>\n      <td>0</td>\n      <td>2</td>\n    </tr>\n    <tr>\n      <th>2</th>\n      <td>1</td>\n      <td>3</td>\n      <td>Heikkinen, Miss. Laina</td>\n      <td>1</td>\n      <td>26.0</td>\n      <td>0</td>\n      <td>0</td>\n      <td>STON/O2. 3101282</td>\n      <td>7.9250</td>\n      <td>NaN</td>\n      <td>S</td>\n      <td>Heikkinen</td>\n      <td>Miss. Laina</td>\n      <td>0</td>\n      <td>2</td>\n    </tr>\n    <tr>\n      <th>3</th>\n      <td>1</td>\n      <td>1</td>\n      <td>Futrelle, Mrs. Jacques Heath (Lily May Peel)</td>\n      <td>1</td>\n      <td>35.0</td>\n      <td>1</td>\n      <td>0</td>\n      <td>113803</td>\n      <td>53.1000</td>\n      <td>C123</td>\n      <td>S</td>\n      <td>Futrelle</td>\n      <td>Mrs. Jacques Heath (Lily May Peel)</td>\n      <td>0</td>\n      <td>2</td>\n    </tr>\n    <tr>\n      <th>4</th>\n      <td>0</td>\n      <td>3</td>\n      <td>Allen, Mr. William Henry</td>\n      <td>0</td>\n      <td>35.0</td>\n      <td>0</td>\n      <td>0</td>\n      <td>373450</td>\n      <td>8.0500</td>\n      <td>NaN</td>\n      <td>S</td>\n      <td>Allen</td>\n      <td>Mr. William Henry</td>\n      <td>1</td>\n      <td>2</td>\n    </tr>\n  </tbody>\n</table>\n</div>"
     },
     "execution_count": 36,
     "metadata": {},
     "output_type": "execute_result"
    }
   ],
   "source": [
    "# First 100 rows & all columns\n",
    "df_sub1=df.iloc[0:100,:]\n",
    "df_sub1.head()"
   ]
  },
  {
   "cell_type": "code",
   "execution_count": 37,
   "id": "a433f0ae",
   "metadata": {
    "execution": {
     "iopub.execute_input": "2022-08-23T14:02:37.518118Z",
     "iopub.status.busy": "2022-08-23T14:02:37.517762Z",
     "iopub.status.idle": "2022-08-23T14:02:37.528734Z",
     "shell.execute_reply": "2022-08-23T14:02:37.527662Z"
    },
    "papermill": {
     "duration": 0.046863,
     "end_time": "2022-08-23T14:02:37.531325",
     "exception": false,
     "start_time": "2022-08-23T14:02:37.484462",
     "status": "completed"
    },
    "tags": [],
    "ExecuteTime": {
     "end_time": "2023-11-08T21:45:27.710278300Z",
     "start_time": "2023-11-08T21:45:27.582174700Z"
    }
   },
   "outputs": [
    {
     "data": {
      "text/plain": "   Pclass     Fare\n0       3   7.2500\n1       1  71.2833\n2       3   7.9250\n3       1  53.1000\n4       3   8.0500",
      "text/html": "<div>\n<style scoped>\n    .dataframe tbody tr th:only-of-type {\n        vertical-align: middle;\n    }\n\n    .dataframe tbody tr th {\n        vertical-align: top;\n    }\n\n    .dataframe thead th {\n        text-align: right;\n    }\n</style>\n<table border=\"1\" class=\"dataframe\">\n  <thead>\n    <tr style=\"text-align: right;\">\n      <th></th>\n      <th>Pclass</th>\n      <th>Fare</th>\n    </tr>\n  </thead>\n  <tbody>\n    <tr>\n      <th>0</th>\n      <td>3</td>\n      <td>7.2500</td>\n    </tr>\n    <tr>\n      <th>1</th>\n      <td>1</td>\n      <td>71.2833</td>\n    </tr>\n    <tr>\n      <th>2</th>\n      <td>3</td>\n      <td>7.9250</td>\n    </tr>\n    <tr>\n      <th>3</th>\n      <td>1</td>\n      <td>53.1000</td>\n    </tr>\n    <tr>\n      <th>4</th>\n      <td>3</td>\n      <td>8.0500</td>\n    </tr>\n  </tbody>\n</table>\n</div>"
     },
     "execution_count": 37,
     "metadata": {},
     "output_type": "execute_result"
    }
   ],
   "source": [
    "#First 250 rows with a subset of columns\n",
    "\n",
    "#df_sub2=df.iloc[:250,['Age']] \n",
    "# This will throw an error as iloc only consumes integres as indices.\n",
    "\n",
    "df_sub2=df.iloc[:250,[1,8]] \n",
    "#Returns first 250 rows and columns at those indices in df.columns.\n",
    "df_sub2.head()"
   ]
  },
  {
   "cell_type": "code",
   "execution_count": 37,
   "id": "03f96158",
   "metadata": {
    "papermill": {
     "duration": 0.031814,
     "end_time": "2022-08-23T14:02:37.595085",
     "exception": false,
     "start_time": "2022-08-23T14:02:37.563271",
     "status": "completed"
    },
    "tags": [],
    "ExecuteTime": {
     "end_time": "2023-11-08T21:45:29.140446400Z",
     "start_time": "2023-11-08T21:45:28.993379800Z"
    }
   },
   "outputs": [],
   "source": []
  },
  {
   "cell_type": "markdown",
   "id": "5bf84e9b",
   "metadata": {
    "papermill": {
     "duration": 0.031586,
     "end_time": "2022-08-23T14:02:37.658628",
     "exception": false,
     "start_time": "2022-08-23T14:02:37.627042",
     "status": "completed"
    },
    "tags": []
   },
   "source": [
    "#### loc"
   ]
  },
  {
   "cell_type": "code",
   "execution_count": 38,
   "id": "be5ad0cd",
   "metadata": {
    "execution": {
     "iopub.execute_input": "2022-08-23T14:02:37.724047Z",
     "iopub.status.busy": "2022-08-23T14:02:37.723440Z",
     "iopub.status.idle": "2022-08-23T14:02:37.741192Z",
     "shell.execute_reply": "2022-08-23T14:02:37.740065Z"
    },
    "papermill": {
     "duration": 0.053177,
     "end_time": "2022-08-23T14:02:37.743380",
     "exception": false,
     "start_time": "2022-08-23T14:02:37.690203",
     "status": "completed"
    },
    "tags": [],
    "ExecuteTime": {
     "end_time": "2023-11-08T21:45:30.867268900Z",
     "start_time": "2023-11-08T21:45:30.762656Z"
    }
   },
   "outputs": [
    {
     "data": {
      "text/plain": "   Survived  Pclass                                          Full Name Gender  \\\n0         0       3                            Braund, Mr. Owen Harris      0   \n1         1       1  Cumings, Mrs. John Bradley (Florence Briggs Th...      1   \n2         1       3                             Heikkinen, Miss. Laina      1   \n3         1       1       Futrelle, Mrs. Jacques Heath (Lily May Peel)      1   \n4         0       3                           Allen, Mr. William Henry      0   \n\n    Age  SibSp  Parch            Ticket     Fare Cabin Embarked    Surname  \\\n0  22.0      1      0         A/5 21171   7.2500   NaN        S     Braund   \n1  38.0      1      0          PC 17599  71.2833   C85        C    Cumings   \n2  26.0      0      0  STON/O2. 3101282   7.9250   NaN        S  Heikkinen   \n3  35.0      1      0            113803  53.1000  C123        S   Futrelle   \n4  35.0      0      0            373450   8.0500   NaN        S      Allen   \n\n                                          Name  Thrid&Men  Age_group  \n0                              Mr. Owen Harris          1          2  \n1   Mrs. John Bradley (Florence Briggs Thayer)          0          2  \n2                                  Miss. Laina          0          2  \n3           Mrs. Jacques Heath (Lily May Peel)          0          2  \n4                            Mr. William Henry          1          2  ",
      "text/html": "<div>\n<style scoped>\n    .dataframe tbody tr th:only-of-type {\n        vertical-align: middle;\n    }\n\n    .dataframe tbody tr th {\n        vertical-align: top;\n    }\n\n    .dataframe thead th {\n        text-align: right;\n    }\n</style>\n<table border=\"1\" class=\"dataframe\">\n  <thead>\n    <tr style=\"text-align: right;\">\n      <th></th>\n      <th>Survived</th>\n      <th>Pclass</th>\n      <th>Full Name</th>\n      <th>Gender</th>\n      <th>Age</th>\n      <th>SibSp</th>\n      <th>Parch</th>\n      <th>Ticket</th>\n      <th>Fare</th>\n      <th>Cabin</th>\n      <th>Embarked</th>\n      <th>Surname</th>\n      <th>Name</th>\n      <th>Thrid&amp;Men</th>\n      <th>Age_group</th>\n    </tr>\n  </thead>\n  <tbody>\n    <tr>\n      <th>0</th>\n      <td>0</td>\n      <td>3</td>\n      <td>Braund, Mr. Owen Harris</td>\n      <td>0</td>\n      <td>22.0</td>\n      <td>1</td>\n      <td>0</td>\n      <td>A/5 21171</td>\n      <td>7.2500</td>\n      <td>NaN</td>\n      <td>S</td>\n      <td>Braund</td>\n      <td>Mr. Owen Harris</td>\n      <td>1</td>\n      <td>2</td>\n    </tr>\n    <tr>\n      <th>1</th>\n      <td>1</td>\n      <td>1</td>\n      <td>Cumings, Mrs. John Bradley (Florence Briggs Th...</td>\n      <td>1</td>\n      <td>38.0</td>\n      <td>1</td>\n      <td>0</td>\n      <td>PC 17599</td>\n      <td>71.2833</td>\n      <td>C85</td>\n      <td>C</td>\n      <td>Cumings</td>\n      <td>Mrs. John Bradley (Florence Briggs Thayer)</td>\n      <td>0</td>\n      <td>2</td>\n    </tr>\n    <tr>\n      <th>2</th>\n      <td>1</td>\n      <td>3</td>\n      <td>Heikkinen, Miss. Laina</td>\n      <td>1</td>\n      <td>26.0</td>\n      <td>0</td>\n      <td>0</td>\n      <td>STON/O2. 3101282</td>\n      <td>7.9250</td>\n      <td>NaN</td>\n      <td>S</td>\n      <td>Heikkinen</td>\n      <td>Miss. Laina</td>\n      <td>0</td>\n      <td>2</td>\n    </tr>\n    <tr>\n      <th>3</th>\n      <td>1</td>\n      <td>1</td>\n      <td>Futrelle, Mrs. Jacques Heath (Lily May Peel)</td>\n      <td>1</td>\n      <td>35.0</td>\n      <td>1</td>\n      <td>0</td>\n      <td>113803</td>\n      <td>53.1000</td>\n      <td>C123</td>\n      <td>S</td>\n      <td>Futrelle</td>\n      <td>Mrs. Jacques Heath (Lily May Peel)</td>\n      <td>0</td>\n      <td>2</td>\n    </tr>\n    <tr>\n      <th>4</th>\n      <td>0</td>\n      <td>3</td>\n      <td>Allen, Mr. William Henry</td>\n      <td>0</td>\n      <td>35.0</td>\n      <td>0</td>\n      <td>0</td>\n      <td>373450</td>\n      <td>8.0500</td>\n      <td>NaN</td>\n      <td>S</td>\n      <td>Allen</td>\n      <td>Mr. William Henry</td>\n      <td>1</td>\n      <td>2</td>\n    </tr>\n  </tbody>\n</table>\n</div>"
     },
     "execution_count": 38,
     "metadata": {},
     "output_type": "execute_result"
    }
   ],
   "source": [
    "df.head()"
   ]
  },
  {
   "cell_type": "code",
   "execution_count": 39,
   "id": "6fe77034",
   "metadata": {
    "execution": {
     "iopub.execute_input": "2022-08-23T14:02:37.810116Z",
     "iopub.status.busy": "2022-08-23T14:02:37.809489Z",
     "iopub.status.idle": "2022-08-23T14:02:37.814499Z",
     "shell.execute_reply": "2022-08-23T14:02:37.813622Z"
    },
    "papermill": {
     "duration": 0.040708,
     "end_time": "2022-08-23T14:02:37.816633",
     "exception": false,
     "start_time": "2022-08-23T14:02:37.775925",
     "status": "completed"
    },
    "tags": [],
    "ExecuteTime": {
     "end_time": "2023-11-08T21:45:31.765776400Z",
     "start_time": "2023-11-08T21:45:31.675386800Z"
    }
   },
   "outputs": [],
   "source": [
    "# First 500 rows.\n",
    "df_sub3=df.loc[:500,:]"
   ]
  },
  {
   "cell_type": "code",
   "execution_count": 40,
   "id": "d2abe166",
   "metadata": {
    "execution": {
     "iopub.execute_input": "2022-08-23T14:02:37.884847Z",
     "iopub.status.busy": "2022-08-23T14:02:37.884177Z",
     "iopub.status.idle": "2022-08-23T14:02:37.897106Z",
     "shell.execute_reply": "2022-08-23T14:02:37.895987Z"
    },
    "papermill": {
     "duration": 0.04943,
     "end_time": "2022-08-23T14:02:37.899275",
     "exception": false,
     "start_time": "2022-08-23T14:02:37.849845",
     "status": "completed"
    },
    "tags": [],
    "ExecuteTime": {
     "end_time": "2023-11-08T21:45:32.624948900Z",
     "start_time": "2023-11-08T21:45:32.568286100Z"
    }
   },
   "outputs": [
    {
     "data": {
      "text/plain": "   Gender   Age\n6       0  54.0\n11      1  58.0\n15      1  55.0\n33      0  66.0\n54      0  65.0",
      "text/html": "<div>\n<style scoped>\n    .dataframe tbody tr th:only-of-type {\n        vertical-align: middle;\n    }\n\n    .dataframe tbody tr th {\n        vertical-align: top;\n    }\n\n    .dataframe thead th {\n        text-align: right;\n    }\n</style>\n<table border=\"1\" class=\"dataframe\">\n  <thead>\n    <tr style=\"text-align: right;\">\n      <th></th>\n      <th>Gender</th>\n      <th>Age</th>\n    </tr>\n  </thead>\n  <tbody>\n    <tr>\n      <th>6</th>\n      <td>0</td>\n      <td>54.0</td>\n    </tr>\n    <tr>\n      <th>11</th>\n      <td>1</td>\n      <td>58.0</td>\n    </tr>\n    <tr>\n      <th>15</th>\n      <td>1</td>\n      <td>55.0</td>\n    </tr>\n    <tr>\n      <th>33</th>\n      <td>0</td>\n      <td>66.0</td>\n    </tr>\n    <tr>\n      <th>54</th>\n      <td>0</td>\n      <td>65.0</td>\n    </tr>\n  </tbody>\n</table>\n</div>"
     },
     "execution_count": 40,
     "metadata": {},
     "output_type": "execute_result"
    }
   ],
   "source": [
    "# Gender and age of age >50\n",
    "df_sub4=df.loc[(df['Age']>50),['Gender','Age']]\n",
    "df_sub4.head()"
   ]
  },
  {
   "cell_type": "code",
   "execution_count": 40,
   "id": "5f6bf721",
   "metadata": {
    "papermill": {
     "duration": 0.032051,
     "end_time": "2022-08-23T14:02:37.963867",
     "exception": false,
     "start_time": "2022-08-23T14:02:37.931816",
     "status": "completed"
    },
    "tags": [],
    "ExecuteTime": {
     "end_time": "2023-11-08T21:45:34.074286800Z",
     "start_time": "2023-11-08T21:45:33.951380100Z"
    }
   },
   "outputs": [],
   "source": []
  },
  {
   "cell_type": "markdown",
   "id": "f862dec2",
   "metadata": {
    "papermill": {
     "duration": 0.032643,
     "end_time": "2022-08-23T14:02:38.029209",
     "exception": false,
     "start_time": "2022-08-23T14:02:37.996566",
     "status": "completed"
    },
    "tags": []
   },
   "source": [
    "<a id=\"content9\"></a>\n",
    "## 8. Adding a row"
   ]
  },
  {
   "cell_type": "code",
   "execution_count": 41,
   "id": "406c6d11",
   "metadata": {
    "execution": {
     "iopub.execute_input": "2022-08-23T14:02:38.097454Z",
     "iopub.status.busy": "2022-08-23T14:02:38.096719Z",
     "iopub.status.idle": "2022-08-23T14:02:38.115354Z",
     "shell.execute_reply": "2022-08-23T14:02:38.114302Z"
    },
    "papermill": {
     "duration": 0.055365,
     "end_time": "2022-08-23T14:02:38.117703",
     "exception": false,
     "start_time": "2022-08-23T14:02:38.062338",
     "status": "completed"
    },
    "tags": [],
    "ExecuteTime": {
     "end_time": "2023-11-08T21:45:35.670756100Z",
     "start_time": "2023-11-08T21:45:35.577179900Z"
    }
   },
   "outputs": [
    {
     "data": {
      "text/plain": "   Survived  Pclass                                          Full Name Gender  \\\n0         0       3                            Braund, Mr. Owen Harris      0   \n1         1       1  Cumings, Mrs. John Bradley (Florence Briggs Th...      1   \n2         1       3                             Heikkinen, Miss. Laina      1   \n3         1       1       Futrelle, Mrs. Jacques Heath (Lily May Peel)      1   \n4         0       3                           Allen, Mr. William Henry      0   \n\n    Age  SibSp  Parch            Ticket     Fare Cabin Embarked    Surname  \\\n0  22.0      1      0         A/5 21171   7.2500   NaN        S     Braund   \n1  38.0      1      0          PC 17599  71.2833   C85        C    Cumings   \n2  26.0      0      0  STON/O2. 3101282   7.9250   NaN        S  Heikkinen   \n3  35.0      1      0            113803  53.1000  C123        S   Futrelle   \n4  35.0      0      0            373450   8.0500   NaN        S      Allen   \n\n                                          Name  Thrid&Men  Age_group  \n0                              Mr. Owen Harris          1          2  \n1   Mrs. John Bradley (Florence Briggs Thayer)          0          2  \n2                                  Miss. Laina          0          2  \n3           Mrs. Jacques Heath (Lily May Peel)          0          2  \n4                            Mr. William Henry          1          2  ",
      "text/html": "<div>\n<style scoped>\n    .dataframe tbody tr th:only-of-type {\n        vertical-align: middle;\n    }\n\n    .dataframe tbody tr th {\n        vertical-align: top;\n    }\n\n    .dataframe thead th {\n        text-align: right;\n    }\n</style>\n<table border=\"1\" class=\"dataframe\">\n  <thead>\n    <tr style=\"text-align: right;\">\n      <th></th>\n      <th>Survived</th>\n      <th>Pclass</th>\n      <th>Full Name</th>\n      <th>Gender</th>\n      <th>Age</th>\n      <th>SibSp</th>\n      <th>Parch</th>\n      <th>Ticket</th>\n      <th>Fare</th>\n      <th>Cabin</th>\n      <th>Embarked</th>\n      <th>Surname</th>\n      <th>Name</th>\n      <th>Thrid&amp;Men</th>\n      <th>Age_group</th>\n    </tr>\n  </thead>\n  <tbody>\n    <tr>\n      <th>0</th>\n      <td>0</td>\n      <td>3</td>\n      <td>Braund, Mr. Owen Harris</td>\n      <td>0</td>\n      <td>22.0</td>\n      <td>1</td>\n      <td>0</td>\n      <td>A/5 21171</td>\n      <td>7.2500</td>\n      <td>NaN</td>\n      <td>S</td>\n      <td>Braund</td>\n      <td>Mr. Owen Harris</td>\n      <td>1</td>\n      <td>2</td>\n    </tr>\n    <tr>\n      <th>1</th>\n      <td>1</td>\n      <td>1</td>\n      <td>Cumings, Mrs. John Bradley (Florence Briggs Th...</td>\n      <td>1</td>\n      <td>38.0</td>\n      <td>1</td>\n      <td>0</td>\n      <td>PC 17599</td>\n      <td>71.2833</td>\n      <td>C85</td>\n      <td>C</td>\n      <td>Cumings</td>\n      <td>Mrs. John Bradley (Florence Briggs Thayer)</td>\n      <td>0</td>\n      <td>2</td>\n    </tr>\n    <tr>\n      <th>2</th>\n      <td>1</td>\n      <td>3</td>\n      <td>Heikkinen, Miss. Laina</td>\n      <td>1</td>\n      <td>26.0</td>\n      <td>0</td>\n      <td>0</td>\n      <td>STON/O2. 3101282</td>\n      <td>7.9250</td>\n      <td>NaN</td>\n      <td>S</td>\n      <td>Heikkinen</td>\n      <td>Miss. Laina</td>\n      <td>0</td>\n      <td>2</td>\n    </tr>\n    <tr>\n      <th>3</th>\n      <td>1</td>\n      <td>1</td>\n      <td>Futrelle, Mrs. Jacques Heath (Lily May Peel)</td>\n      <td>1</td>\n      <td>35.0</td>\n      <td>1</td>\n      <td>0</td>\n      <td>113803</td>\n      <td>53.1000</td>\n      <td>C123</td>\n      <td>S</td>\n      <td>Futrelle</td>\n      <td>Mrs. Jacques Heath (Lily May Peel)</td>\n      <td>0</td>\n      <td>2</td>\n    </tr>\n    <tr>\n      <th>4</th>\n      <td>0</td>\n      <td>3</td>\n      <td>Allen, Mr. William Henry</td>\n      <td>0</td>\n      <td>35.0</td>\n      <td>0</td>\n      <td>0</td>\n      <td>373450</td>\n      <td>8.0500</td>\n      <td>NaN</td>\n      <td>S</td>\n      <td>Allen</td>\n      <td>Mr. William Henry</td>\n      <td>1</td>\n      <td>2</td>\n    </tr>\n  </tbody>\n</table>\n</div>"
     },
     "execution_count": 41,
     "metadata": {},
     "output_type": "execute_result"
    }
   ],
   "source": [
    "df.head()"
   ]
  },
  {
   "cell_type": "code",
   "execution_count": 42,
   "id": "df732f7f",
   "metadata": {
    "execution": {
     "iopub.execute_input": "2022-08-23T14:02:38.185581Z",
     "iopub.status.busy": "2022-08-23T14:02:38.185183Z",
     "iopub.status.idle": "2022-08-23T14:02:38.213342Z",
     "shell.execute_reply": "2022-08-23T14:02:38.212221Z"
    },
    "papermill": {
     "duration": 0.064887,
     "end_time": "2022-08-23T14:02:38.215628",
     "exception": false,
     "start_time": "2022-08-23T14:02:38.150741",
     "status": "completed"
    },
    "tags": [],
    "ExecuteTime": {
     "end_time": "2023-11-08T21:45:36.448245400Z",
     "start_time": "2023-11-08T21:45:36.310538700Z"
    }
   },
   "outputs": [
    {
     "data": {
      "text/plain": "    Survived  Pclass                                 Full Name Gender  \\\n887        1     1.0              Graham, Miss. Margaret Edith      1   \n888        0     3.0  Johnston, Miss. Catherine Helen \"Carrie\"      1   \n889        1     1.0                     Behr, Mr. Karl Howell      0   \n890        0     3.0                       Dooley, Mr. Patrick      0   \n891        Y     NaN                                     Peter    NaN   \n\n           Age  SibSp  Parch      Ticket   Fare Cabin Embarked   Surname  \\\n887  19.000000    0.0    0.0      112053  30.00   B42        S    Graham   \n888  29.699118    1.0    2.0  W./C. 6607  23.45   NaN        S  Johnston   \n889  26.000000    0.0    0.0      111369  30.00  C148        C      Behr   \n890  32.000000    0.0    0.0      370376   7.75   NaN        Q    Dooley   \n891  24.000000    NaN    NaN         NaN    NaN   NaN      NaN       NaN   \n\n                                Name  Thrid&Men  Age_group  \n887             Miss. Margaret Edith        0.0        2.0  \n888   Miss. Catherine Helen \"Carrie\"        0.0        2.0  \n889                  Mr. Karl Howell        0.0        2.0  \n890                      Mr. Patrick        1.0        2.0  \n891                              NaN        NaN        NaN  ",
      "text/html": "<div>\n<style scoped>\n    .dataframe tbody tr th:only-of-type {\n        vertical-align: middle;\n    }\n\n    .dataframe tbody tr th {\n        vertical-align: top;\n    }\n\n    .dataframe thead th {\n        text-align: right;\n    }\n</style>\n<table border=\"1\" class=\"dataframe\">\n  <thead>\n    <tr style=\"text-align: right;\">\n      <th></th>\n      <th>Survived</th>\n      <th>Pclass</th>\n      <th>Full Name</th>\n      <th>Gender</th>\n      <th>Age</th>\n      <th>SibSp</th>\n      <th>Parch</th>\n      <th>Ticket</th>\n      <th>Fare</th>\n      <th>Cabin</th>\n      <th>Embarked</th>\n      <th>Surname</th>\n      <th>Name</th>\n      <th>Thrid&amp;Men</th>\n      <th>Age_group</th>\n    </tr>\n  </thead>\n  <tbody>\n    <tr>\n      <th>887</th>\n      <td>1</td>\n      <td>1.0</td>\n      <td>Graham, Miss. Margaret Edith</td>\n      <td>1</td>\n      <td>19.000000</td>\n      <td>0.0</td>\n      <td>0.0</td>\n      <td>112053</td>\n      <td>30.00</td>\n      <td>B42</td>\n      <td>S</td>\n      <td>Graham</td>\n      <td>Miss. Margaret Edith</td>\n      <td>0.0</td>\n      <td>2.0</td>\n    </tr>\n    <tr>\n      <th>888</th>\n      <td>0</td>\n      <td>3.0</td>\n      <td>Johnston, Miss. Catherine Helen \"Carrie\"</td>\n      <td>1</td>\n      <td>29.699118</td>\n      <td>1.0</td>\n      <td>2.0</td>\n      <td>W./C. 6607</td>\n      <td>23.45</td>\n      <td>NaN</td>\n      <td>S</td>\n      <td>Johnston</td>\n      <td>Miss. Catherine Helen \"Carrie\"</td>\n      <td>0.0</td>\n      <td>2.0</td>\n    </tr>\n    <tr>\n      <th>889</th>\n      <td>1</td>\n      <td>1.0</td>\n      <td>Behr, Mr. Karl Howell</td>\n      <td>0</td>\n      <td>26.000000</td>\n      <td>0.0</td>\n      <td>0.0</td>\n      <td>111369</td>\n      <td>30.00</td>\n      <td>C148</td>\n      <td>C</td>\n      <td>Behr</td>\n      <td>Mr. Karl Howell</td>\n      <td>0.0</td>\n      <td>2.0</td>\n    </tr>\n    <tr>\n      <th>890</th>\n      <td>0</td>\n      <td>3.0</td>\n      <td>Dooley, Mr. Patrick</td>\n      <td>0</td>\n      <td>32.000000</td>\n      <td>0.0</td>\n      <td>0.0</td>\n      <td>370376</td>\n      <td>7.75</td>\n      <td>NaN</td>\n      <td>Q</td>\n      <td>Dooley</td>\n      <td>Mr. Patrick</td>\n      <td>1.0</td>\n      <td>2.0</td>\n    </tr>\n    <tr>\n      <th>891</th>\n      <td>Y</td>\n      <td>NaN</td>\n      <td>Peter</td>\n      <td>NaN</td>\n      <td>24.000000</td>\n      <td>NaN</td>\n      <td>NaN</td>\n      <td>NaN</td>\n      <td>NaN</td>\n      <td>NaN</td>\n      <td>NaN</td>\n      <td>NaN</td>\n      <td>NaN</td>\n      <td>NaN</td>\n      <td>NaN</td>\n    </tr>\n  </tbody>\n</table>\n</div>"
     },
     "execution_count": 42,
     "metadata": {},
     "output_type": "execute_result"
    }
   ],
   "source": [
    "# New row to add\n",
    "new_row = {'Age': 24, 'Full Name': 'Peter', 'Survived': 'Y'}\n",
    "\n",
    "# Concatenate the DataFrame with the new row\n",
    "df = pd.concat([df, pd.DataFrame([new_row])], ignore_index=True)\n",
    "\n",
    "df.tail()"
   ]
  },
  {
   "cell_type": "code",
   "execution_count": 42,
   "id": "69cb87bd",
   "metadata": {
    "papermill": {
     "duration": 0.033538,
     "end_time": "2022-08-23T14:02:38.282637",
     "exception": false,
     "start_time": "2022-08-23T14:02:38.249099",
     "status": "completed"
    },
    "tags": [],
    "ExecuteTime": {
     "end_time": "2023-11-08T21:45:37.709385500Z",
     "start_time": "2023-11-08T21:45:37.589188400Z"
    }
   },
   "outputs": [],
   "source": []
  },
  {
   "cell_type": "code",
   "execution_count": 44,
   "id": "b94bab1e",
   "metadata": {
    "execution": {
     "iopub.execute_input": "2022-08-23T14:02:38.350706Z",
     "iopub.status.busy": "2022-08-23T14:02:38.350330Z",
     "iopub.status.idle": "2022-08-23T14:02:38.377567Z",
     "shell.execute_reply": "2022-08-23T14:02:38.376743Z"
    },
    "papermill": {
     "duration": 0.063676,
     "end_time": "2022-08-23T14:02:38.379602",
     "exception": false,
     "start_time": "2022-08-23T14:02:38.315926",
     "status": "completed"
    },
    "tags": [],
    "ExecuteTime": {
     "end_time": "2023-11-08T21:50:32.473204500Z",
     "start_time": "2023-11-08T21:50:32.328725500Z"
    }
   },
   "outputs": [
    {
     "data": {
      "text/plain": "    Survived  Pclass                                 Full Name Gender  \\\n888        0     3.0  Johnston, Miss. Catherine Helen \"Carrie\"      1   \n889        1     1.0                     Behr, Mr. Karl Howell      0   \n890        0     3.0                       Dooley, Mr. Patrick      0   \n891        Y     NaN                                     Peter    NaN   \n892        Y     NaN                                     Peter    NaN   \n\n           Age  SibSp  Parch      Ticket   Fare Cabin Embarked   Surname  \\\n888  29.699118    1.0    2.0  W./C. 6607  23.45   NaN        S  Johnston   \n889  26.000000    0.0    0.0      111369  30.00  C148        C      Behr   \n890  32.000000    0.0    0.0      370376   7.75   NaN        Q    Dooley   \n891  24.000000    NaN    NaN         NaN    NaN   NaN      NaN       NaN   \n892  24.000000    NaN    NaN         NaN    NaN   NaN      NaN       NaN   \n\n                                Name  Thrid&Men  Age_group  \n888   Miss. Catherine Helen \"Carrie\"        0.0        2.0  \n889                  Mr. Karl Howell        0.0        2.0  \n890                      Mr. Patrick        1.0        2.0  \n891                              NaN        NaN        NaN  \n892                              NaN        NaN        NaN  ",
      "text/html": "<div>\n<style scoped>\n    .dataframe tbody tr th:only-of-type {\n        vertical-align: middle;\n    }\n\n    .dataframe tbody tr th {\n        vertical-align: top;\n    }\n\n    .dataframe thead th {\n        text-align: right;\n    }\n</style>\n<table border=\"1\" class=\"dataframe\">\n  <thead>\n    <tr style=\"text-align: right;\">\n      <th></th>\n      <th>Survived</th>\n      <th>Pclass</th>\n      <th>Full Name</th>\n      <th>Gender</th>\n      <th>Age</th>\n      <th>SibSp</th>\n      <th>Parch</th>\n      <th>Ticket</th>\n      <th>Fare</th>\n      <th>Cabin</th>\n      <th>Embarked</th>\n      <th>Surname</th>\n      <th>Name</th>\n      <th>Thrid&amp;Men</th>\n      <th>Age_group</th>\n    </tr>\n  </thead>\n  <tbody>\n    <tr>\n      <th>888</th>\n      <td>0</td>\n      <td>3.0</td>\n      <td>Johnston, Miss. Catherine Helen \"Carrie\"</td>\n      <td>1</td>\n      <td>29.699118</td>\n      <td>1.0</td>\n      <td>2.0</td>\n      <td>W./C. 6607</td>\n      <td>23.45</td>\n      <td>NaN</td>\n      <td>S</td>\n      <td>Johnston</td>\n      <td>Miss. Catherine Helen \"Carrie\"</td>\n      <td>0.0</td>\n      <td>2.0</td>\n    </tr>\n    <tr>\n      <th>889</th>\n      <td>1</td>\n      <td>1.0</td>\n      <td>Behr, Mr. Karl Howell</td>\n      <td>0</td>\n      <td>26.000000</td>\n      <td>0.0</td>\n      <td>0.0</td>\n      <td>111369</td>\n      <td>30.00</td>\n      <td>C148</td>\n      <td>C</td>\n      <td>Behr</td>\n      <td>Mr. Karl Howell</td>\n      <td>0.0</td>\n      <td>2.0</td>\n    </tr>\n    <tr>\n      <th>890</th>\n      <td>0</td>\n      <td>3.0</td>\n      <td>Dooley, Mr. Patrick</td>\n      <td>0</td>\n      <td>32.000000</td>\n      <td>0.0</td>\n      <td>0.0</td>\n      <td>370376</td>\n      <td>7.75</td>\n      <td>NaN</td>\n      <td>Q</td>\n      <td>Dooley</td>\n      <td>Mr. Patrick</td>\n      <td>1.0</td>\n      <td>2.0</td>\n    </tr>\n    <tr>\n      <th>891</th>\n      <td>Y</td>\n      <td>NaN</td>\n      <td>Peter</td>\n      <td>NaN</td>\n      <td>24.000000</td>\n      <td>NaN</td>\n      <td>NaN</td>\n      <td>NaN</td>\n      <td>NaN</td>\n      <td>NaN</td>\n      <td>NaN</td>\n      <td>NaN</td>\n      <td>NaN</td>\n      <td>NaN</td>\n      <td>NaN</td>\n    </tr>\n    <tr>\n      <th>892</th>\n      <td>Y</td>\n      <td>NaN</td>\n      <td>Peter</td>\n      <td>NaN</td>\n      <td>24.000000</td>\n      <td>NaN</td>\n      <td>NaN</td>\n      <td>NaN</td>\n      <td>NaN</td>\n      <td>NaN</td>\n      <td>NaN</td>\n      <td>NaN</td>\n      <td>NaN</td>\n      <td>NaN</td>\n      <td>NaN</td>\n    </tr>\n  </tbody>\n</table>\n</div>"
     },
     "execution_count": 44,
     "metadata": {},
     "output_type": "execute_result"
    }
   ],
   "source": [
    "# Adding new row using loc\n",
    "df.loc[len(df.index)]=new_row\n",
    "df.tail()"
   ]
  },
  {
   "cell_type": "code",
   "execution_count": 44,
   "id": "4a587426",
   "metadata": {
    "papermill": {
     "duration": 0.033336,
     "end_time": "2022-08-23T14:02:38.446966",
     "exception": false,
     "start_time": "2022-08-23T14:02:38.413630",
     "status": "completed"
    },
    "tags": [],
    "ExecuteTime": {
     "end_time": "2023-11-08T21:50:41.446187200Z",
     "start_time": "2023-11-08T21:50:41.367699900Z"
    }
   },
   "outputs": [],
   "source": []
  },
  {
   "cell_type": "markdown",
   "id": "6e89f08c",
   "metadata": {
    "papermill": {
     "duration": 0.033627,
     "end_time": "2022-08-23T14:02:38.513856",
     "exception": false,
     "start_time": "2022-08-23T14:02:38.480229",
     "status": "completed"
    },
    "tags": []
   },
   "source": [
    "<a id=\"content10\"></a>\n",
    "## 9. Dropping row(s)"
   ]
  },
  {
   "cell_type": "code",
   "execution_count": 45,
   "id": "0a821f42",
   "metadata": {
    "execution": {
     "iopub.execute_input": "2022-08-23T14:02:38.583999Z",
     "iopub.status.busy": "2022-08-23T14:02:38.583286Z",
     "iopub.status.idle": "2022-08-23T14:02:38.605343Z",
     "shell.execute_reply": "2022-08-23T14:02:38.604528Z"
    },
    "papermill": {
     "duration": 0.059,
     "end_time": "2022-08-23T14:02:38.607370",
     "exception": false,
     "start_time": "2022-08-23T14:02:38.548370",
     "status": "completed"
    },
    "tags": [],
    "ExecuteTime": {
     "end_time": "2023-11-08T21:52:28.542929600Z",
     "start_time": "2023-11-08T21:52:28.420316400Z"
    }
   },
   "outputs": [
    {
     "data": {
      "text/plain": "    Survived  Pclass                                 Full Name Gender  \\\n887        1     1.0              Graham, Miss. Margaret Edith      1   \n888        0     3.0  Johnston, Miss. Catherine Helen \"Carrie\"      1   \n889        1     1.0                     Behr, Mr. Karl Howell      0   \n890        0     3.0                       Dooley, Mr. Patrick      0   \n891        Y     NaN                                     Peter    NaN   \n\n           Age  SibSp  Parch      Ticket   Fare Cabin Embarked   Surname  \\\n887  19.000000    0.0    0.0      112053  30.00   B42        S    Graham   \n888  29.699118    1.0    2.0  W./C. 6607  23.45   NaN        S  Johnston   \n889  26.000000    0.0    0.0      111369  30.00  C148        C      Behr   \n890  32.000000    0.0    0.0      370376   7.75   NaN        Q    Dooley   \n891  24.000000    NaN    NaN         NaN    NaN   NaN      NaN       NaN   \n\n                                Name  Thrid&Men  Age_group  \n887             Miss. Margaret Edith        0.0        2.0  \n888   Miss. Catherine Helen \"Carrie\"        0.0        2.0  \n889                  Mr. Karl Howell        0.0        2.0  \n890                      Mr. Patrick        1.0        2.0  \n891                              NaN        NaN        NaN  ",
      "text/html": "<div>\n<style scoped>\n    .dataframe tbody tr th:only-of-type {\n        vertical-align: middle;\n    }\n\n    .dataframe tbody tr th {\n        vertical-align: top;\n    }\n\n    .dataframe thead th {\n        text-align: right;\n    }\n</style>\n<table border=\"1\" class=\"dataframe\">\n  <thead>\n    <tr style=\"text-align: right;\">\n      <th></th>\n      <th>Survived</th>\n      <th>Pclass</th>\n      <th>Full Name</th>\n      <th>Gender</th>\n      <th>Age</th>\n      <th>SibSp</th>\n      <th>Parch</th>\n      <th>Ticket</th>\n      <th>Fare</th>\n      <th>Cabin</th>\n      <th>Embarked</th>\n      <th>Surname</th>\n      <th>Name</th>\n      <th>Thrid&amp;Men</th>\n      <th>Age_group</th>\n    </tr>\n  </thead>\n  <tbody>\n    <tr>\n      <th>887</th>\n      <td>1</td>\n      <td>1.0</td>\n      <td>Graham, Miss. Margaret Edith</td>\n      <td>1</td>\n      <td>19.000000</td>\n      <td>0.0</td>\n      <td>0.0</td>\n      <td>112053</td>\n      <td>30.00</td>\n      <td>B42</td>\n      <td>S</td>\n      <td>Graham</td>\n      <td>Miss. Margaret Edith</td>\n      <td>0.0</td>\n      <td>2.0</td>\n    </tr>\n    <tr>\n      <th>888</th>\n      <td>0</td>\n      <td>3.0</td>\n      <td>Johnston, Miss. Catherine Helen \"Carrie\"</td>\n      <td>1</td>\n      <td>29.699118</td>\n      <td>1.0</td>\n      <td>2.0</td>\n      <td>W./C. 6607</td>\n      <td>23.45</td>\n      <td>NaN</td>\n      <td>S</td>\n      <td>Johnston</td>\n      <td>Miss. Catherine Helen \"Carrie\"</td>\n      <td>0.0</td>\n      <td>2.0</td>\n    </tr>\n    <tr>\n      <th>889</th>\n      <td>1</td>\n      <td>1.0</td>\n      <td>Behr, Mr. Karl Howell</td>\n      <td>0</td>\n      <td>26.000000</td>\n      <td>0.0</td>\n      <td>0.0</td>\n      <td>111369</td>\n      <td>30.00</td>\n      <td>C148</td>\n      <td>C</td>\n      <td>Behr</td>\n      <td>Mr. Karl Howell</td>\n      <td>0.0</td>\n      <td>2.0</td>\n    </tr>\n    <tr>\n      <th>890</th>\n      <td>0</td>\n      <td>3.0</td>\n      <td>Dooley, Mr. Patrick</td>\n      <td>0</td>\n      <td>32.000000</td>\n      <td>0.0</td>\n      <td>0.0</td>\n      <td>370376</td>\n      <td>7.75</td>\n      <td>NaN</td>\n      <td>Q</td>\n      <td>Dooley</td>\n      <td>Mr. Patrick</td>\n      <td>1.0</td>\n      <td>2.0</td>\n    </tr>\n    <tr>\n      <th>891</th>\n      <td>Y</td>\n      <td>NaN</td>\n      <td>Peter</td>\n      <td>NaN</td>\n      <td>24.000000</td>\n      <td>NaN</td>\n      <td>NaN</td>\n      <td>NaN</td>\n      <td>NaN</td>\n      <td>NaN</td>\n      <td>NaN</td>\n      <td>NaN</td>\n      <td>NaN</td>\n      <td>NaN</td>\n      <td>NaN</td>\n    </tr>\n  </tbody>\n</table>\n</div>"
     },
     "execution_count": 45,
     "metadata": {},
     "output_type": "execute_result"
    }
   ],
   "source": [
    "df=df.drop(df.index[-1],axis=0) # Deletes last row\n",
    "df.tail()"
   ]
  },
  {
   "cell_type": "code",
   "execution_count": null,
   "id": "546ce6a5",
   "metadata": {
    "papermill": {
     "duration": 0.033327,
     "end_time": "2022-08-23T14:02:38.674740",
     "exception": false,
     "start_time": "2022-08-23T14:02:38.641413",
     "status": "completed"
    },
    "tags": []
   },
   "outputs": [],
   "source": []
  },
  {
   "cell_type": "markdown",
   "id": "b52ab0d2",
   "metadata": {
    "papermill": {
     "duration": 0.033311,
     "end_time": "2022-08-23T14:02:38.741840",
     "exception": false,
     "start_time": "2022-08-23T14:02:38.708529",
     "status": "completed"
    },
    "tags": []
   },
   "source": [
    "<a id=\"content11\"></a>\n",
    "## 10. Sorting"
   ]
  },
  {
   "cell_type": "code",
   "execution_count": 46,
   "id": "487de5da",
   "metadata": {
    "execution": {
     "iopub.execute_input": "2022-08-23T14:02:38.812052Z",
     "iopub.status.busy": "2022-08-23T14:02:38.811347Z",
     "iopub.status.idle": "2022-08-23T14:02:38.832188Z",
     "shell.execute_reply": "2022-08-23T14:02:38.831035Z"
    },
    "papermill": {
     "duration": 0.058884,
     "end_time": "2022-08-23T14:02:38.834518",
     "exception": false,
     "start_time": "2022-08-23T14:02:38.775634",
     "status": "completed"
    },
    "tags": [],
    "ExecuteTime": {
     "end_time": "2023-11-08T21:53:37.966183800Z",
     "start_time": "2023-11-08T21:53:37.896491700Z"
    }
   },
   "outputs": [
    {
     "data": {
      "text/plain": "  Survived  Pclass                                          Full Name Gender  \\\n0        0     3.0                            Braund, Mr. Owen Harris      0   \n1        1     1.0  Cumings, Mrs. John Bradley (Florence Briggs Th...      1   \n2        1     3.0                             Heikkinen, Miss. Laina      1   \n3        1     1.0       Futrelle, Mrs. Jacques Heath (Lily May Peel)      1   \n4        0     3.0                           Allen, Mr. William Henry      0   \n\n    Age  SibSp  Parch            Ticket     Fare Cabin Embarked    Surname  \\\n0  22.0    1.0    0.0         A/5 21171   7.2500   NaN        S     Braund   \n1  38.0    1.0    0.0          PC 17599  71.2833   C85        C    Cumings   \n2  26.0    0.0    0.0  STON/O2. 3101282   7.9250   NaN        S  Heikkinen   \n3  35.0    1.0    0.0            113803  53.1000  C123        S   Futrelle   \n4  35.0    0.0    0.0            373450   8.0500   NaN        S      Allen   \n\n                                          Name  Thrid&Men  Age_group  \n0                              Mr. Owen Harris        1.0        2.0  \n1   Mrs. John Bradley (Florence Briggs Thayer)        0.0        2.0  \n2                                  Miss. Laina        0.0        2.0  \n3           Mrs. Jacques Heath (Lily May Peel)        0.0        2.0  \n4                            Mr. William Henry        1.0        2.0  ",
      "text/html": "<div>\n<style scoped>\n    .dataframe tbody tr th:only-of-type {\n        vertical-align: middle;\n    }\n\n    .dataframe tbody tr th {\n        vertical-align: top;\n    }\n\n    .dataframe thead th {\n        text-align: right;\n    }\n</style>\n<table border=\"1\" class=\"dataframe\">\n  <thead>\n    <tr style=\"text-align: right;\">\n      <th></th>\n      <th>Survived</th>\n      <th>Pclass</th>\n      <th>Full Name</th>\n      <th>Gender</th>\n      <th>Age</th>\n      <th>SibSp</th>\n      <th>Parch</th>\n      <th>Ticket</th>\n      <th>Fare</th>\n      <th>Cabin</th>\n      <th>Embarked</th>\n      <th>Surname</th>\n      <th>Name</th>\n      <th>Thrid&amp;Men</th>\n      <th>Age_group</th>\n    </tr>\n  </thead>\n  <tbody>\n    <tr>\n      <th>0</th>\n      <td>0</td>\n      <td>3.0</td>\n      <td>Braund, Mr. Owen Harris</td>\n      <td>0</td>\n      <td>22.0</td>\n      <td>1.0</td>\n      <td>0.0</td>\n      <td>A/5 21171</td>\n      <td>7.2500</td>\n      <td>NaN</td>\n      <td>S</td>\n      <td>Braund</td>\n      <td>Mr. Owen Harris</td>\n      <td>1.0</td>\n      <td>2.0</td>\n    </tr>\n    <tr>\n      <th>1</th>\n      <td>1</td>\n      <td>1.0</td>\n      <td>Cumings, Mrs. John Bradley (Florence Briggs Th...</td>\n      <td>1</td>\n      <td>38.0</td>\n      <td>1.0</td>\n      <td>0.0</td>\n      <td>PC 17599</td>\n      <td>71.2833</td>\n      <td>C85</td>\n      <td>C</td>\n      <td>Cumings</td>\n      <td>Mrs. John Bradley (Florence Briggs Thayer)</td>\n      <td>0.0</td>\n      <td>2.0</td>\n    </tr>\n    <tr>\n      <th>2</th>\n      <td>1</td>\n      <td>3.0</td>\n      <td>Heikkinen, Miss. Laina</td>\n      <td>1</td>\n      <td>26.0</td>\n      <td>0.0</td>\n      <td>0.0</td>\n      <td>STON/O2. 3101282</td>\n      <td>7.9250</td>\n      <td>NaN</td>\n      <td>S</td>\n      <td>Heikkinen</td>\n      <td>Miss. Laina</td>\n      <td>0.0</td>\n      <td>2.0</td>\n    </tr>\n    <tr>\n      <th>3</th>\n      <td>1</td>\n      <td>1.0</td>\n      <td>Futrelle, Mrs. Jacques Heath (Lily May Peel)</td>\n      <td>1</td>\n      <td>35.0</td>\n      <td>1.0</td>\n      <td>0.0</td>\n      <td>113803</td>\n      <td>53.1000</td>\n      <td>C123</td>\n      <td>S</td>\n      <td>Futrelle</td>\n      <td>Mrs. Jacques Heath (Lily May Peel)</td>\n      <td>0.0</td>\n      <td>2.0</td>\n    </tr>\n    <tr>\n      <th>4</th>\n      <td>0</td>\n      <td>3.0</td>\n      <td>Allen, Mr. William Henry</td>\n      <td>0</td>\n      <td>35.0</td>\n      <td>0.0</td>\n      <td>0.0</td>\n      <td>373450</td>\n      <td>8.0500</td>\n      <td>NaN</td>\n      <td>S</td>\n      <td>Allen</td>\n      <td>Mr. William Henry</td>\n      <td>1.0</td>\n      <td>2.0</td>\n    </tr>\n  </tbody>\n</table>\n</div>"
     },
     "execution_count": 46,
     "metadata": {},
     "output_type": "execute_result"
    }
   ],
   "source": [
    "df.head()"
   ]
  },
  {
   "cell_type": "code",
   "execution_count": 47,
   "id": "fc59eadf",
   "metadata": {
    "execution": {
     "iopub.execute_input": "2022-08-23T14:02:38.906463Z",
     "iopub.status.busy": "2022-08-23T14:02:38.905859Z",
     "iopub.status.idle": "2022-08-23T14:02:38.928280Z",
     "shell.execute_reply": "2022-08-23T14:02:38.927341Z"
    },
    "papermill": {
     "duration": 0.061089,
     "end_time": "2022-08-23T14:02:38.930310",
     "exception": false,
     "start_time": "2022-08-23T14:02:38.869221",
     "status": "completed"
    },
    "tags": [],
    "ExecuteTime": {
     "end_time": "2023-11-08T21:53:39.659392Z",
     "start_time": "2023-11-08T21:53:39.482369900Z"
    }
   },
   "outputs": [
    {
     "data": {
      "text/plain": "    Survived  Pclass                             Full Name Gender   Age  \\\n630        1     1.0  Barkworth, Mr. Algernon Henry Wilson      0  80.0   \n851        0     3.0                   Svensson, Mr. Johan      0  74.0   \n96         0     1.0             Goldschmidt, Mr. George B      0  71.0   \n493        0     1.0               Artagaveytia, Mr. Ramon      0  71.0   \n116        0     3.0                  Connors, Mr. Patrick      0  70.5   \n\n     SibSp  Parch    Ticket     Fare Cabin Embarked       Surname  \\\n630    0.0    0.0     27042  30.0000   A23        S     Barkworth   \n851    0.0    0.0    347060   7.7750   NaN        S      Svensson   \n96     0.0    0.0  PC 17754  34.6542    A5        C   Goldschmidt   \n493    0.0    0.0  PC 17609  49.5042   NaN        C  Artagaveytia   \n116    0.0    0.0    370369   7.7500   NaN        Q       Connors   \n\n                           Name  Thrid&Men  Age_group  \n630   Mr. Algernon Henry Wilson        0.0        4.0  \n851                   Mr. Johan        1.0        4.0  \n96                 Mr. George B        0.0        4.0  \n493                   Mr. Ramon        0.0        4.0  \n116                 Mr. Patrick        1.0        4.0  ",
      "text/html": "<div>\n<style scoped>\n    .dataframe tbody tr th:only-of-type {\n        vertical-align: middle;\n    }\n\n    .dataframe tbody tr th {\n        vertical-align: top;\n    }\n\n    .dataframe thead th {\n        text-align: right;\n    }\n</style>\n<table border=\"1\" class=\"dataframe\">\n  <thead>\n    <tr style=\"text-align: right;\">\n      <th></th>\n      <th>Survived</th>\n      <th>Pclass</th>\n      <th>Full Name</th>\n      <th>Gender</th>\n      <th>Age</th>\n      <th>SibSp</th>\n      <th>Parch</th>\n      <th>Ticket</th>\n      <th>Fare</th>\n      <th>Cabin</th>\n      <th>Embarked</th>\n      <th>Surname</th>\n      <th>Name</th>\n      <th>Thrid&amp;Men</th>\n      <th>Age_group</th>\n    </tr>\n  </thead>\n  <tbody>\n    <tr>\n      <th>630</th>\n      <td>1</td>\n      <td>1.0</td>\n      <td>Barkworth, Mr. Algernon Henry Wilson</td>\n      <td>0</td>\n      <td>80.0</td>\n      <td>0.0</td>\n      <td>0.0</td>\n      <td>27042</td>\n      <td>30.0000</td>\n      <td>A23</td>\n      <td>S</td>\n      <td>Barkworth</td>\n      <td>Mr. Algernon Henry Wilson</td>\n      <td>0.0</td>\n      <td>4.0</td>\n    </tr>\n    <tr>\n      <th>851</th>\n      <td>0</td>\n      <td>3.0</td>\n      <td>Svensson, Mr. Johan</td>\n      <td>0</td>\n      <td>74.0</td>\n      <td>0.0</td>\n      <td>0.0</td>\n      <td>347060</td>\n      <td>7.7750</td>\n      <td>NaN</td>\n      <td>S</td>\n      <td>Svensson</td>\n      <td>Mr. Johan</td>\n      <td>1.0</td>\n      <td>4.0</td>\n    </tr>\n    <tr>\n      <th>96</th>\n      <td>0</td>\n      <td>1.0</td>\n      <td>Goldschmidt, Mr. George B</td>\n      <td>0</td>\n      <td>71.0</td>\n      <td>0.0</td>\n      <td>0.0</td>\n      <td>PC 17754</td>\n      <td>34.6542</td>\n      <td>A5</td>\n      <td>C</td>\n      <td>Goldschmidt</td>\n      <td>Mr. George B</td>\n      <td>0.0</td>\n      <td>4.0</td>\n    </tr>\n    <tr>\n      <th>493</th>\n      <td>0</td>\n      <td>1.0</td>\n      <td>Artagaveytia, Mr. Ramon</td>\n      <td>0</td>\n      <td>71.0</td>\n      <td>0.0</td>\n      <td>0.0</td>\n      <td>PC 17609</td>\n      <td>49.5042</td>\n      <td>NaN</td>\n      <td>C</td>\n      <td>Artagaveytia</td>\n      <td>Mr. Ramon</td>\n      <td>0.0</td>\n      <td>4.0</td>\n    </tr>\n    <tr>\n      <th>116</th>\n      <td>0</td>\n      <td>3.0</td>\n      <td>Connors, Mr. Patrick</td>\n      <td>0</td>\n      <td>70.5</td>\n      <td>0.0</td>\n      <td>0.0</td>\n      <td>370369</td>\n      <td>7.7500</td>\n      <td>NaN</td>\n      <td>Q</td>\n      <td>Connors</td>\n      <td>Mr. Patrick</td>\n      <td>1.0</td>\n      <td>4.0</td>\n    </tr>\n  </tbody>\n</table>\n</div>"
     },
     "execution_count": 47,
     "metadata": {},
     "output_type": "execute_result"
    }
   ],
   "source": [
    "# sorting by age say in decreasing order.\n",
    "df=df.sort_values(by=['Age'],ascending=False) # can specify multiple columns in a list as well.\n",
    "df.head()"
   ]
  },
  {
   "cell_type": "code",
   "execution_count": 47,
   "id": "e86c7a57",
   "metadata": {
    "papermill": {
     "duration": 0.034336,
     "end_time": "2022-08-23T14:02:38.999020",
     "exception": false,
     "start_time": "2022-08-23T14:02:38.964684",
     "status": "completed"
    },
    "tags": [],
    "ExecuteTime": {
     "end_time": "2023-11-08T21:53:41.256279700Z",
     "start_time": "2023-11-08T21:53:41.096550200Z"
    }
   },
   "outputs": [],
   "source": []
  },
  {
   "cell_type": "markdown",
   "id": "5150bda9",
   "metadata": {
    "papermill": {
     "duration": 0.034267,
     "end_time": "2022-08-23T14:02:39.068206",
     "exception": false,
     "start_time": "2022-08-23T14:02:39.033939",
     "status": "completed"
    },
    "tags": []
   },
   "source": [
    "<a id=\"content12\"></a>\n",
    "## 11. Joins"
   ]
  },
  {
   "cell_type": "markdown",
   "metadata": {},
   "source": [
    "###### !!!! Joins are not very much important, u should know the join concept and when u need it u can refer here"
   ],
   "id": "fe2443c11fe8079a"
  },
  {
   "cell_type": "markdown",
   "id": "45190f43",
   "metadata": {
    "papermill": {
     "duration": 0.034166,
     "end_time": "2022-08-23T14:02:39.136647",
     "exception": false,
     "start_time": "2022-08-23T14:02:39.102481",
     "status": "completed"
    },
    "tags": []
   },
   "source": [
    "Let's create two separate data frames and try all 5 (Cross,Inner, Left, Right,and Outer Joins)."
   ]
  },
  {
   "cell_type": "code",
   "execution_count": 48,
   "id": "3fc43764",
   "metadata": {
    "execution": {
     "iopub.execute_input": "2022-08-23T14:02:39.208924Z",
     "iopub.status.busy": "2022-08-23T14:02:39.208234Z",
     "iopub.status.idle": "2022-08-23T14:02:39.219767Z",
     "shell.execute_reply": "2022-08-23T14:02:39.218938Z"
    },
    "papermill": {
     "duration": 0.049422,
     "end_time": "2022-08-23T14:02:39.221739",
     "exception": false,
     "start_time": "2022-08-23T14:02:39.172317",
     "status": "completed"
    },
    "tags": [],
    "ExecuteTime": {
     "end_time": "2023-11-08T21:53:58.405186600Z",
     "start_time": "2023-11-08T21:53:58.307096100Z"
    }
   },
   "outputs": [
    {
     "name": "stdout",
     "output_type": "stream",
     "text": [
      "100\n"
     ]
    },
    {
     "data": {
      "text/plain": "   Sno  Marks\n0    1     49\n1    2     18\n2    3     20\n3    4     70\n4    5     48",
      "text/html": "<div>\n<style scoped>\n    .dataframe tbody tr th:only-of-type {\n        vertical-align: middle;\n    }\n\n    .dataframe tbody tr th {\n        vertical-align: top;\n    }\n\n    .dataframe thead th {\n        text-align: right;\n    }\n</style>\n<table border=\"1\" class=\"dataframe\">\n  <thead>\n    <tr style=\"text-align: right;\">\n      <th></th>\n      <th>Sno</th>\n      <th>Marks</th>\n    </tr>\n  </thead>\n  <tbody>\n    <tr>\n      <th>0</th>\n      <td>1</td>\n      <td>49</td>\n    </tr>\n    <tr>\n      <th>1</th>\n      <td>2</td>\n      <td>18</td>\n    </tr>\n    <tr>\n      <th>2</th>\n      <td>3</td>\n      <td>20</td>\n    </tr>\n    <tr>\n      <th>3</th>\n      <td>4</td>\n      <td>70</td>\n    </tr>\n    <tr>\n      <th>4</th>\n      <td>5</td>\n      <td>48</td>\n    </tr>\n  </tbody>\n</table>\n</div>"
     },
     "execution_count": 48,
     "metadata": {},
     "output_type": "execute_result"
    }
   ],
   "source": [
    "sno=[i+1 for i in range(100)]\n",
    "marks=np.random.randint(100,size=100)\n",
    "print(len(marks))\n",
    "marks_df=pd.DataFrame({'Sno':sno,'Marks':marks})\n",
    "marks_df.head()"
   ]
  },
  {
   "cell_type": "code",
   "execution_count": 49,
   "id": "c468eeb5",
   "metadata": {
    "execution": {
     "iopub.execute_input": "2022-08-23T14:02:39.293173Z",
     "iopub.status.busy": "2022-08-23T14:02:39.292399Z",
     "iopub.status.idle": "2022-08-23T14:02:39.306053Z",
     "shell.execute_reply": "2022-08-23T14:02:39.304498Z"
    },
    "papermill": {
     "duration": 0.052024,
     "end_time": "2022-08-23T14:02:39.308368",
     "exception": false,
     "start_time": "2022-08-23T14:02:39.256344",
     "status": "completed"
    },
    "tags": [],
    "ExecuteTime": {
     "end_time": "2023-11-08T21:53:59.791424600Z",
     "start_time": "2023-11-08T21:53:59.670312900Z"
    }
   },
   "outputs": [
    {
     "name": "stdout",
     "output_type": "stream",
     "text": [
      "100\n"
     ]
    },
    {
     "data": {
      "text/plain": "   Sno  Age\n0    1   45\n1    2   10\n2    3   27\n3    4   18\n4    5   17",
      "text/html": "<div>\n<style scoped>\n    .dataframe tbody tr th:only-of-type {\n        vertical-align: middle;\n    }\n\n    .dataframe tbody tr th {\n        vertical-align: top;\n    }\n\n    .dataframe thead th {\n        text-align: right;\n    }\n</style>\n<table border=\"1\" class=\"dataframe\">\n  <thead>\n    <tr style=\"text-align: right;\">\n      <th></th>\n      <th>Sno</th>\n      <th>Age</th>\n    </tr>\n  </thead>\n  <tbody>\n    <tr>\n      <th>0</th>\n      <td>1</td>\n      <td>45</td>\n    </tr>\n    <tr>\n      <th>1</th>\n      <td>2</td>\n      <td>10</td>\n    </tr>\n    <tr>\n      <th>2</th>\n      <td>3</td>\n      <td>27</td>\n    </tr>\n    <tr>\n      <th>3</th>\n      <td>4</td>\n      <td>18</td>\n    </tr>\n    <tr>\n      <th>4</th>\n      <td>5</td>\n      <td>17</td>\n    </tr>\n  </tbody>\n</table>\n</div>"
     },
     "execution_count": 49,
     "metadata": {},
     "output_type": "execute_result"
    }
   ],
   "source": [
    "sno=[i+1 for i in range(100)]\n",
    "age=np.random.randint(100,size=100)\n",
    "print(len(marks))\n",
    "age_df=pd.DataFrame({'Sno':sno,'Age':age})\n",
    "age_df.head()"
   ]
  },
  {
   "cell_type": "markdown",
   "id": "54b28a45",
   "metadata": {
    "papermill": {
     "duration": 0.034593,
     "end_time": "2022-08-23T14:02:39.377866",
     "exception": false,
     "start_time": "2022-08-23T14:02:39.343273",
     "status": "completed"
    },
    "tags": []
   },
   "source": [
    "#### Cross join"
   ]
  },
  {
   "cell_type": "code",
   "execution_count": 50,
   "id": "35e49202",
   "metadata": {
    "execution": {
     "iopub.execute_input": "2022-08-23T14:02:39.450131Z",
     "iopub.status.busy": "2022-08-23T14:02:39.449079Z",
     "iopub.status.idle": "2022-08-23T14:02:39.473097Z",
     "shell.execute_reply": "2022-08-23T14:02:39.471608Z"
    },
    "papermill": {
     "duration": 0.062554,
     "end_time": "2022-08-23T14:02:39.475491",
     "exception": false,
     "start_time": "2022-08-23T14:02:39.412937",
     "status": "completed"
    },
    "tags": [],
    "ExecuteTime": {
     "end_time": "2023-11-08T21:54:01.990913200Z",
     "start_time": "2023-11-08T21:54:01.824538500Z"
    }
   },
   "outputs": [
    {
     "name": "stdout",
     "output_type": "stream",
     "text": [
      "(10000, 4)\n"
     ]
    },
    {
     "data": {
      "text/plain": "   Sno_x  Marks  Sno_y  Age\n0      1     49      1   45\n1      1     49      2   10\n2      1     49      3   27\n3      1     49      4   18\n4      1     49      5   17",
      "text/html": "<div>\n<style scoped>\n    .dataframe tbody tr th:only-of-type {\n        vertical-align: middle;\n    }\n\n    .dataframe tbody tr th {\n        vertical-align: top;\n    }\n\n    .dataframe thead th {\n        text-align: right;\n    }\n</style>\n<table border=\"1\" class=\"dataframe\">\n  <thead>\n    <tr style=\"text-align: right;\">\n      <th></th>\n      <th>Sno_x</th>\n      <th>Marks</th>\n      <th>Sno_y</th>\n      <th>Age</th>\n    </tr>\n  </thead>\n  <tbody>\n    <tr>\n      <th>0</th>\n      <td>1</td>\n      <td>49</td>\n      <td>1</td>\n      <td>45</td>\n    </tr>\n    <tr>\n      <th>1</th>\n      <td>1</td>\n      <td>49</td>\n      <td>2</td>\n      <td>10</td>\n    </tr>\n    <tr>\n      <th>2</th>\n      <td>1</td>\n      <td>49</td>\n      <td>3</td>\n      <td>27</td>\n    </tr>\n    <tr>\n      <th>3</th>\n      <td>1</td>\n      <td>49</td>\n      <td>4</td>\n      <td>18</td>\n    </tr>\n    <tr>\n      <th>4</th>\n      <td>1</td>\n      <td>49</td>\n      <td>5</td>\n      <td>17</td>\n    </tr>\n  </tbody>\n</table>\n</div>"
     },
     "execution_count": 50,
     "metadata": {},
     "output_type": "execute_result"
    }
   ],
   "source": [
    "cross_join=pd.merge(marks_df,age_df,how='cross')\n",
    "print(cross_join.shape)\n",
    "cross_join.head()"
   ]
  },
  {
   "cell_type": "markdown",
   "id": "9942fb44",
   "metadata": {
    "papermill": {
     "duration": 0.034686,
     "end_time": "2022-08-23T14:02:39.546339",
     "exception": false,
     "start_time": "2022-08-23T14:02:39.511653",
     "status": "completed"
    },
    "tags": []
   },
   "source": [
    "#### Inner Join"
   ]
  },
  {
   "cell_type": "code",
   "execution_count": 53,
   "id": "eaaaf7d7",
   "metadata": {
    "execution": {
     "iopub.execute_input": "2022-08-23T14:02:39.618364Z",
     "iopub.status.busy": "2022-08-23T14:02:39.617641Z",
     "iopub.status.idle": "2022-08-23T14:02:39.630053Z",
     "shell.execute_reply": "2022-08-23T14:02:39.629231Z"
    },
    "papermill": {
     "duration": 0.050918,
     "end_time": "2022-08-23T14:02:39.632047",
     "exception": false,
     "start_time": "2022-08-23T14:02:39.581129",
     "status": "completed"
    },
    "tags": [],
    "ExecuteTime": {
     "end_time": "2023-11-08T21:59:14.678900600Z",
     "start_time": "2023-11-08T21:59:14.445362800Z"
    }
   },
   "outputs": [
    {
     "name": "stdout",
     "output_type": "stream",
     "text": [
      "(100, 3)\n"
     ]
    },
    {
     "data": {
      "text/plain": "   Sno  Age  Marks\n0    1   45     49\n1    2   10     18\n2    3   27     20\n3    4   18     70\n4    5   17     48",
      "text/html": "<div>\n<style scoped>\n    .dataframe tbody tr th:only-of-type {\n        vertical-align: middle;\n    }\n\n    .dataframe tbody tr th {\n        vertical-align: top;\n    }\n\n    .dataframe thead th {\n        text-align: right;\n    }\n</style>\n<table border=\"1\" class=\"dataframe\">\n  <thead>\n    <tr style=\"text-align: right;\">\n      <th></th>\n      <th>Sno</th>\n      <th>Age</th>\n      <th>Marks</th>\n    </tr>\n  </thead>\n  <tbody>\n    <tr>\n      <th>0</th>\n      <td>1</td>\n      <td>45</td>\n      <td>49</td>\n    </tr>\n    <tr>\n      <th>1</th>\n      <td>2</td>\n      <td>10</td>\n      <td>18</td>\n    </tr>\n    <tr>\n      <th>2</th>\n      <td>3</td>\n      <td>27</td>\n      <td>20</td>\n    </tr>\n    <tr>\n      <th>3</th>\n      <td>4</td>\n      <td>18</td>\n      <td>70</td>\n    </tr>\n    <tr>\n      <th>4</th>\n      <td>5</td>\n      <td>17</td>\n      <td>48</td>\n    </tr>\n  </tbody>\n</table>\n</div>"
     },
     "execution_count": 53,
     "metadata": {},
     "output_type": "execute_result"
    }
   ],
   "source": [
    "inner_join=pd.merge(age_df,marks_df,how='inner',on='Sno') # 'how' defaults to 'inner' only.\n",
    "print(inner_join.shape)\n",
    "inner_join.head()"
   ]
  },
  {
   "cell_type": "markdown",
   "id": "d9458863",
   "metadata": {
    "papermill": {
     "duration": 0.03485,
     "end_time": "2022-08-23T14:02:39.702651",
     "exception": false,
     "start_time": "2022-08-23T14:02:39.667801",
     "status": "completed"
    },
    "tags": []
   },
   "source": [
    "#### Left and Right Outer Join(s)"
   ]
  },
  {
   "cell_type": "markdown",
   "id": "ef9195fd",
   "metadata": {
    "papermill": {
     "duration": 0.035155,
     "end_time": "2022-08-23T14:02:39.773389",
     "exception": false,
     "start_time": "2022-08-23T14:02:39.738234",
     "status": "completed"
    },
    "tags": []
   },
   "source": [
    "Lets add some more rows to either frame so that left and right outer join makes sense"
   ]
  },
  {
   "cell_type": "code",
   "execution_count": 52,
   "id": "92dbfbff",
   "metadata": {
    "execution": {
     "iopub.execute_input": "2022-08-23T14:02:39.846519Z",
     "iopub.status.busy": "2022-08-23T14:02:39.845818Z",
     "iopub.status.idle": "2022-08-23T14:02:39.862792Z",
     "shell.execute_reply": "2022-08-23T14:02:39.861814Z"
    },
    "papermill": {
     "duration": 0.055992,
     "end_time": "2022-08-23T14:02:39.864943",
     "exception": false,
     "start_time": "2022-08-23T14:02:39.808951",
     "status": "completed"
    },
    "tags": [],
    "ExecuteTime": {
     "end_time": "2023-11-08T21:54:48.123124200Z",
     "start_time": "2023-11-08T21:54:48.026946600Z"
    }
   },
   "outputs": [],
   "source": [
    "age_df.loc[len(age_df.index)]={'Sno':101,'Age':23}\n",
    "age_df.loc[len(age_df.index)]={'Sno':102,'Age':27}\n",
    "age_df.loc[len(age_df.index)]={'Sno':104,'Age':29}\n",
    "age_df.loc[len(age_df.index)]={'Sno':103,'Age':32}\n",
    "age_df.loc[len(age_df.index)]={'Sno':105,'Age':53}"
   ]
  },
  {
   "cell_type": "code",
   "execution_count": null,
   "id": "d499a357",
   "metadata": {
    "execution": {
     "iopub.execute_input": "2022-08-23T14:02:39.938307Z",
     "iopub.status.busy": "2022-08-23T14:02:39.937612Z",
     "iopub.status.idle": "2022-08-23T14:02:39.953007Z",
     "shell.execute_reply": "2022-08-23T14:02:39.951704Z"
    },
    "papermill": {
     "duration": 0.054441,
     "end_time": "2022-08-23T14:02:39.955225",
     "exception": false,
     "start_time": "2022-08-23T14:02:39.900784",
     "status": "completed"
    },
    "tags": []
   },
   "outputs": [],
   "source": [
    "#left join\n",
    "left_join=pd.merge(age_df,marks_df,how='left',on='Sno')\n",
    "print(left_join.shape)\n",
    "left_join.tail()  "
   ]
  },
  {
   "cell_type": "markdown",
   "id": "e0df79e8",
   "metadata": {
    "papermill": {
     "duration": 0.035736,
     "end_time": "2022-08-23T14:02:40.027017",
     "exception": false,
     "start_time": "2022-08-23T14:02:39.991281",
     "status": "completed"
    },
    "tags": []
   },
   "source": [
    " **Marks=Nan** confirms the left join."
   ]
  },
  {
   "cell_type": "code",
   "execution_count": null,
   "id": "68738997",
   "metadata": {
    "execution": {
     "iopub.execute_input": "2022-08-23T14:02:40.099906Z",
     "iopub.status.busy": "2022-08-23T14:02:40.099203Z",
     "iopub.status.idle": "2022-08-23T14:02:40.112525Z",
     "shell.execute_reply": "2022-08-23T14:02:40.111667Z"
    },
    "papermill": {
     "duration": 0.051991,
     "end_time": "2022-08-23T14:02:40.114474",
     "exception": false,
     "start_time": "2022-08-23T14:02:40.062483",
     "status": "completed"
    },
    "tags": []
   },
   "outputs": [],
   "source": [
    "#right join\n",
    "right_join=pd.merge(marks_df,age_df,how='right',on='Sno')\n",
    "print(right_join.shape)\n",
    "right_join.tail()  "
   ]
  },
  {
   "cell_type": "markdown",
   "id": "224278f8",
   "metadata": {
    "papermill": {
     "duration": 0.035491,
     "end_time": "2022-08-23T14:02:40.186002",
     "exception": false,
     "start_time": "2022-08-23T14:02:40.150511",
     "status": "completed"
    },
    "tags": []
   },
   "source": [
    "**Marks=Nan** confirms the right join in this case as the order of input frames is also reversed."
   ]
  },
  {
   "cell_type": "code",
   "execution_count": null,
   "id": "b68bff92",
   "metadata": {
    "papermill": {
     "duration": 0.035659,
     "end_time": "2022-08-23T14:02:40.257632",
     "exception": false,
     "start_time": "2022-08-23T14:02:40.221973",
     "status": "completed"
    },
    "tags": []
   },
   "outputs": [],
   "source": []
  },
  {
   "cell_type": "markdown",
   "id": "ac24dc81",
   "metadata": {
    "papermill": {
     "duration": 0.0357,
     "end_time": "2022-08-23T14:02:40.329379",
     "exception": false,
     "start_time": "2022-08-23T14:02:40.293679",
     "status": "completed"
    },
    "tags": []
   },
   "source": [
    "#### Full outer join\n",
    "One last time, lets modify the marks frame also to test **Full outer join.**"
   ]
  },
  {
   "cell_type": "code",
   "execution_count": null,
   "id": "3e372a2f",
   "metadata": {
    "execution": {
     "iopub.execute_input": "2022-08-23T14:02:40.402985Z",
     "iopub.status.busy": "2022-08-23T14:02:40.402292Z",
     "iopub.status.idle": "2022-08-23T14:02:40.413958Z",
     "shell.execute_reply": "2022-08-23T14:02:40.413219Z"
    },
    "papermill": {
     "duration": 0.050828,
     "end_time": "2022-08-23T14:02:40.415934",
     "exception": false,
     "start_time": "2022-08-23T14:02:40.365106",
     "status": "completed"
    },
    "tags": []
   },
   "outputs": [],
   "source": [
    "marks_df.loc[len(marks_df.index)]={'Sno':106,'Marks':79}\n",
    "marks_df.tail()"
   ]
  },
  {
   "cell_type": "code",
   "execution_count": null,
   "id": "58f1b0e9",
   "metadata": {
    "execution": {
     "iopub.execute_input": "2022-08-23T14:02:40.551122Z",
     "iopub.status.busy": "2022-08-23T14:02:40.550428Z",
     "iopub.status.idle": "2022-08-23T14:02:40.567266Z",
     "shell.execute_reply": "2022-08-23T14:02:40.566124Z"
    },
    "papermill": {
     "duration": 0.056337,
     "end_time": "2022-08-23T14:02:40.569523",
     "exception": false,
     "start_time": "2022-08-23T14:02:40.513186",
     "status": "completed"
    },
    "tags": []
   },
   "outputs": [],
   "source": [
    "#outer join\n",
    "out_join=pd.merge(marks_df,age_df,how='outer',on='Sno')\n",
    "print(out_join.shape)\n",
    "out_join.tail(10)"
   ]
  },
  {
   "cell_type": "markdown",
   "id": "b3f0acb9",
   "metadata": {
    "papermill": {
     "duration": 0.036623,
     "end_time": "2022-08-23T14:02:40.642729",
     "exception": false,
     "start_time": "2022-08-23T14:02:40.606106",
     "status": "completed"
    },
    "tags": []
   },
   "source": [
    "Row index **100** is added in putput which confirms the **full outer join**"
   ]
  },
  {
   "cell_type": "code",
   "execution_count": null,
   "id": "9200f268",
   "metadata": {
    "papermill": {
     "duration": 0.036681,
     "end_time": "2022-08-23T14:02:40.716008",
     "exception": false,
     "start_time": "2022-08-23T14:02:40.679327",
     "status": "completed"
    },
    "tags": []
   },
   "outputs": [],
   "source": []
  },
  {
   "cell_type": "markdown",
   "id": "c7cd2f46",
   "metadata": {
    "papermill": {
     "duration": 0.036467,
     "end_time": "2022-08-23T14:02:40.789663",
     "exception": false,
     "start_time": "2022-08-23T14:02:40.753196",
     "status": "completed"
    },
    "tags": []
   },
   "source": [
    "<a id=\"content13\"></a>\n",
    "## 12. Groupby\n",
    "\n",
    "Let's get back to our titanic dataset."
   ]
  },
  {
   "cell_type": "code",
   "execution_count": null,
   "id": "ed25a3ca",
   "metadata": {
    "execution": {
     "iopub.execute_input": "2022-08-23T14:02:40.866119Z",
     "iopub.status.busy": "2022-08-23T14:02:40.865437Z",
     "iopub.status.idle": "2022-08-23T14:02:40.885592Z",
     "shell.execute_reply": "2022-08-23T14:02:40.884785Z"
    },
    "papermill": {
     "duration": 0.060878,
     "end_time": "2022-08-23T14:02:40.887821",
     "exception": false,
     "start_time": "2022-08-23T14:02:40.826943",
     "status": "completed"
    },
    "tags": []
   },
   "outputs": [],
   "source": [
    "df.head()"
   ]
  },
  {
   "cell_type": "markdown",
   "id": "43968fdf",
   "metadata": {
    "papermill": {
     "duration": 0.036836,
     "end_time": "2022-08-23T14:02:41.036049",
     "exception": false,
     "start_time": "2022-08-23T14:02:40.999213",
     "status": "completed"
    },
    "tags": []
   },
   "source": [
    "#### Before, we move onto Groupby in pandas, lets recollect groupby from SQL. A SQL query, may contain hese parts (some might be optional like having etc...):\n",
    "\n",
    "\n",
    "1. Table name (**from**)\n",
    "2. Some condition to filter rows (**where clause**)\n",
    "3. Attribute to groupby on (**groupby attributes**)\n",
    "4. Filter rows after groupby (**having clause**)\n",
    "5. Display attributes in the final result. (**select**)\n",
    "\n",
    "\n",
    "##### Let's now see how to mimic this in Pandas ;)"
   ]
  },
  {
   "cell_type": "code",
   "execution_count": null,
   "id": "1c780b76",
   "metadata": {
    "execution": {
     "iopub.execute_input": "2022-08-23T14:02:41.111815Z",
     "iopub.status.busy": "2022-08-23T14:02:41.110882Z",
     "iopub.status.idle": "2022-08-23T14:02:41.131150Z",
     "shell.execute_reply": "2022-08-23T14:02:41.130395Z"
    },
    "papermill": {
     "duration": 0.059991,
     "end_time": "2022-08-23T14:02:41.133143",
     "exception": false,
     "start_time": "2022-08-23T14:02:41.073152",
     "status": "completed"
    },
    "tags": []
   },
   "outputs": [],
   "source": [
    "df.head()"
   ]
  },
  {
   "cell_type": "code",
   "execution_count": null,
   "id": "6bf32db7",
   "metadata": {
    "execution": {
     "iopub.execute_input": "2022-08-23T14:02:41.209551Z",
     "iopub.status.busy": "2022-08-23T14:02:41.208801Z",
     "iopub.status.idle": "2022-08-23T14:02:41.243349Z",
     "shell.execute_reply": "2022-08-23T14:02:41.242199Z"
    },
    "papermill": {
     "duration": 0.075706,
     "end_time": "2022-08-23T14:02:41.246092",
     "exception": false,
     "start_time": "2022-08-23T14:02:41.170386",
     "status": "completed"
    },
    "tags": []
   },
   "outputs": [],
   "source": [
    "groups=df.groupby(['Pclass'])\n",
    "# uncomment this: \n",
    "# groups.groups\n",
    "groups.get_group(1) # Give some another no say 2 or 3 for its Pclass."
   ]
  },
  {
   "cell_type": "code",
   "execution_count": 54,
   "id": "ee47751c",
   "metadata": {
    "papermill": {
     "duration": 0.064291,
     "end_time": "2022-08-23T14:02:41.349207",
     "exception": false,
     "start_time": "2022-08-23T14:02:41.284916",
     "status": "completed"
    },
    "tags": [],
    "ExecuteTime": {
     "end_time": "2023-11-08T22:00:04.671085600Z",
     "start_time": "2023-11-08T22:00:04.512524500Z"
    }
   },
   "outputs": [
    {
     "name": "stdout",
     "output_type": "stream",
     "text": [
      "<class 'pandas.core.frame.DataFrame'>\n",
      "Int64Index: 892 entries, 630 to 803\n",
      "Data columns (total 15 columns):\n",
      " #   Column     Non-Null Count  Dtype  \n",
      "---  ------     --------------  -----  \n",
      " 0   Survived   892 non-null    object \n",
      " 1   Pclass     891 non-null    float64\n",
      " 2   Full Name  892 non-null    object \n",
      " 3   Gender     891 non-null    object \n",
      " 4   Age        892 non-null    float64\n",
      " 5   SibSp      891 non-null    float64\n",
      " 6   Parch      891 non-null    float64\n",
      " 7   Ticket     891 non-null    object \n",
      " 8   Fare       891 non-null    float64\n",
      " 9   Cabin      204 non-null    object \n",
      " 10  Embarked   889 non-null    object \n",
      " 11  Surname    891 non-null    object \n",
      " 12  Name       891 non-null    object \n",
      " 13  Thrid&Men  891 non-null    float64\n",
      " 14  Age_group  891 non-null    float64\n",
      "dtypes: float64(7), object(8)\n",
      "memory usage: 111.5+ KB\n"
     ]
    }
   ],
   "source": [
    "df.info()"
   ]
  },
  {
   "cell_type": "markdown",
   "id": "a5464cce",
   "metadata": {
    "papermill": {
     "duration": 0.038413,
     "end_time": "2022-08-23T14:02:41.426612",
     "exception": false,
     "start_time": "2022-08-23T14:02:41.388199",
     "status": "completed"
    },
    "tags": []
   },
   "source": [
    "#### Average Age per Pclass"
   ]
  },
  {
   "cell_type": "code",
   "execution_count": null,
   "id": "21d7c593",
   "metadata": {
    "execution": {
     "iopub.execute_input": "2022-08-23T14:02:41.505424Z",
     "iopub.status.busy": "2022-08-23T14:02:41.504715Z",
     "iopub.status.idle": "2022-08-23T14:02:41.508997Z",
     "shell.execute_reply": "2022-08-23T14:02:41.508286Z"
    },
    "papermill": {
     "duration": 0.045717,
     "end_time": "2022-08-23T14:02:41.511038",
     "exception": false,
     "start_time": "2022-08-23T14:02:41.465321",
     "status": "completed"
    },
    "tags": []
   },
   "outputs": [],
   "source": [
    "df_grp1=df.groupby(['Pclass'])\n",
    "#df_grp1.head()"
   ]
  },
  {
   "cell_type": "code",
   "execution_count": null,
   "id": "d008396e",
   "metadata": {
    "execution": {
     "iopub.execute_input": "2022-08-23T14:02:41.587591Z",
     "iopub.status.busy": "2022-08-23T14:02:41.587118Z",
     "iopub.status.idle": "2022-08-23T14:02:41.597761Z",
     "shell.execute_reply": "2022-08-23T14:02:41.596969Z"
    },
    "papermill": {
     "duration": 0.051127,
     "end_time": "2022-08-23T14:02:41.599761",
     "exception": false,
     "start_time": "2022-08-23T14:02:41.548634",
     "status": "completed"
    },
    "tags": []
   },
   "outputs": [],
   "source": [
    "#Average Age per Pclass\n",
    "df_grp1['Age'].mean()"
   ]
  },
  {
   "cell_type": "code",
   "execution_count": null,
   "id": "598cd090",
   "metadata": {
    "execution": {
     "iopub.execute_input": "2022-08-23T14:02:41.677277Z",
     "iopub.status.busy": "2022-08-23T14:02:41.676548Z",
     "iopub.status.idle": "2022-08-23T14:02:41.685761Z",
     "shell.execute_reply": "2022-08-23T14:02:41.684950Z"
    },
    "papermill": {
     "duration": 0.049897,
     "end_time": "2022-08-23T14:02:41.687686",
     "exception": false,
     "start_time": "2022-08-23T14:02:41.637789",
     "status": "completed"
    },
    "tags": []
   },
   "outputs": [],
   "source": [
    "# Min/Max age per Pclass\n",
    "df_grp1['Age'].min() #max()"
   ]
  },
  {
   "cell_type": "code",
   "execution_count": null,
   "id": "29cfb3c3",
   "metadata": {
    "execution": {
     "iopub.execute_input": "2022-08-23T14:02:41.765562Z",
     "iopub.status.busy": "2022-08-23T14:02:41.764743Z",
     "iopub.status.idle": "2022-08-23T14:02:41.772044Z",
     "shell.execute_reply": "2022-08-23T14:02:41.771313Z"
    },
    "papermill": {
     "duration": 0.0483,
     "end_time": "2022-08-23T14:02:41.774117",
     "exception": false,
     "start_time": "2022-08-23T14:02:41.725817",
     "status": "completed"
    },
    "tags": []
   },
   "outputs": [],
   "source": [
    "# Count\n",
    "df_grp1['Age'].count()"
   ]
  },
  {
   "cell_type": "markdown",
   "id": "2c854339",
   "metadata": {
    "papermill": {
     "duration": 0.03742,
     "end_time": "2022-08-23T14:02:41.849367",
     "exception": false,
     "start_time": "2022-08-23T14:02:41.811947",
     "status": "completed"
    },
    "tags": []
   },
   "source": []
  },
  {
   "cell_type": "markdown",
   "id": "756ad8b6",
   "metadata": {
    "papermill": {
     "duration": 0.038046,
     "end_time": "2022-08-23T14:02:41.924999",
     "exception": false,
     "start_time": "2022-08-23T14:02:41.886953",
     "status": "completed"
    },
    "tags": []
   },
   "source": [
    "#### Using agg() function.\n",
    "We can use the aggregate fucntion to aggregate results based on some column  or our custom condition"
   ]
  },
  {
   "cell_type": "code",
   "execution_count": null,
   "id": "6bf176ae",
   "metadata": {
    "execution": {
     "iopub.execute_input": "2022-08-23T14:02:42.003148Z",
     "iopub.status.busy": "2022-08-23T14:02:42.002447Z",
     "iopub.status.idle": "2022-08-23T14:02:42.019185Z",
     "shell.execute_reply": "2022-08-23T14:02:42.018043Z"
    },
    "papermill": {
     "duration": 0.058576,
     "end_time": "2022-08-23T14:02:42.021297",
     "exception": false,
     "start_time": "2022-08-23T14:02:41.962721",
     "status": "completed"
    },
    "tags": []
   },
   "outputs": [],
   "source": [
    "df=train.copy()\n",
    "df.head()"
   ]
  },
  {
   "cell_type": "code",
   "execution_count": null,
   "id": "712ec770",
   "metadata": {
    "execution": {
     "iopub.execute_input": "2022-08-23T14:02:42.101056Z",
     "iopub.status.busy": "2022-08-23T14:02:42.100373Z",
     "iopub.status.idle": "2022-08-23T14:02:42.113089Z",
     "shell.execute_reply": "2022-08-23T14:02:42.111949Z"
    },
    "papermill": {
     "duration": 0.055914,
     "end_time": "2022-08-23T14:02:42.115275",
     "exception": false,
     "start_time": "2022-08-23T14:02:42.059361",
     "status": "completed"
    },
    "tags": []
   },
   "outputs": [],
   "source": [
    "# Average per Pclass using 'agg' this time\n",
    "df_grp2=df.groupby(['Pclass']).agg({'Age':lambda x: np.mean(x)}) \n",
    "df_grp2.head()"
   ]
  },
  {
   "cell_type": "code",
   "execution_count": null,
   "id": "17c36170",
   "metadata": {
    "execution": {
     "iopub.execute_input": "2022-08-23T14:02:42.194867Z",
     "iopub.status.busy": "2022-08-23T14:02:42.193876Z",
     "iopub.status.idle": "2022-08-23T14:02:42.205797Z",
     "shell.execute_reply": "2022-08-23T14:02:42.204795Z"
    },
    "papermill": {
     "duration": 0.053718,
     "end_time": "2022-08-23T14:02:42.207788",
     "exception": false,
     "start_time": "2022-08-23T14:02:42.154070",
     "status": "completed"
    },
    "tags": []
   },
   "outputs": [],
   "source": [
    "# Min/Max,count,Sum for each Pclass usign agg function\n",
    "df_grp3=df.groupby(['Pclass']).agg({'Age':'min'}).rename(columns={'Age':'Min Age'})\n",
    "# Use 'max'/'sum' etc. for that operation. Note that this ignores 'nan' values.\n",
    "df_grp3.head()"
   ]
  },
  {
   "cell_type": "code",
   "execution_count": null,
   "id": "112df941",
   "metadata": {
    "execution": {
     "iopub.execute_input": "2022-08-23T14:02:42.286660Z",
     "iopub.status.busy": "2022-08-23T14:02:42.285965Z",
     "iopub.status.idle": "2022-08-23T14:02:42.297667Z",
     "shell.execute_reply": "2022-08-23T14:02:42.296827Z"
    },
    "papermill": {
     "duration": 0.053399,
     "end_time": "2022-08-23T14:02:42.299700",
     "exception": false,
     "start_time": "2022-08-23T14:02:42.246301",
     "status": "completed"
    },
    "tags": []
   },
   "outputs": [],
   "source": [
    "# Names of all the pasengers in that class.\n",
    "df_grp4=df.groupby(['Pclass']).agg({'Name':lambda x:', '.join(x)})\n",
    "df_grp4.head()"
   ]
  },
  {
   "cell_type": "code",
   "execution_count": null,
   "id": "3d4d6ee3",
   "metadata": {
    "execution": {
     "iopub.execute_input": "2022-08-23T14:02:42.379221Z",
     "iopub.status.busy": "2022-08-23T14:02:42.378530Z",
     "iopub.status.idle": "2022-08-23T14:02:42.393779Z",
     "shell.execute_reply": "2022-08-23T14:02:42.392977Z"
    },
    "papermill": {
     "duration": 0.057603,
     "end_time": "2022-08-23T14:02:42.396072",
     "exception": false,
     "start_time": "2022-08-23T14:02:42.338469",
     "status": "completed"
    },
    "tags": []
   },
   "outputs": [],
   "source": [
    "df.head()"
   ]
  },
  {
   "cell_type": "markdown",
   "id": "a9fa4b84",
   "metadata": {
    "papermill": {
     "duration": 0.038893,
     "end_time": "2022-08-23T14:02:42.474477",
     "exception": false,
     "start_time": "2022-08-23T14:02:42.435584",
     "status": "completed"
    },
    "tags": []
   },
   "source": [
    "##### Note one thing that we can use multile agg functions on a single attribute by providing list in value part."
   ]
  },
  {
   "cell_type": "code",
   "execution_count": 59,
   "id": "f6fc63f2",
   "metadata": {
    "execution": {
     "iopub.execute_input": "2022-08-23T14:02:42.554774Z",
     "iopub.status.busy": "2022-08-23T14:02:42.554057Z",
     "iopub.status.idle": "2022-08-23T14:02:42.568014Z",
     "shell.execute_reply": "2022-08-23T14:02:42.567240Z"
    },
    "papermill": {
     "duration": 0.056386,
     "end_time": "2022-08-23T14:02:42.570123",
     "exception": false,
     "start_time": "2022-08-23T14:02:42.513737",
     "status": "completed"
    },
    "tags": [],
    "ExecuteTime": {
     "end_time": "2023-11-08T22:18:32.882305600Z",
     "start_time": "2023-11-08T22:18:32.767530900Z"
    }
   },
   "outputs": [
    {
     "data": {
      "text/plain": "         Age      \n         max   min\nPclass            \n1.0     80.0  0.92\n2.0     70.0  0.67\n3.0     74.0  0.42",
      "text/html": "<div>\n<style scoped>\n    .dataframe tbody tr th:only-of-type {\n        vertical-align: middle;\n    }\n\n    .dataframe tbody tr th {\n        vertical-align: top;\n    }\n\n    .dataframe thead tr th {\n        text-align: left;\n    }\n\n    .dataframe thead tr:last-of-type th {\n        text-align: right;\n    }\n</style>\n<table border=\"1\" class=\"dataframe\">\n  <thead>\n    <tr>\n      <th></th>\n      <th colspan=\"2\" halign=\"left\">Age</th>\n    </tr>\n    <tr>\n      <th></th>\n      <th>max</th>\n      <th>min</th>\n    </tr>\n    <tr>\n      <th>Pclass</th>\n      <th></th>\n      <th></th>\n    </tr>\n  </thead>\n  <tbody>\n    <tr>\n      <th>1.0</th>\n      <td>80.0</td>\n      <td>0.92</td>\n    </tr>\n    <tr>\n      <th>2.0</th>\n      <td>70.0</td>\n      <td>0.67</td>\n    </tr>\n    <tr>\n      <th>3.0</th>\n      <td>74.0</td>\n      <td>0.42</td>\n    </tr>\n  </tbody>\n</table>\n</div>"
     },
     "execution_count": 59,
     "metadata": {},
     "output_type": "execute_result"
    }
   ],
   "source": [
    "df_grp5=df.groupby(['Pclass']).agg({'Age':['max','min']})\n",
    "df_grp5.head() # Creates a MultiOndex Dataframe"
   ]
  },
  {
   "cell_type": "code",
   "execution_count": 60,
   "outputs": [],
   "source": [
    "# Group the data by 'Sex' (gender) and calculate the average age per gender\n",
    "gender_avg_age = dataset.groupby('Sex')['Age'].mean()"
   ],
   "metadata": {
    "collapsed": false,
    "ExecuteTime": {
     "start_time": "2023-11-08T22:20:15.670494800Z"
    }
   },
   "id": "c6faaef4df85a8e9"
  },
  {
   "cell_type": "code",
   "execution_count": null,
   "id": "3ab4ae1f",
   "metadata": {
    "papermill": {
     "duration": 0.03874,
     "end_time": "2022-08-23T14:02:42.647916",
     "exception": false,
     "start_time": "2022-08-23T14:02:42.609176",
     "status": "completed"
    },
    "tags": []
   },
   "outputs": [],
   "source": []
  },
  {
   "cell_type": "code",
   "execution_count": 58,
   "outputs": [
    {
     "data": {
      "text/plain": "Sex\nfemale    27.915709\nmale      30.726645\nName: Age, dtype: float64"
     },
     "execution_count": 58,
     "metadata": {},
     "output_type": "execute_result"
    }
   ],
   "source": [
    "gender_avg_age"
   ],
   "metadata": {
    "collapsed": false,
    "ExecuteTime": {
     "start_time": "2023-11-08T22:17:14.515916900Z"
    }
   },
   "id": "4ce9d37b"
  },
  {
   "cell_type": "markdown",
   "source": [
    "## Bonus: Iterating over rows in dataframe"
   ],
   "metadata": {
    "collapsed": false
   },
   "id": "7d63de23"
  },
  {
   "cell_type": "code",
   "execution_count": 61,
   "id": "dda66ecd",
   "metadata": {
    "execution": {
     "iopub.execute_input": "2022-08-23T14:02:42.806325Z",
     "iopub.status.busy": "2022-08-23T14:02:42.805890Z",
     "iopub.status.idle": "2022-08-23T14:02:42.822551Z",
     "shell.execute_reply": "2022-08-23T14:02:42.821423Z"
    },
    "papermill": {
     "duration": 0.059481,
     "end_time": "2022-08-23T14:02:42.824773",
     "exception": false,
     "start_time": "2022-08-23T14:02:42.765292",
     "status": "completed"
    },
    "tags": [],
    "ExecuteTime": {
     "end_time": "2023-11-08T22:22:51.994526Z",
     "start_time": "2023-11-08T22:22:51.889964500Z"
    }
   },
   "outputs": [
    {
     "data": {
      "text/plain": "   PassengerId  Survived  Pclass  \\\n0            1         0       3   \n1            2         1       1   \n2            3         1       3   \n3            4         1       1   \n4            5         0       3   \n5            6         0       3   \n6            7         0       1   \n7            8         0       3   \n8            9         1       3   \n9           10         1       2   \n\n                                                Name     Sex   Age  SibSp  \\\n0                            Braund, Mr. Owen Harris    male  22.0      1   \n1  Cumings, Mrs. John Bradley (Florence Briggs Th...  female  38.0      1   \n2                             Heikkinen, Miss. Laina  female  26.0      0   \n3       Futrelle, Mrs. Jacques Heath (Lily May Peel)  female  35.0      1   \n4                           Allen, Mr. William Henry    male  35.0      0   \n5                                   Moran, Mr. James    male   NaN      0   \n6                            McCarthy, Mr. Timothy J    male  54.0      0   \n7                     Palsson, Master. Gosta Leonard    male   2.0      3   \n8  Johnson, Mrs. Oscar W (Elisabeth Vilhelmina Berg)  female  27.0      0   \n9                Nasser, Mrs. Nicholas (Adele Achem)  female  14.0      1   \n\n   Parch            Ticket     Fare Cabin Embarked  \n0      0         A/5 21171   7.2500   NaN        S  \n1      0          PC 17599  71.2833   C85        C  \n2      0  STON/O2. 3101282   7.9250   NaN        S  \n3      0            113803  53.1000  C123        S  \n4      0            373450   8.0500   NaN        S  \n5      0            330877   8.4583   NaN        Q  \n6      0             17463  51.8625   E46        S  \n7      1            349909  21.0750   NaN        S  \n8      2            347742  11.1333   NaN        S  \n9      0            237736  30.0708   NaN        C  ",
      "text/html": "<div>\n<style scoped>\n    .dataframe tbody tr th:only-of-type {\n        vertical-align: middle;\n    }\n\n    .dataframe tbody tr th {\n        vertical-align: top;\n    }\n\n    .dataframe thead th {\n        text-align: right;\n    }\n</style>\n<table border=\"1\" class=\"dataframe\">\n  <thead>\n    <tr style=\"text-align: right;\">\n      <th></th>\n      <th>PassengerId</th>\n      <th>Survived</th>\n      <th>Pclass</th>\n      <th>Name</th>\n      <th>Sex</th>\n      <th>Age</th>\n      <th>SibSp</th>\n      <th>Parch</th>\n      <th>Ticket</th>\n      <th>Fare</th>\n      <th>Cabin</th>\n      <th>Embarked</th>\n    </tr>\n  </thead>\n  <tbody>\n    <tr>\n      <th>0</th>\n      <td>1</td>\n      <td>0</td>\n      <td>3</td>\n      <td>Braund, Mr. Owen Harris</td>\n      <td>male</td>\n      <td>22.0</td>\n      <td>1</td>\n      <td>0</td>\n      <td>A/5 21171</td>\n      <td>7.2500</td>\n      <td>NaN</td>\n      <td>S</td>\n    </tr>\n    <tr>\n      <th>1</th>\n      <td>2</td>\n      <td>1</td>\n      <td>1</td>\n      <td>Cumings, Mrs. John Bradley (Florence Briggs Th...</td>\n      <td>female</td>\n      <td>38.0</td>\n      <td>1</td>\n      <td>0</td>\n      <td>PC 17599</td>\n      <td>71.2833</td>\n      <td>C85</td>\n      <td>C</td>\n    </tr>\n    <tr>\n      <th>2</th>\n      <td>3</td>\n      <td>1</td>\n      <td>3</td>\n      <td>Heikkinen, Miss. Laina</td>\n      <td>female</td>\n      <td>26.0</td>\n      <td>0</td>\n      <td>0</td>\n      <td>STON/O2. 3101282</td>\n      <td>7.9250</td>\n      <td>NaN</td>\n      <td>S</td>\n    </tr>\n    <tr>\n      <th>3</th>\n      <td>4</td>\n      <td>1</td>\n      <td>1</td>\n      <td>Futrelle, Mrs. Jacques Heath (Lily May Peel)</td>\n      <td>female</td>\n      <td>35.0</td>\n      <td>1</td>\n      <td>0</td>\n      <td>113803</td>\n      <td>53.1000</td>\n      <td>C123</td>\n      <td>S</td>\n    </tr>\n    <tr>\n      <th>4</th>\n      <td>5</td>\n      <td>0</td>\n      <td>3</td>\n      <td>Allen, Mr. William Henry</td>\n      <td>male</td>\n      <td>35.0</td>\n      <td>0</td>\n      <td>0</td>\n      <td>373450</td>\n      <td>8.0500</td>\n      <td>NaN</td>\n      <td>S</td>\n    </tr>\n    <tr>\n      <th>5</th>\n      <td>6</td>\n      <td>0</td>\n      <td>3</td>\n      <td>Moran, Mr. James</td>\n      <td>male</td>\n      <td>NaN</td>\n      <td>0</td>\n      <td>0</td>\n      <td>330877</td>\n      <td>8.4583</td>\n      <td>NaN</td>\n      <td>Q</td>\n    </tr>\n    <tr>\n      <th>6</th>\n      <td>7</td>\n      <td>0</td>\n      <td>1</td>\n      <td>McCarthy, Mr. Timothy J</td>\n      <td>male</td>\n      <td>54.0</td>\n      <td>0</td>\n      <td>0</td>\n      <td>17463</td>\n      <td>51.8625</td>\n      <td>E46</td>\n      <td>S</td>\n    </tr>\n    <tr>\n      <th>7</th>\n      <td>8</td>\n      <td>0</td>\n      <td>3</td>\n      <td>Palsson, Master. Gosta Leonard</td>\n      <td>male</td>\n      <td>2.0</td>\n      <td>3</td>\n      <td>1</td>\n      <td>349909</td>\n      <td>21.0750</td>\n      <td>NaN</td>\n      <td>S</td>\n    </tr>\n    <tr>\n      <th>8</th>\n      <td>9</td>\n      <td>1</td>\n      <td>3</td>\n      <td>Johnson, Mrs. Oscar W (Elisabeth Vilhelmina Berg)</td>\n      <td>female</td>\n      <td>27.0</td>\n      <td>0</td>\n      <td>2</td>\n      <td>347742</td>\n      <td>11.1333</td>\n      <td>NaN</td>\n      <td>S</td>\n    </tr>\n    <tr>\n      <th>9</th>\n      <td>10</td>\n      <td>1</td>\n      <td>2</td>\n      <td>Nasser, Mrs. Nicholas (Adele Achem)</td>\n      <td>female</td>\n      <td>14.0</td>\n      <td>1</td>\n      <td>0</td>\n      <td>237736</td>\n      <td>30.0708</td>\n      <td>NaN</td>\n      <td>C</td>\n    </tr>\n  </tbody>\n</table>\n</div>"
     },
     "execution_count": 61,
     "metadata": {},
     "output_type": "execute_result"
    }
   ],
   "source": [
    "df_10 = dataset.head(10)\n",
    "df_10"
   ]
  },
  {
   "cell_type": "code",
   "execution_count": 64,
   "id": "37697d96",
   "metadata": {
    "execution": {
     "iopub.execute_input": "2022-08-23T14:02:42.906454Z",
     "iopub.status.busy": "2022-08-23T14:02:42.905164Z",
     "iopub.status.idle": "2022-08-23T14:02:42.949216Z",
     "shell.execute_reply": "2022-08-23T14:02:42.948373Z"
    },
    "papermill": {
     "duration": 0.087175,
     "end_time": "2022-08-23T14:02:42.951642",
     "exception": false,
     "start_time": "2022-08-23T14:02:42.864467",
     "status": "completed"
    },
    "tags": [],
    "ExecuteTime": {
     "end_time": "2023-11-08T22:23:32.150988100Z",
     "start_time": "2023-11-08T22:23:32.043925500Z"
    }
   },
   "outputs": [
    {
     "name": "stdout",
     "output_type": "stream",
     "text": [
      "Index: 0, Name: Braund, Mr. Owen Harris, Age: 22.0, Cabin: nan\n",
      "Index: 1, Name: Cumings, Mrs. John Bradley (Florence Briggs Thayer), Age: 38.0, Cabin: C85\n",
      "Index: 2, Name: Heikkinen, Miss. Laina, Age: 26.0, Cabin: nan\n",
      "Index: 3, Name: Futrelle, Mrs. Jacques Heath (Lily May Peel), Age: 35.0, Cabin: C123\n",
      "Index: 4, Name: Allen, Mr. William Henry, Age: 35.0, Cabin: nan\n",
      "Index: 5, Name: Moran, Mr. James, Age: nan, Cabin: nan\n",
      "Index: 6, Name: McCarthy, Mr. Timothy J, Age: 54.0, Cabin: E46\n",
      "Index: 7, Name: Palsson, Master. Gosta Leonard, Age: 2.0, Cabin: nan\n",
      "Index: 8, Name: Johnson, Mrs. Oscar W (Elisabeth Vilhelmina Berg), Age: 27.0, Cabin: nan\n",
      "Index: 9, Name: Nasser, Mrs. Nicholas (Adele Achem), Age: 14.0, Cabin: nan\n"
     ]
    }
   ],
   "source": [
    "for index,row in df_10.iterrows():\n",
    "    print(f\"Index: {index}, Name: {row['Name']}, Age: {row['Age']}, Cabin: {row['Cabin']}\")\n",
    "    pass"
   ]
  },
  {
   "cell_type": "code",
   "execution_count": null,
   "metadata": {},
   "outputs": [],
   "source": [],
   "id": "3617a41a58f3c251"
  },
  {
   "cell_type": "markdown",
   "source": [
    "## Bonus: Adding new tasks\n",
    "* Counting Survivors by Gender.\n",
    "* Calculating Age Statistics.\n",
    "* Cabin Class Statistics.\n",
    "* Grouped Survival Rates.\n",
    "* Finding the Oldest and Youngest Passengers.\n",
    "* Ticket Fare Statistics."
   ],
   "metadata": {
    "collapsed": false
   },
   "id": "bef0cc96b2872c6a"
  },
  {
   "cell_type": "code",
   "execution_count": null,
   "outputs": [],
   "source": [],
   "metadata": {
    "collapsed": false
   },
   "id": "468262c20eec0e1e"
  }
 ],
 "metadata": {
  "kernelspec": {
   "display_name": "Python 3",
   "language": "python",
   "name": "python3"
  },
  "language_info": {
   "codemirror_mode": {
    "name": "ipython",
    "version": 3
   },
   "file_extension": ".py",
   "mimetype": "text/x-python",
   "name": "python",
   "nbconvert_exporter": "python",
   "pygments_lexer": "ipython3",
   "version": "3.12.0"
  },
  "papermill": {
   "default_parameters": {},
   "duration": 19.874071,
   "end_time": "2022-08-23T14:02:44.593580",
   "environment_variables": {},
   "exception": null,
   "input_path": "__notebook__.ipynb",
   "output_path": "__notebook__.ipynb",
   "parameters": {},
   "start_time": "2022-08-23T14:02:24.719509",
   "version": "2.3.4"
  }
 },
 "nbformat": 4,
 "nbformat_minor": 5
}
